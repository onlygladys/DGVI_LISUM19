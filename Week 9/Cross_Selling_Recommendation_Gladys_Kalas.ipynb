{
  "cells": [
    {
      "cell_type": "markdown",
      "metadata": {
        "id": "iWOpIwoR6Ad3"
      },
      "source": [
        "# Test Data\n",
        "\n"
      ]
    },
    {
      "cell_type": "code",
      "execution_count": 3,
      "metadata": {
        "id": "-kq9-9FETaQF"
      },
      "outputs": [],
      "source": [
        "#Test Data\n",
        "import pandas as pd\n"
      ]
    },
    {
      "cell_type": "code",
      "execution_count": 4,
      "metadata": {
        "id": "pYE85-m_Vtfd",
        "colab": {
          "base_uri": "https://localhost:8080/",
          "height": 369
        },
        "outputId": "45a3f0f6-4c31-4185-f31c-5e316b523cc6"
      },
      "outputs": [
        {
          "output_type": "execute_result",
          "data": {
            "text/plain": [
              "   fecha_dato  ncodpers ind_empleado pais_residencia sexo  age  fecha_alta  \\\n",
              "0  2016-06-28     15889            F              ES    V   56  1995-01-16   \n",
              "1  2016-06-28   1170544            N              ES    H   36  2013-08-28   \n",
              "2  2016-06-28   1170545            N              ES    V   22  2013-08-28   \n",
              "3  2016-06-28   1170547            N              ES    H   22  2013-08-28   \n",
              "4  2016-06-28   1170548            N              ES    H   22  2013-08-28   \n",
              "\n",
              "   ind_nuevo  antiguedad  indrel  ... indext  conyuemp canal_entrada indfall  \\\n",
              "0          0         256       1  ...      N         N           KAT       N   \n",
              "1          0          34       1  ...      N       NaN           KAT       N   \n",
              "2          0          34       1  ...      N       NaN           KHE       N   \n",
              "3          0          34       1  ...      N       NaN           KHE       N   \n",
              "4          0          34       1  ...      N       NaN           KHE       N   \n",
              "\n",
              "  tipodom cod_prov         nomprov ind_actividad_cliente        renta  \\\n",
              "0       1     28.0          MADRID                     1    326124.90   \n",
              "1       1      3.0        ALICANTE                     0           NA   \n",
              "2       1     15.0       CORUÑA, A                     1           NA   \n",
              "3       1      8.0       BARCELONA                     0    148402.98   \n",
              "4       1      7.0  BALEARS, ILLES                     0    106885.80   \n",
              "\n",
              "             segmento  \n",
              "0            01 - TOP  \n",
              "1   02 - PARTICULARES  \n",
              "2  03 - UNIVERSITARIO  \n",
              "3  03 - UNIVERSITARIO  \n",
              "4  03 - UNIVERSITARIO  \n",
              "\n",
              "[5 rows x 24 columns]"
            ],
            "text/html": [
              "\n",
              "  <div id=\"df-f8448623-e567-43a8-aba1-4deefe34bef2\">\n",
              "    <div class=\"colab-df-container\">\n",
              "      <div>\n",
              "<style scoped>\n",
              "    .dataframe tbody tr th:only-of-type {\n",
              "        vertical-align: middle;\n",
              "    }\n",
              "\n",
              "    .dataframe tbody tr th {\n",
              "        vertical-align: top;\n",
              "    }\n",
              "\n",
              "    .dataframe thead th {\n",
              "        text-align: right;\n",
              "    }\n",
              "</style>\n",
              "<table border=\"1\" class=\"dataframe\">\n",
              "  <thead>\n",
              "    <tr style=\"text-align: right;\">\n",
              "      <th></th>\n",
              "      <th>fecha_dato</th>\n",
              "      <th>ncodpers</th>\n",
              "      <th>ind_empleado</th>\n",
              "      <th>pais_residencia</th>\n",
              "      <th>sexo</th>\n",
              "      <th>age</th>\n",
              "      <th>fecha_alta</th>\n",
              "      <th>ind_nuevo</th>\n",
              "      <th>antiguedad</th>\n",
              "      <th>indrel</th>\n",
              "      <th>...</th>\n",
              "      <th>indext</th>\n",
              "      <th>conyuemp</th>\n",
              "      <th>canal_entrada</th>\n",
              "      <th>indfall</th>\n",
              "      <th>tipodom</th>\n",
              "      <th>cod_prov</th>\n",
              "      <th>nomprov</th>\n",
              "      <th>ind_actividad_cliente</th>\n",
              "      <th>renta</th>\n",
              "      <th>segmento</th>\n",
              "    </tr>\n",
              "  </thead>\n",
              "  <tbody>\n",
              "    <tr>\n",
              "      <th>0</th>\n",
              "      <td>2016-06-28</td>\n",
              "      <td>15889</td>\n",
              "      <td>F</td>\n",
              "      <td>ES</td>\n",
              "      <td>V</td>\n",
              "      <td>56</td>\n",
              "      <td>1995-01-16</td>\n",
              "      <td>0</td>\n",
              "      <td>256</td>\n",
              "      <td>1</td>\n",
              "      <td>...</td>\n",
              "      <td>N</td>\n",
              "      <td>N</td>\n",
              "      <td>KAT</td>\n",
              "      <td>N</td>\n",
              "      <td>1</td>\n",
              "      <td>28.0</td>\n",
              "      <td>MADRID</td>\n",
              "      <td>1</td>\n",
              "      <td>326124.90</td>\n",
              "      <td>01 - TOP</td>\n",
              "    </tr>\n",
              "    <tr>\n",
              "      <th>1</th>\n",
              "      <td>2016-06-28</td>\n",
              "      <td>1170544</td>\n",
              "      <td>N</td>\n",
              "      <td>ES</td>\n",
              "      <td>H</td>\n",
              "      <td>36</td>\n",
              "      <td>2013-08-28</td>\n",
              "      <td>0</td>\n",
              "      <td>34</td>\n",
              "      <td>1</td>\n",
              "      <td>...</td>\n",
              "      <td>N</td>\n",
              "      <td>NaN</td>\n",
              "      <td>KAT</td>\n",
              "      <td>N</td>\n",
              "      <td>1</td>\n",
              "      <td>3.0</td>\n",
              "      <td>ALICANTE</td>\n",
              "      <td>0</td>\n",
              "      <td>NA</td>\n",
              "      <td>02 - PARTICULARES</td>\n",
              "    </tr>\n",
              "    <tr>\n",
              "      <th>2</th>\n",
              "      <td>2016-06-28</td>\n",
              "      <td>1170545</td>\n",
              "      <td>N</td>\n",
              "      <td>ES</td>\n",
              "      <td>V</td>\n",
              "      <td>22</td>\n",
              "      <td>2013-08-28</td>\n",
              "      <td>0</td>\n",
              "      <td>34</td>\n",
              "      <td>1</td>\n",
              "      <td>...</td>\n",
              "      <td>N</td>\n",
              "      <td>NaN</td>\n",
              "      <td>KHE</td>\n",
              "      <td>N</td>\n",
              "      <td>1</td>\n",
              "      <td>15.0</td>\n",
              "      <td>CORUÑA, A</td>\n",
              "      <td>1</td>\n",
              "      <td>NA</td>\n",
              "      <td>03 - UNIVERSITARIO</td>\n",
              "    </tr>\n",
              "    <tr>\n",
              "      <th>3</th>\n",
              "      <td>2016-06-28</td>\n",
              "      <td>1170547</td>\n",
              "      <td>N</td>\n",
              "      <td>ES</td>\n",
              "      <td>H</td>\n",
              "      <td>22</td>\n",
              "      <td>2013-08-28</td>\n",
              "      <td>0</td>\n",
              "      <td>34</td>\n",
              "      <td>1</td>\n",
              "      <td>...</td>\n",
              "      <td>N</td>\n",
              "      <td>NaN</td>\n",
              "      <td>KHE</td>\n",
              "      <td>N</td>\n",
              "      <td>1</td>\n",
              "      <td>8.0</td>\n",
              "      <td>BARCELONA</td>\n",
              "      <td>0</td>\n",
              "      <td>148402.98</td>\n",
              "      <td>03 - UNIVERSITARIO</td>\n",
              "    </tr>\n",
              "    <tr>\n",
              "      <th>4</th>\n",
              "      <td>2016-06-28</td>\n",
              "      <td>1170548</td>\n",
              "      <td>N</td>\n",
              "      <td>ES</td>\n",
              "      <td>H</td>\n",
              "      <td>22</td>\n",
              "      <td>2013-08-28</td>\n",
              "      <td>0</td>\n",
              "      <td>34</td>\n",
              "      <td>1</td>\n",
              "      <td>...</td>\n",
              "      <td>N</td>\n",
              "      <td>NaN</td>\n",
              "      <td>KHE</td>\n",
              "      <td>N</td>\n",
              "      <td>1</td>\n",
              "      <td>7.0</td>\n",
              "      <td>BALEARS, ILLES</td>\n",
              "      <td>0</td>\n",
              "      <td>106885.80</td>\n",
              "      <td>03 - UNIVERSITARIO</td>\n",
              "    </tr>\n",
              "  </tbody>\n",
              "</table>\n",
              "<p>5 rows × 24 columns</p>\n",
              "</div>\n",
              "      <button class=\"colab-df-convert\" onclick=\"convertToInteractive('df-f8448623-e567-43a8-aba1-4deefe34bef2')\"\n",
              "              title=\"Convert this dataframe to an interactive table.\"\n",
              "              style=\"display:none;\">\n",
              "        \n",
              "  <svg xmlns=\"http://www.w3.org/2000/svg\" height=\"24px\"viewBox=\"0 0 24 24\"\n",
              "       width=\"24px\">\n",
              "    <path d=\"M0 0h24v24H0V0z\" fill=\"none\"/>\n",
              "    <path d=\"M18.56 5.44l.94 2.06.94-2.06 2.06-.94-2.06-.94-.94-2.06-.94 2.06-2.06.94zm-11 1L8.5 8.5l.94-2.06 2.06-.94-2.06-.94L8.5 2.5l-.94 2.06-2.06.94zm10 10l.94 2.06.94-2.06 2.06-.94-2.06-.94-.94-2.06-.94 2.06-2.06.94z\"/><path d=\"M17.41 7.96l-1.37-1.37c-.4-.4-.92-.59-1.43-.59-.52 0-1.04.2-1.43.59L10.3 9.45l-7.72 7.72c-.78.78-.78 2.05 0 2.83L4 21.41c.39.39.9.59 1.41.59.51 0 1.02-.2 1.41-.59l7.78-7.78 2.81-2.81c.8-.78.8-2.07 0-2.86zM5.41 20L4 18.59l7.72-7.72 1.47 1.35L5.41 20z\"/>\n",
              "  </svg>\n",
              "      </button>\n",
              "      \n",
              "  <style>\n",
              "    .colab-df-container {\n",
              "      display:flex;\n",
              "      flex-wrap:wrap;\n",
              "      gap: 12px;\n",
              "    }\n",
              "\n",
              "    .colab-df-convert {\n",
              "      background-color: #E8F0FE;\n",
              "      border: none;\n",
              "      border-radius: 50%;\n",
              "      cursor: pointer;\n",
              "      display: none;\n",
              "      fill: #1967D2;\n",
              "      height: 32px;\n",
              "      padding: 0 0 0 0;\n",
              "      width: 32px;\n",
              "    }\n",
              "\n",
              "    .colab-df-convert:hover {\n",
              "      background-color: #E2EBFA;\n",
              "      box-shadow: 0px 1px 2px rgba(60, 64, 67, 0.3), 0px 1px 3px 1px rgba(60, 64, 67, 0.15);\n",
              "      fill: #174EA6;\n",
              "    }\n",
              "\n",
              "    [theme=dark] .colab-df-convert {\n",
              "      background-color: #3B4455;\n",
              "      fill: #D2E3FC;\n",
              "    }\n",
              "\n",
              "    [theme=dark] .colab-df-convert:hover {\n",
              "      background-color: #434B5C;\n",
              "      box-shadow: 0px 1px 3px 1px rgba(0, 0, 0, 0.15);\n",
              "      filter: drop-shadow(0px 1px 2px rgba(0, 0, 0, 0.3));\n",
              "      fill: #FFFFFF;\n",
              "    }\n",
              "  </style>\n",
              "\n",
              "      <script>\n",
              "        const buttonEl =\n",
              "          document.querySelector('#df-f8448623-e567-43a8-aba1-4deefe34bef2 button.colab-df-convert');\n",
              "        buttonEl.style.display =\n",
              "          google.colab.kernel.accessAllowed ? 'block' : 'none';\n",
              "\n",
              "        async function convertToInteractive(key) {\n",
              "          const element = document.querySelector('#df-f8448623-e567-43a8-aba1-4deefe34bef2');\n",
              "          const dataTable =\n",
              "            await google.colab.kernel.invokeFunction('convertToInteractive',\n",
              "                                                     [key], {});\n",
              "          if (!dataTable) return;\n",
              "\n",
              "          const docLinkHtml = 'Like what you see? Visit the ' +\n",
              "            '<a target=\"_blank\" href=https://colab.research.google.com/notebooks/data_table.ipynb>data table notebook</a>'\n",
              "            + ' to learn more about interactive tables.';\n",
              "          element.innerHTML = '';\n",
              "          dataTable['output_type'] = 'display_data';\n",
              "          await google.colab.output.renderOutput(dataTable, element);\n",
              "          const docLink = document.createElement('div');\n",
              "          docLink.innerHTML = docLinkHtml;\n",
              "          element.appendChild(docLink);\n",
              "        }\n",
              "      </script>\n",
              "    </div>\n",
              "  </div>\n",
              "  "
            ]
          },
          "metadata": {},
          "execution_count": 4
        }
      ],
      "source": [
        "path1=\"/content/drive/MyDrive/Cross_Selling/Test.csv\"\n",
        "dftest=pd.read_csv(path1,low_memory=False)\n",
        "dftest.head(5)"
      ]
    },
    {
      "cell_type": "code",
      "source": [
        "#Rename column names from Spanish to English :\n",
        "\n",
        "dftest.rename(columns={'fecha_dato': 'Date','ncodpers': 'Customer_code','ind_empleado': 'Employee_index','pais_residencia': 'Country','sexo': 'Gender','age': 'Age','fecha_alta': 'Customer_join_date','ind_nuevo': 'Customer_index','antiguedad': 'Customer_seniority','indrel': 'primary_customer','ult_fec_cli_1t': 'Customer_leave_date','indrel_1mes': 'Customer_type','tiprel_1mes': 'Customer_relation','indresi': 'Residence_index','indext': 'Foreigner_index','conyuemp': 'Spouse_index','canal_entrada': 'Channel','indfall': 'Deceased_index','tipodom': 'Primary_Address','cod_prov': 'Customer_address','nomprov': 'province_name','ind_actividad_cliente': 'Activity_index','renta': 'Gross_income','segmento': 'Segmentation','ind_ahor_fin_ult1': 'Saving_account','ind_aval_fin_ult1': 'Guarantees','ind_cco_fin_ult1': 'Current_accounts','ind_cder_fin_ult1': 'Derivative_account','ind_cno_fin_ult1': 'Payroll_account','ind_ctju_fin_ult1': 'Junior_account','ind_ctma_fin_ult1': 'More_private_account','ind_ctop_fin_ult1': 'Private_account','ind_ctpp_fin_ult1': 'Private_plus_account','ind_deco_fin_ult1': 'Short_term_deposits','ind_deme_fin_ult1': 'Medium_term_deposits','ind_dela_fin_ult1': 'Long_term_deposits','ind_ecue_fin_ult1': 'E_Account','ind_fond_fin_ult1': 'Funds','ind_hip_fin_ult1': 'Mortgage','ind_plan_fin_ult1': 'Pensions','ind_pres_fin_ult1': 'Loans','ind_reca_fin_ult1': 'Taxes','ind_tjcr_fin_ult1': 'Credit_card','ind_valo_fin_ult1': 'Securities','ind_viv_fin_ult1': 'Home_account','ind_nomina_ult1': 'Payroll','ind_nom_pens_ult1': 'Pensions_2','ind_recibo_ult1': 'Direct_debit'}, inplace=True)"
      ],
      "metadata": {
        "id": "bdk0wUiHEgO8"
      },
      "execution_count": null,
      "outputs": []
    },
    {
      "cell_type": "code",
      "execution_count": null,
      "metadata": {
        "id": "QIzj4lxeVtib",
        "colab": {
          "base_uri": "https://localhost:8080/"
        },
        "outputId": "0665248e-020f-47bc-a8a1-cbfe86498c4c"
      },
      "outputs": [
        {
          "output_type": "stream",
          "name": "stdout",
          "text": [
            "105.181\n"
          ]
        }
      ],
      "source": [
        "import os\n",
        "file_path = \"/content/drive/MyDrive/Cross_Selling/Test.csv\"\n",
        "\n",
        "def get_size(file_path, unit='bytes'):\n",
        "    file_size = os.path.getsize(file_path)\n",
        "    exponents_map = {'bytes': 0, 'kb': 1, 'mb': 2, 'gb': 3}\n",
        "    if unit not in exponents_map:\n",
        "        raise ValueError(\"Must select from \\\n",
        "        ['bytes', 'kb', 'mb', 'gb']\")\n",
        "    else:\n",
        "        size = file_size / 1024 ** exponents_map[unit]\n",
        "        return round(size, 3)\n",
        "\n",
        "\n",
        "print(get_size(file_path,'mb'))\n"
      ]
    },
    {
      "cell_type": "code",
      "execution_count": null,
      "metadata": {
        "id": "dYHtyW0XVtl9",
        "colab": {
          "base_uri": "https://localhost:8080/"
        },
        "outputId": "824db33f-594d-4516-f14d-925bd5098289"
      },
      "outputs": [
        {
          "output_type": "stream",
          "name": "stdout",
          "text": [
            "<class 'pandas.core.frame.DataFrame'>\n",
            "RangeIndex: 929615 entries, 0 to 929614\n",
            "Data columns (total 24 columns):\n",
            " #   Column               Non-Null Count   Dtype  \n",
            "---  ------               --------------   -----  \n",
            " 0   Date                 929615 non-null  object \n",
            " 1   Customer_code        929615 non-null  int64  \n",
            " 2   Employee_index       929615 non-null  object \n",
            " 3   Country              929615 non-null  object \n",
            " 4   Gender               929610 non-null  object \n",
            " 5   Age                  929615 non-null  int64  \n",
            " 6   Customer_join_date   929615 non-null  object \n",
            " 7   Customer_index       929615 non-null  int64  \n",
            " 8   Customer_seniority   929615 non-null  int64  \n",
            " 9   primary_customer     929615 non-null  int64  \n",
            " 10  Customer_leave_date  1683 non-null    object \n",
            " 11  Customer_type        929592 non-null  float64\n",
            " 12  Customer_relation    929592 non-null  object \n",
            " 13  Residence_index      929615 non-null  object \n",
            " 14  Foreigner_index      929615 non-null  object \n",
            " 15  Spouse_index         104 non-null     object \n",
            " 16  Channel              927534 non-null  object \n",
            " 17  Deceased_index       929615 non-null  object \n",
            " 18  Primary_Address      929615 non-null  int64  \n",
            " 19  Customer_address     925619 non-null  float64\n",
            " 20  province_name        925619 non-null  object \n",
            " 21  Activity_index       929615 non-null  int64  \n",
            " 22  Gross_income         929615 non-null  object \n",
            " 23  Segmentation         927367 non-null  object \n",
            "dtypes: float64(2), int64(7), object(15)\n",
            "memory usage: 170.2+ MB\n"
          ]
        }
      ],
      "source": [
        "dftest.info()"
      ]
    },
    {
      "cell_type": "code",
      "execution_count": null,
      "metadata": {
        "id": "O2cpW6t9WjHq",
        "colab": {
          "base_uri": "https://localhost:8080/"
        },
        "outputId": "795a71d8-a131-4191-eeb8-dd44e9564b79"
      },
      "outputs": [
        {
          "output_type": "execute_result",
          "data": {
            "text/plain": [
              "929615"
            ]
          },
          "metadata": {},
          "execution_count": 7
        }
      ],
      "source": [
        "len(dftest)"
      ]
    },
    {
      "cell_type": "code",
      "execution_count": null,
      "metadata": {
        "id": "dJdkevDxWjJj",
        "colab": {
          "base_uri": "https://localhost:8080/"
        },
        "outputId": "cbb182e7-a9f0-4a6f-f7eb-1eece3f6e10d"
      },
      "outputs": [
        {
          "output_type": "execute_result",
          "data": {
            "text/plain": [
              "24"
            ]
          },
          "metadata": {},
          "execution_count": 8
        }
      ],
      "source": [
        "len(dftest.columns)"
      ]
    },
    {
      "cell_type": "markdown",
      "metadata": {
        "id": "9A9-lmXJ6POs"
      },
      "source": [
        "# Train Data"
      ]
    },
    {
      "cell_type": "code",
      "execution_count": null,
      "metadata": {
        "id": "aUKkF9yn_TRp"
      },
      "outputs": [],
      "source": [
        "# Train Data Set:\n",
        "#Size of the file on drive in GB:"
      ]
    },
    {
      "cell_type": "code",
      "execution_count": null,
      "metadata": {
        "id": "MpPAQxMlaPG9",
        "colab": {
          "base_uri": "https://localhost:8080/"
        },
        "outputId": "0327a6b9-06a8-4fcc-ed18-e139727039af"
      },
      "outputs": [
        {
          "output_type": "stream",
          "name": "stdout",
          "text": [
            "Size of the Train data set is 2.135 GB\n"
          ]
        }
      ],
      "source": [
        "import os\n",
        "file_path = \"/content/drive/MyDrive/Cross_Selling/Train.csv\"\n",
        "\n",
        "def get_size(file_path, unit='bytes'):\n",
        "    file_size = os.path.getsize(file_path)\n",
        "    exponents_map = {'bytes': 0, 'kb': 1, 'mb': 2, 'gb': 3}\n",
        "    if unit not in exponents_map:\n",
        "        raise ValueError(\"Must select from \\\n",
        "        ['bytes', 'kb', 'mb', 'gb']\")\n",
        "    else:\n",
        "        size = file_size / 1024 ** exponents_map[unit]\n",
        "        return round(size, 3)\n",
        "\n",
        "\n",
        "print ('Size of the Train data set is',(get_size(file_path,'gb')),'GB')"
      ]
    },
    {
      "cell_type": "code",
      "execution_count": null,
      "metadata": {
        "id": "YJvwpL45Y2G-"
      },
      "outputs": [],
      "source": [
        "#Import Libraries:\n",
        "\n",
        "import pandas as pd\n",
        "from pandas.api.types import is_numeric_dtype\n",
        "import warnings\n",
        "warnings.filterwarnings('ignore')\n",
        "import seaborn as sns\n",
        "import matplotlib.pyplot as plt\n",
        "from datetime import datetime \n",
        "import numpy as np \n",
        "import time"
      ]
    },
    {
      "cell_type": "code",
      "execution_count": null,
      "metadata": {
        "id": "-95l1SDJeayF"
      },
      "outputs": [],
      "source": [
        "# Location of the Train dataset on the drive:\n",
        "\n",
        "path2=\"/content/drive/MyDrive/Cross_Selling/Train.csv\""
      ]
    },
    {
      "cell_type": "code",
      "execution_count": null,
      "metadata": {
        "id": "GCUm51U2Y2Jm"
      },
      "outputs": [],
      "source": [
        "#Load the Train data set in chunks as the file is large:\n",
        "\n",
        "dftrain = pd.DataFrame()\n",
        "for chunk in pd.read_csv(path2, chunksize = 100000, low_memory=False):\n",
        "   dftrain=pd.concat([dftrain,chunk])"
      ]
    },
    {
      "cell_type": "code",
      "source": [
        "dftrain.head(7)"
      ],
      "metadata": {
        "id": "T6Y3DiehQMBG",
        "colab": {
          "base_uri": "https://localhost:8080/",
          "height": 362
        },
        "outputId": "5621d175-20cf-4ba8-b720-a1bc57845f47"
      },
      "execution_count": null,
      "outputs": [
        {
          "output_type": "execute_result",
          "data": {
            "text/plain": [
              "   fecha_dato  ncodpers ind_empleado pais_residencia sexo  age  fecha_alta  \\\n",
              "0  2015-01-28   1375586            N              ES    H   35  2015-01-12   \n",
              "1  2015-01-28   1050611            N              ES    V   23  2012-08-10   \n",
              "2  2015-01-28   1050612            N              ES    V   23  2012-08-10   \n",
              "3  2015-01-28   1050613            N              ES    H   22  2012-08-10   \n",
              "4  2015-01-28   1050614            N              ES    V   23  2012-08-10   \n",
              "5  2015-01-28   1050615            N              ES    H   23  2012-08-10   \n",
              "6  2015-01-28   1050616            N              ES    H   23  2012-08-10   \n",
              "\n",
              "   ind_nuevo antiguedad  indrel  ... ind_hip_fin_ult1 ind_plan_fin_ult1  \\\n",
              "0        0.0          6     1.0  ...                0                 0   \n",
              "1        0.0         35     1.0  ...                0                 0   \n",
              "2        0.0         35     1.0  ...                0                 0   \n",
              "3        0.0         35     1.0  ...                0                 0   \n",
              "4        0.0         35     1.0  ...                0                 0   \n",
              "5        0.0         35     1.0  ...                0                 0   \n",
              "6        0.0         35     1.0  ...                0                 0   \n",
              "\n",
              "  ind_pres_fin_ult1 ind_reca_fin_ult1 ind_tjcr_fin_ult1 ind_valo_fin_ult1  \\\n",
              "0                 0                 0                 0                 0   \n",
              "1                 0                 0                 0                 0   \n",
              "2                 0                 0                 0                 0   \n",
              "3                 0                 0                 0                 0   \n",
              "4                 0                 0                 0                 0   \n",
              "5                 0                 0                 0                 0   \n",
              "6                 0                 0                 0                 0   \n",
              "\n",
              "  ind_viv_fin_ult1 ind_nomina_ult1  ind_nom_pens_ult1  ind_recibo_ult1  \n",
              "0                0             0.0                0.0                0  \n",
              "1                0             0.0                0.0                0  \n",
              "2                0             0.0                0.0                0  \n",
              "3                0             0.0                0.0                0  \n",
              "4                0             0.0                0.0                0  \n",
              "5                0             0.0                0.0                0  \n",
              "6                0             0.0                0.0                0  \n",
              "\n",
              "[7 rows x 48 columns]"
            ],
            "text/html": [
              "\n",
              "  <div id=\"df-0376aec3-48ac-48a5-8f19-0ce0d476672e\">\n",
              "    <div class=\"colab-df-container\">\n",
              "      <div>\n",
              "<style scoped>\n",
              "    .dataframe tbody tr th:only-of-type {\n",
              "        vertical-align: middle;\n",
              "    }\n",
              "\n",
              "    .dataframe tbody tr th {\n",
              "        vertical-align: top;\n",
              "    }\n",
              "\n",
              "    .dataframe thead th {\n",
              "        text-align: right;\n",
              "    }\n",
              "</style>\n",
              "<table border=\"1\" class=\"dataframe\">\n",
              "  <thead>\n",
              "    <tr style=\"text-align: right;\">\n",
              "      <th></th>\n",
              "      <th>fecha_dato</th>\n",
              "      <th>ncodpers</th>\n",
              "      <th>ind_empleado</th>\n",
              "      <th>pais_residencia</th>\n",
              "      <th>sexo</th>\n",
              "      <th>age</th>\n",
              "      <th>fecha_alta</th>\n",
              "      <th>ind_nuevo</th>\n",
              "      <th>antiguedad</th>\n",
              "      <th>indrel</th>\n",
              "      <th>...</th>\n",
              "      <th>ind_hip_fin_ult1</th>\n",
              "      <th>ind_plan_fin_ult1</th>\n",
              "      <th>ind_pres_fin_ult1</th>\n",
              "      <th>ind_reca_fin_ult1</th>\n",
              "      <th>ind_tjcr_fin_ult1</th>\n",
              "      <th>ind_valo_fin_ult1</th>\n",
              "      <th>ind_viv_fin_ult1</th>\n",
              "      <th>ind_nomina_ult1</th>\n",
              "      <th>ind_nom_pens_ult1</th>\n",
              "      <th>ind_recibo_ult1</th>\n",
              "    </tr>\n",
              "  </thead>\n",
              "  <tbody>\n",
              "    <tr>\n",
              "      <th>0</th>\n",
              "      <td>2015-01-28</td>\n",
              "      <td>1375586</td>\n",
              "      <td>N</td>\n",
              "      <td>ES</td>\n",
              "      <td>H</td>\n",
              "      <td>35</td>\n",
              "      <td>2015-01-12</td>\n",
              "      <td>0.0</td>\n",
              "      <td>6</td>\n",
              "      <td>1.0</td>\n",
              "      <td>...</td>\n",
              "      <td>0</td>\n",
              "      <td>0</td>\n",
              "      <td>0</td>\n",
              "      <td>0</td>\n",
              "      <td>0</td>\n",
              "      <td>0</td>\n",
              "      <td>0</td>\n",
              "      <td>0.0</td>\n",
              "      <td>0.0</td>\n",
              "      <td>0</td>\n",
              "    </tr>\n",
              "    <tr>\n",
              "      <th>1</th>\n",
              "      <td>2015-01-28</td>\n",
              "      <td>1050611</td>\n",
              "      <td>N</td>\n",
              "      <td>ES</td>\n",
              "      <td>V</td>\n",
              "      <td>23</td>\n",
              "      <td>2012-08-10</td>\n",
              "      <td>0.0</td>\n",
              "      <td>35</td>\n",
              "      <td>1.0</td>\n",
              "      <td>...</td>\n",
              "      <td>0</td>\n",
              "      <td>0</td>\n",
              "      <td>0</td>\n",
              "      <td>0</td>\n",
              "      <td>0</td>\n",
              "      <td>0</td>\n",
              "      <td>0</td>\n",
              "      <td>0.0</td>\n",
              "      <td>0.0</td>\n",
              "      <td>0</td>\n",
              "    </tr>\n",
              "    <tr>\n",
              "      <th>2</th>\n",
              "      <td>2015-01-28</td>\n",
              "      <td>1050612</td>\n",
              "      <td>N</td>\n",
              "      <td>ES</td>\n",
              "      <td>V</td>\n",
              "      <td>23</td>\n",
              "      <td>2012-08-10</td>\n",
              "      <td>0.0</td>\n",
              "      <td>35</td>\n",
              "      <td>1.0</td>\n",
              "      <td>...</td>\n",
              "      <td>0</td>\n",
              "      <td>0</td>\n",
              "      <td>0</td>\n",
              "      <td>0</td>\n",
              "      <td>0</td>\n",
              "      <td>0</td>\n",
              "      <td>0</td>\n",
              "      <td>0.0</td>\n",
              "      <td>0.0</td>\n",
              "      <td>0</td>\n",
              "    </tr>\n",
              "    <tr>\n",
              "      <th>3</th>\n",
              "      <td>2015-01-28</td>\n",
              "      <td>1050613</td>\n",
              "      <td>N</td>\n",
              "      <td>ES</td>\n",
              "      <td>H</td>\n",
              "      <td>22</td>\n",
              "      <td>2012-08-10</td>\n",
              "      <td>0.0</td>\n",
              "      <td>35</td>\n",
              "      <td>1.0</td>\n",
              "      <td>...</td>\n",
              "      <td>0</td>\n",
              "      <td>0</td>\n",
              "      <td>0</td>\n",
              "      <td>0</td>\n",
              "      <td>0</td>\n",
              "      <td>0</td>\n",
              "      <td>0</td>\n",
              "      <td>0.0</td>\n",
              "      <td>0.0</td>\n",
              "      <td>0</td>\n",
              "    </tr>\n",
              "    <tr>\n",
              "      <th>4</th>\n",
              "      <td>2015-01-28</td>\n",
              "      <td>1050614</td>\n",
              "      <td>N</td>\n",
              "      <td>ES</td>\n",
              "      <td>V</td>\n",
              "      <td>23</td>\n",
              "      <td>2012-08-10</td>\n",
              "      <td>0.0</td>\n",
              "      <td>35</td>\n",
              "      <td>1.0</td>\n",
              "      <td>...</td>\n",
              "      <td>0</td>\n",
              "      <td>0</td>\n",
              "      <td>0</td>\n",
              "      <td>0</td>\n",
              "      <td>0</td>\n",
              "      <td>0</td>\n",
              "      <td>0</td>\n",
              "      <td>0.0</td>\n",
              "      <td>0.0</td>\n",
              "      <td>0</td>\n",
              "    </tr>\n",
              "    <tr>\n",
              "      <th>5</th>\n",
              "      <td>2015-01-28</td>\n",
              "      <td>1050615</td>\n",
              "      <td>N</td>\n",
              "      <td>ES</td>\n",
              "      <td>H</td>\n",
              "      <td>23</td>\n",
              "      <td>2012-08-10</td>\n",
              "      <td>0.0</td>\n",
              "      <td>35</td>\n",
              "      <td>1.0</td>\n",
              "      <td>...</td>\n",
              "      <td>0</td>\n",
              "      <td>0</td>\n",
              "      <td>0</td>\n",
              "      <td>0</td>\n",
              "      <td>0</td>\n",
              "      <td>0</td>\n",
              "      <td>0</td>\n",
              "      <td>0.0</td>\n",
              "      <td>0.0</td>\n",
              "      <td>0</td>\n",
              "    </tr>\n",
              "    <tr>\n",
              "      <th>6</th>\n",
              "      <td>2015-01-28</td>\n",
              "      <td>1050616</td>\n",
              "      <td>N</td>\n",
              "      <td>ES</td>\n",
              "      <td>H</td>\n",
              "      <td>23</td>\n",
              "      <td>2012-08-10</td>\n",
              "      <td>0.0</td>\n",
              "      <td>35</td>\n",
              "      <td>1.0</td>\n",
              "      <td>...</td>\n",
              "      <td>0</td>\n",
              "      <td>0</td>\n",
              "      <td>0</td>\n",
              "      <td>0</td>\n",
              "      <td>0</td>\n",
              "      <td>0</td>\n",
              "      <td>0</td>\n",
              "      <td>0.0</td>\n",
              "      <td>0.0</td>\n",
              "      <td>0</td>\n",
              "    </tr>\n",
              "  </tbody>\n",
              "</table>\n",
              "<p>7 rows × 48 columns</p>\n",
              "</div>\n",
              "      <button class=\"colab-df-convert\" onclick=\"convertToInteractive('df-0376aec3-48ac-48a5-8f19-0ce0d476672e')\"\n",
              "              title=\"Convert this dataframe to an interactive table.\"\n",
              "              style=\"display:none;\">\n",
              "        \n",
              "  <svg xmlns=\"http://www.w3.org/2000/svg\" height=\"24px\"viewBox=\"0 0 24 24\"\n",
              "       width=\"24px\">\n",
              "    <path d=\"M0 0h24v24H0V0z\" fill=\"none\"/>\n",
              "    <path d=\"M18.56 5.44l.94 2.06.94-2.06 2.06-.94-2.06-.94-.94-2.06-.94 2.06-2.06.94zm-11 1L8.5 8.5l.94-2.06 2.06-.94-2.06-.94L8.5 2.5l-.94 2.06-2.06.94zm10 10l.94 2.06.94-2.06 2.06-.94-2.06-.94-.94-2.06-.94 2.06-2.06.94z\"/><path d=\"M17.41 7.96l-1.37-1.37c-.4-.4-.92-.59-1.43-.59-.52 0-1.04.2-1.43.59L10.3 9.45l-7.72 7.72c-.78.78-.78 2.05 0 2.83L4 21.41c.39.39.9.59 1.41.59.51 0 1.02-.2 1.41-.59l7.78-7.78 2.81-2.81c.8-.78.8-2.07 0-2.86zM5.41 20L4 18.59l7.72-7.72 1.47 1.35L5.41 20z\"/>\n",
              "  </svg>\n",
              "      </button>\n",
              "      \n",
              "  <style>\n",
              "    .colab-df-container {\n",
              "      display:flex;\n",
              "      flex-wrap:wrap;\n",
              "      gap: 12px;\n",
              "    }\n",
              "\n",
              "    .colab-df-convert {\n",
              "      background-color: #E8F0FE;\n",
              "      border: none;\n",
              "      border-radius: 50%;\n",
              "      cursor: pointer;\n",
              "      display: none;\n",
              "      fill: #1967D2;\n",
              "      height: 32px;\n",
              "      padding: 0 0 0 0;\n",
              "      width: 32px;\n",
              "    }\n",
              "\n",
              "    .colab-df-convert:hover {\n",
              "      background-color: #E2EBFA;\n",
              "      box-shadow: 0px 1px 2px rgba(60, 64, 67, 0.3), 0px 1px 3px 1px rgba(60, 64, 67, 0.15);\n",
              "      fill: #174EA6;\n",
              "    }\n",
              "\n",
              "    [theme=dark] .colab-df-convert {\n",
              "      background-color: #3B4455;\n",
              "      fill: #D2E3FC;\n",
              "    }\n",
              "\n",
              "    [theme=dark] .colab-df-convert:hover {\n",
              "      background-color: #434B5C;\n",
              "      box-shadow: 0px 1px 3px 1px rgba(0, 0, 0, 0.15);\n",
              "      filter: drop-shadow(0px 1px 2px rgba(0, 0, 0, 0.3));\n",
              "      fill: #FFFFFF;\n",
              "    }\n",
              "  </style>\n",
              "\n",
              "      <script>\n",
              "        const buttonEl =\n",
              "          document.querySelector('#df-0376aec3-48ac-48a5-8f19-0ce0d476672e button.colab-df-convert');\n",
              "        buttonEl.style.display =\n",
              "          google.colab.kernel.accessAllowed ? 'block' : 'none';\n",
              "\n",
              "        async function convertToInteractive(key) {\n",
              "          const element = document.querySelector('#df-0376aec3-48ac-48a5-8f19-0ce0d476672e');\n",
              "          const dataTable =\n",
              "            await google.colab.kernel.invokeFunction('convertToInteractive',\n",
              "                                                     [key], {});\n",
              "          if (!dataTable) return;\n",
              "\n",
              "          const docLinkHtml = 'Like what you see? Visit the ' +\n",
              "            '<a target=\"_blank\" href=https://colab.research.google.com/notebooks/data_table.ipynb>data table notebook</a>'\n",
              "            + ' to learn more about interactive tables.';\n",
              "          element.innerHTML = '';\n",
              "          dataTable['output_type'] = 'display_data';\n",
              "          await google.colab.output.renderOutput(dataTable, element);\n",
              "          const docLink = document.createElement('div');\n",
              "          docLink.innerHTML = docLinkHtml;\n",
              "          element.appendChild(docLink);\n",
              "        }\n",
              "      </script>\n",
              "    </div>\n",
              "  </div>\n",
              "  "
            ]
          },
          "metadata": {},
          "execution_count": 5
        }
      ]
    },
    {
      "cell_type": "code",
      "execution_count": null,
      "metadata": {
        "id": "DWiC_6l5hCVY"
      },
      "outputs": [],
      "source": [
        "#Rename column names from Spanish to English :\n",
        "\n",
        "dftrain.rename(columns={'fecha_dato': 'Date','ncodpers': 'Customer_code','ind_empleado': 'Employee_index','pais_residencia': 'Country','sexo': 'Gender','age': 'Age','fecha_alta': 'Customer_join_date','ind_nuevo': 'Customer_index','antiguedad': 'Customer_seniority','indrel': 'primary_customer','ult_fec_cli_1t': 'Customer_leave_date','indrel_1mes': 'Customer_type','tiprel_1mes': 'Customer_relation','indresi': 'Residence_index','indext': 'Foreigner_index','conyuemp': 'Spouse_index','canal_entrada': 'Channel','indfall': 'Deceased_index','tipodom': 'Primary_Address','cod_prov': 'Customer_address','nomprov': 'province_name','ind_actividad_cliente': 'Activity_index','renta': 'Gross_income','segmento': 'Segmentation','ind_ahor_fin_ult1': 'Saving_account','ind_aval_fin_ult1': 'Guarantees','ind_cco_fin_ult1': 'Current_accounts','ind_cder_fin_ult1': 'Derivative_account','ind_cno_fin_ult1': 'Payroll_account','ind_ctju_fin_ult1': 'Junior_account','ind_ctma_fin_ult1': 'More_private_account','ind_ctop_fin_ult1': 'Private_account','ind_ctpp_fin_ult1': 'Private_plus_account','ind_deco_fin_ult1': 'Short_term_deposits','ind_deme_fin_ult1': 'Medium_term_deposits','ind_dela_fin_ult1': 'Long_term_deposits','ind_ecue_fin_ult1': 'E_Account','ind_fond_fin_ult1': 'Funds','ind_hip_fin_ult1': 'Mortgage','ind_plan_fin_ult1': 'Pensions','ind_pres_fin_ult1': 'Loans','ind_reca_fin_ult1': 'Taxes','ind_tjcr_fin_ult1': 'Credit_card','ind_valo_fin_ult1': 'Securities','ind_viv_fin_ult1': 'Home_account','ind_nomina_ult1': 'Payroll','ind_nom_pens_ult1': 'Pensions_2','ind_recibo_ult1': 'Direct_debit'}, inplace=True)"
      ]
    },
    {
      "cell_type": "code",
      "execution_count": null,
      "metadata": {
        "id": "dEWi3E7whClK",
        "colab": {
          "base_uri": "https://localhost:8080/"
        },
        "outputId": "2ae7a36d-47e3-401f-e126-f2a31c4fbaa5"
      },
      "outputs": [
        {
          "output_type": "stream",
          "name": "stdout",
          "text": [
            "No. of observations: 13647309\n",
            "No. of features: 48\n"
          ]
        }
      ],
      "source": [
        "# Number of features and observations:\n",
        "\n",
        "a=len(dftrain)\n",
        "print(\"No. of observations:\",a)\n",
        "b=len(dftrain.columns)\n",
        "print(\"No. of features:\", b)"
      ]
    },
    {
      "cell_type": "code",
      "execution_count": null,
      "metadata": {
        "id": "M65KlJ2sALCD",
        "colab": {
          "base_uri": "https://localhost:8080/"
        },
        "outputId": "357a0dd8-a7af-430f-d753-2195a41748f4"
      },
      "outputs": [
        {
          "output_type": "stream",
          "name": "stdout",
          "text": [
            "<class 'pandas.core.frame.DataFrame'>\n",
            "RangeIndex: 13647309 entries, 0 to 13647308\n",
            "Data columns (total 48 columns):\n",
            " #   Column                Dtype  \n",
            "---  ------                -----  \n",
            " 0   Date                  object \n",
            " 1   Customer_code         int64  \n",
            " 2   Employee_index        object \n",
            " 3   Country               object \n",
            " 4   Gender                object \n",
            " 5   Age                   object \n",
            " 6   Customer_join_date    object \n",
            " 7   Customer_index        float64\n",
            " 8   Customer_seniority    object \n",
            " 9   primary_customer      float64\n",
            " 10  Customer_leave_date   object \n",
            " 11  Customer_type         object \n",
            " 12  Customer_relation     object \n",
            " 13  Residence_index       object \n",
            " 14  Foreigner_index       object \n",
            " 15  Spouse_index          object \n",
            " 16  Channel               object \n",
            " 17  Deceased_index        object \n",
            " 18  Primary_Address       float64\n",
            " 19  Customer_address      float64\n",
            " 20  province_name         object \n",
            " 21  Activity_index        float64\n",
            " 22  Gross_income          float64\n",
            " 23  Segmentation          object \n",
            " 24  Saving_account        int64  \n",
            " 25  Guarantees            int64  \n",
            " 26  Current_accounts      int64  \n",
            " 27  Derivative_account    int64  \n",
            " 28  Payroll_account       int64  \n",
            " 29  Junior_account        int64  \n",
            " 30  More_private_account  int64  \n",
            " 31  Private_account       int64  \n",
            " 32  Private_plus_account  int64  \n",
            " 33  Short_term_deposits   int64  \n",
            " 34  Medium_term_deposits  int64  \n",
            " 35  Long_term_deposits    int64  \n",
            " 36  E_Account             int64  \n",
            " 37  Funds                 int64  \n",
            " 38  Mortgage              int64  \n",
            " 39  Pensions              int64  \n",
            " 40  Loans                 int64  \n",
            " 41  Taxes                 int64  \n",
            " 42  Credit_card           int64  \n",
            " 43  Securities            int64  \n",
            " 44  Home_account          int64  \n",
            " 45  Payroll               float64\n",
            " 46  Pensions_2            float64\n",
            " 47  Direct_debit          int64  \n",
            "dtypes: float64(8), int64(23), object(17)\n",
            "memory usage: 4.9+ GB\n"
          ]
        }
      ],
      "source": [
        "#Data information: Datatypes,Size \n",
        "\n",
        "dftrain.info()"
      ]
    },
    {
      "cell_type": "code",
      "execution_count": null,
      "metadata": {
        "id": "1MxdHPs9AQ-H",
        "colab": {
          "base_uri": "https://localhost:8080/"
        },
        "outputId": "b9df7069-9273-447d-9764-2a6489f74971"
      },
      "outputs": [
        {
          "output_type": "execute_result",
          "data": {
            "text/plain": [
              "Date                           0\n",
              "Customer_code                  0\n",
              "Employee_index             27734\n",
              "Country                    27734\n",
              "Gender                     27804\n",
              "Age                            0\n",
              "Customer_join_date         27734\n",
              "Customer_index             27734\n",
              "Customer_seniority             0\n",
              "primary_customer           27734\n",
              "Customer_leave_date     13622516\n",
              "Customer_type             149781\n",
              "Customer_relation         149781\n",
              "Residence_index            27734\n",
              "Foreigner_index            27734\n",
              "Spouse_index            13645501\n",
              "Channel                   186126\n",
              "Deceased_index             27734\n",
              "Primary_Address            27735\n",
              "Customer_address           93591\n",
              "province_name              93591\n",
              "Activity_index             27734\n",
              "Gross_income             2794375\n",
              "Segmentation              189368\n",
              "Saving_account                 0\n",
              "Guarantees                     0\n",
              "Current_accounts               0\n",
              "Derivative_account             0\n",
              "Payroll_account                0\n",
              "Junior_account                 0\n",
              "More_private_account           0\n",
              "Private_account                0\n",
              "Private_plus_account           0\n",
              "Short_term_deposits            0\n",
              "Medium_term_deposits           0\n",
              "Long_term_deposits             0\n",
              "E_Account                      0\n",
              "Funds                          0\n",
              "Mortgage                       0\n",
              "Pensions                       0\n",
              "Loans                          0\n",
              "Taxes                          0\n",
              "Credit_card                    0\n",
              "Securities                     0\n",
              "Home_account                   0\n",
              "Payroll                    16063\n",
              "Pensions_2                 16063\n",
              "Direct_debit                   0\n",
              "dtype: int64"
            ]
          },
          "metadata": {},
          "execution_count": 9
        }
      ],
      "source": [
        "#Null values in the data set:\n",
        "\n",
        "dftrain.isnull().sum()"
      ]
    },
    {
      "cell_type": "markdown",
      "metadata": {
        "id": "FHbUl-f46ln2"
      },
      "source": [
        "# Analysing each of the features"
      ]
    },
    {
      "cell_type": "code",
      "execution_count": null,
      "metadata": {
        "id": "zzJ5oLiLCGsV"
      },
      "outputs": [],
      "source": [
        "#Analyse each columns:"
      ]
    },
    {
      "cell_type": "code",
      "execution_count": null,
      "metadata": {
        "id": "IYENFD7yDyjT",
        "colab": {
          "base_uri": "https://localhost:8080/"
        },
        "outputId": "cb11f8f8-bbdc-41b4-e3bf-9aef600e0d17"
      },
      "outputs": [
        {
          "output_type": "stream",
          "name": "stdout",
          "text": [
            "<class 'pandas.core.series.Series'>\n",
            "RangeIndex: 13647309 entries, 0 to 13647308\n",
            "Series name: Date\n",
            "Non-Null Count     Dtype \n",
            "--------------     ----- \n",
            "13647309 non-null  object\n",
            "dtypes: object(1)\n",
            "memory usage: 104.1+ MB\n"
          ]
        }
      ],
      "source": [
        "# Date:\n",
        "dftrain['Date'].unique()\n",
        "dftrain['Date'].info()"
      ]
    },
    {
      "cell_type": "code",
      "execution_count": null,
      "metadata": {
        "id": "N4mFAOUpEEn2",
        "colab": {
          "base_uri": "https://localhost:8080/"
        },
        "outputId": "67bb6d39-ff04-44dc-f9df-c9f4b0a500ec"
      },
      "outputs": [
        {
          "output_type": "execute_result",
          "data": {
            "text/plain": [
              "2015-01-28    625457\n",
              "2015-02-28    627394\n",
              "2015-03-28    629209\n",
              "2015-04-28    630367\n",
              "2015-05-28    631957\n",
              "2015-06-28    632110\n",
              "2015-07-28    829817\n",
              "2015-08-28    843201\n",
              "2015-09-28    865440\n",
              "2015-10-28    892251\n",
              "2015-11-28    906109\n",
              "2015-12-28    912021\n",
              "2016-01-28    916269\n",
              "2016-02-28    920904\n",
              "2016-03-28    925076\n",
              "2016-04-28    928274\n",
              "2016-05-28    931453\n",
              "Name: Date, dtype: int64"
            ]
          },
          "metadata": {},
          "execution_count": 12
        }
      ],
      "source": [
        "dftrain['Date'].value_counts().sort_index(ascending=True)"
      ]
    },
    {
      "cell_type": "code",
      "execution_count": null,
      "metadata": {
        "id": "gd0DF5FwEiX9",
        "colab": {
          "base_uri": "https://localhost:8080/"
        },
        "outputId": "c2492d00-af75-4bdb-9706-423d6830b0fb"
      },
      "outputs": [
        {
          "output_type": "stream",
          "name": "stdout",
          "text": [
            "<class 'pandas.core.series.Series'>\n",
            "RangeIndex: 13647309 entries, 0 to 13647308\n",
            "Series name: Customer_code\n",
            "Non-Null Count     Dtype\n",
            "--------------     -----\n",
            "13647309 non-null  int64\n",
            "dtypes: int64(1)\n",
            "memory usage: 104.1 MB\n"
          ]
        }
      ],
      "source": [
        "# Customer_code:\n",
        "dftrain['Customer_code'].info()"
      ]
    },
    {
      "cell_type": "code",
      "source": [
        "dftrain['Customer_code'].nunique()"
      ],
      "metadata": {
        "colab": {
          "base_uri": "https://localhost:8080/"
        },
        "id": "X900UP2UWl_O",
        "outputId": "b68d0857-ce0c-4f09-e346-812926668a42"
      },
      "execution_count": null,
      "outputs": [
        {
          "output_type": "execute_result",
          "data": {
            "text/plain": [
              "956645"
            ]
          },
          "metadata": {},
          "execution_count": 16
        }
      ]
    },
    {
      "cell_type": "code",
      "execution_count": null,
      "metadata": {
        "id": "vnyYB-c0GzQu",
        "colab": {
          "base_uri": "https://localhost:8080/"
        },
        "outputId": "c8d2115a-4d28-42bf-8425-fdba38929028"
      },
      "outputs": [
        {
          "output_type": "execute_result",
          "data": {
            "text/plain": [
              "array(['N', nan, 'A', 'B', 'F', 'S'], dtype=object)"
            ]
          },
          "metadata": {},
          "execution_count": 15
        }
      ],
      "source": [
        "# Employee_index:\n",
        "\n",
        "dftrain['Employee_index'].unique()\n"
      ]
    },
    {
      "cell_type": "code",
      "execution_count": null,
      "metadata": {
        "id": "o5Ty1KREhadI",
        "colab": {
          "base_uri": "https://localhost:8080/"
        },
        "outputId": "1d844102-d1c4-4708-a8ef-4776cd1a4627"
      },
      "outputs": [
        {
          "output_type": "stream",
          "name": "stdout",
          "text": [
            "<class 'pandas.core.series.Series'>\n",
            "RangeIndex: 13647309 entries, 0 to 13647308\n",
            "Series name: Employee_index\n",
            "Non-Null Count     Dtype \n",
            "--------------     ----- \n",
            "13619575 non-null  object\n",
            "dtypes: object(1)\n",
            "memory usage: 104.1+ MB\n"
          ]
        }
      ],
      "source": [
        "dftrain['Employee_index'].info()"
      ]
    },
    {
      "cell_type": "code",
      "execution_count": null,
      "metadata": {
        "id": "SWKlwK0PG_5B",
        "colab": {
          "base_uri": "https://localhost:8080/"
        },
        "outputId": "4f22871d-dab3-44df-ec07-b7e0ce094709"
      },
      "outputs": [
        {
          "output_type": "execute_result",
          "data": {
            "text/plain": [
              "A        2492\n",
              "B        3566\n",
              "F        2523\n",
              "N    13610977\n",
              "S          17\n",
              "Name: Employee_index, dtype: int64"
            ]
          },
          "metadata": {},
          "execution_count": 18
        }
      ],
      "source": [
        "dftrain['Employee_index'].value_counts().sort_index()"
      ]
    },
    {
      "cell_type": "code",
      "execution_count": null,
      "metadata": {
        "id": "gqgKRaqaMn8x",
        "colab": {
          "base_uri": "https://localhost:8080/"
        },
        "outputId": "f6ebdc4b-0159-4506-9432-1e1625336925"
      },
      "outputs": [
        {
          "output_type": "stream",
          "name": "stdout",
          "text": [
            "<class 'pandas.core.series.Series'>\n",
            "RangeIndex: 13647309 entries, 0 to 13647308\n",
            "Series name: Country\n",
            "Non-Null Count     Dtype \n",
            "--------------     ----- \n",
            "13619575 non-null  object\n",
            "dtypes: object(1)\n",
            "memory usage: 104.1+ MB\n"
          ]
        }
      ],
      "source": [
        "# Country:\n",
        "\n",
        "dftrain['Country'].info()"
      ]
    },
    {
      "cell_type": "code",
      "source": [
        "dftrain['Country'].nunique()"
      ],
      "metadata": {
        "id": "uMbO1IMigdAx",
        "colab": {
          "base_uri": "https://localhost:8080/"
        },
        "outputId": "71409526-e3a5-4960-a117-5f37f2a2e1f6"
      },
      "execution_count": null,
      "outputs": [
        {
          "output_type": "execute_result",
          "data": {
            "text/plain": [
              "118"
            ]
          },
          "metadata": {},
          "execution_count": 20
        }
      ]
    },
    {
      "cell_type": "code",
      "execution_count": null,
      "metadata": {
        "id": "gJTJt828bwyp",
        "colab": {
          "base_uri": "https://localhost:8080/"
        },
        "outputId": "a08c6d9d-e287-49b9-d195-f661304ac8a0"
      },
      "outputs": [
        {
          "output_type": "execute_result",
          "data": {
            "text/plain": [
              "array(['ES', nan, 'CA', 'CH', 'CL', 'IE', 'AT', 'NL', 'FR', 'GB', 'DE',\n",
              "       'DO', 'BE', 'AR', 'VE', 'US', 'MX', 'BR', 'IT', 'EC', 'PE', 'CO',\n",
              "       'HN', 'FI', 'SE', 'AL', 'PT', 'MZ', 'CN', 'TW', 'PL', 'IN', 'CR',\n",
              "       'NI', 'HK', 'AD', 'CZ', 'AE', 'MA', 'GR', 'PR', 'RO', 'IL', 'RU',\n",
              "       'GT', 'GA', 'NO', 'SN', 'MR', 'UA', 'BG', 'PY', 'EE', 'SV', 'ET',\n",
              "       'CM', 'SA', 'CI', 'QA', 'LU', 'PA', 'BA', 'BO', 'AU', 'BY', 'KE',\n",
              "       'SG', 'HR', 'MD', 'SK', 'TR', 'AO', 'CU', 'GQ', 'EG', 'ZA', 'DK',\n",
              "       'UY', 'GE', 'TH', 'DZ', 'LB', 'JP', 'NG', 'PK', 'TN', 'TG', 'KR',\n",
              "       'GH', 'RS', 'VN', 'PH', 'KW', 'NZ', 'MM', 'KH', 'GI', 'SL', 'GN',\n",
              "       'GW', 'OM', 'CG', 'LV', 'LT', 'ML', 'MK', 'HU', 'IS', 'LY', 'CF',\n",
              "       'GM', 'KZ', 'CD', 'BZ', 'ZW', 'DJ', 'JM', 'BM', 'MT'], dtype=object)"
            ]
          },
          "metadata": {},
          "execution_count": 23
        }
      ],
      "source": [
        "dftrain['Country'].unique()"
      ]
    },
    {
      "cell_type": "code",
      "execution_count": null,
      "metadata": {
        "id": "cf9AxDc9MoNp",
        "colab": {
          "base_uri": "https://localhost:8080/"
        },
        "outputId": "48cd76c6-4d8a-4fcf-c195-ae7ee8249619"
      },
      "outputs": [
        {
          "output_type": "stream",
          "name": "stdout",
          "text": [
            "<class 'pandas.core.series.Series'>\n",
            "RangeIndex: 13647309 entries, 0 to 13647308\n",
            "Series name: Gender\n",
            "Non-Null Count     Dtype \n",
            "--------------     ----- \n",
            "13619505 non-null  object\n",
            "dtypes: object(1)\n",
            "memory usage: 104.1+ MB\n"
          ]
        }
      ],
      "source": [
        "# Gender:\n",
        "\n",
        "dftrain['Gender'].info()"
      ]
    },
    {
      "cell_type": "code",
      "source": [
        "dftrain['Gender'].unique()"
      ],
      "metadata": {
        "colab": {
          "base_uri": "https://localhost:8080/"
        },
        "id": "K7-cKnoqXDHw",
        "outputId": "5ab1c74b-79fc-48c6-f47c-128b4aef3d35"
      },
      "execution_count": null,
      "outputs": [
        {
          "output_type": "execute_result",
          "data": {
            "text/plain": [
              "array(['H', 'V', nan], dtype=object)"
            ]
          },
          "metadata": {},
          "execution_count": 24
        }
      ]
    },
    {
      "cell_type": "code",
      "source": [
        "dftrain['Gender'].value_counts().sort_index()"
      ],
      "metadata": {
        "colab": {
          "base_uri": "https://localhost:8080/"
        },
        "id": "LX2jN4acXHIy",
        "outputId": "702682f2-046a-4609-c539-f1a8aa80433d"
      },
      "execution_count": null,
      "outputs": [
        {
          "output_type": "execute_result",
          "data": {
            "text/plain": [
              "H    6195253\n",
              "V    7424252\n",
              "Name: Gender, dtype: int64"
            ]
          },
          "metadata": {},
          "execution_count": 26
        }
      ]
    },
    {
      "cell_type": "code",
      "execution_count": null,
      "metadata": {
        "id": "F9lsQlE3My2h",
        "colab": {
          "base_uri": "https://localhost:8080/"
        },
        "outputId": "166b4f39-3642-44f7-e5c5-e413fed0cf1b"
      },
      "outputs": [
        {
          "output_type": "stream",
          "name": "stdout",
          "text": [
            "<class 'pandas.core.series.Series'>\n",
            "RangeIndex: 13647309 entries, 0 to 13647308\n",
            "Series name: Age\n",
            "Non-Null Count     Dtype \n",
            "--------------     ----- \n",
            "13647309 non-null  object\n",
            "dtypes: object(1)\n",
            "memory usage: 104.1+ MB\n"
          ]
        }
      ],
      "source": [
        "# Age:\n",
        "dftrain['Age'].info()"
      ]
    },
    {
      "cell_type": "code",
      "source": [
        "dftrain['Age'].unique()"
      ],
      "metadata": {
        "colab": {
          "base_uri": "https://localhost:8080/"
        },
        "id": "pnykEQzyXWw_",
        "outputId": "7ac4936f-f099-4a59-cc87-a3def4500e09"
      },
      "execution_count": null,
      "outputs": [
        {
          "output_type": "execute_result",
          "data": {
            "text/plain": [
              "array([' 35', ' 23', ' 22', ' 24', ' 65', ' 28', ' 25', ' 26', ' 53',\n",
              "       ' 27', ' 32', ' 37', ' 31', ' 39', ' 63', ' 33', ' 55', ' 42',\n",
              "       ' 58', ' 38', ' 50', ' 30', ' 45', ' 44', ' 36', ' 29', ' 60',\n",
              "       ' 57', ' 67', ' 47', ' NA', ' 34', ' 48', ' 46', ' 54', ' 84',\n",
              "       ' 15', ' 12', '  8', '  6', ' 83', ' 40', ' 77', ' 69', ' 52',\n",
              "       ' 59', ' 43', ' 10', '  9', ' 49', ' 41', ' 51', ' 78', ' 16',\n",
              "       ' 11', ' 73', ' 62', ' 66', ' 17', ' 68', ' 82', ' 95', ' 96',\n",
              "       ' 56', ' 61', ' 79', ' 72', ' 14', ' 19', ' 13', ' 86', ' 64',\n",
              "       ' 20', ' 89', ' 71', '  7', ' 70', ' 74', ' 21', ' 18', ' 75',\n",
              "       '  4', ' 80', ' 81', '  5', ' 76', ' 92', ' 93', ' 85', ' 91',\n",
              "       ' 87', ' 90', ' 94', ' 99', ' 98', ' 88', ' 97', '100', '101',\n",
              "       '106', '103', '  3', '  2', '102', '104', '111', '107', '109',\n",
              "       '105', '112', '115', '110', '116', '108', '113', 33, 52, 40, 58,\n",
              "       38, 92, 50, 84, 81, 71, 37, 21, 30, 54, 46, 67, 39, 55, 60, 45, 68,\n",
              "       51, 31, 63, 42, 64, 74, 49, 56, 59, 77, 86, 48, 36, 62, 70, 43, 14,\n",
              "       12, 79, 44, 47, 53, 96, 75, 24, 20, 83, 57, 72, 61, 41, 29, 69, 35,\n",
              "       66, 73, 76, 65, 34, 22, 13, 16, 11, 18, 23, 28, 78, 32, 17, 91, 15,\n",
              "       89, 80, 87, 93, 25, 97, 85, 94, 88, 82, 109, 101, 90, 27, 111, 26,\n",
              "       19, 102, 95, 99, 98, 100, 108, 10, 107, 103, 9, 113, 104, 110, 105,\n",
              "       2, 112, 106, 3, 8, 7, 6, 126, 115, 117, 163, 116, 5, 4, 127, 114,\n",
              "       164], dtype=object)"
            ]
          },
          "metadata": {},
          "execution_count": 27
        }
      ]
    },
    {
      "cell_type": "code",
      "execution_count": null,
      "metadata": {
        "id": "vPINdBSZcjXb",
        "colab": {
          "base_uri": "https://localhost:8080/"
        },
        "outputId": "4192ad71-85f6-4788-f386-70f3edfe32c0"
      },
      "outputs": [
        {
          "output_type": "stream",
          "name": "stdout",
          "text": [
            "<class 'pandas.core.series.Series'>\n",
            "RangeIndex: 13647309 entries, 0 to 13647308\n",
            "Series name: Customer_join_date\n",
            "Non-Null Count     Dtype \n",
            "--------------     ----- \n",
            "13619575 non-null  object\n",
            "dtypes: object(1)\n",
            "memory usage: 104.1+ MB\n"
          ]
        }
      ],
      "source": [
        "#Customer_join_date:\n",
        "dftrain['Customer_join_date'].unique()\n",
        "dftrain['Customer_join_date'].info()"
      ]
    },
    {
      "cell_type": "code",
      "execution_count": null,
      "metadata": {
        "id": "lLzdF7E4cjag",
        "colab": {
          "base_uri": "https://localhost:8080/"
        },
        "outputId": "406c4b2a-76da-4666-bb15-9f97726b72c6"
      },
      "outputs": [
        {
          "output_type": "execute_result",
          "data": {
            "text/plain": [
              "1995-01-16    1226\n",
              "1995-01-17      17\n",
              "1995-01-23      28\n",
              "1995-01-31      28\n",
              "1995-02-02      34\n",
              "              ... \n",
              "2016-05-27     122\n",
              "2016-05-28      54\n",
              "2016-05-29      70\n",
              "2016-05-30     203\n",
              "2016-05-31     157\n",
              "Name: Customer_join_date, Length: 6756, dtype: int64"
            ]
          },
          "metadata": {},
          "execution_count": 32
        }
      ],
      "source": [
        "dftrain['Customer_join_date'].value_counts().sort_index(ascending=True)"
      ]
    },
    {
      "cell_type": "code",
      "execution_count": null,
      "metadata": {
        "id": "6VpYIrXRcjfa",
        "colab": {
          "base_uri": "https://localhost:8080/"
        },
        "outputId": "a1a305c1-639a-4ffd-f316-96cdf4febad5"
      },
      "outputs": [
        {
          "output_type": "stream",
          "name": "stdout",
          "text": [
            "<class 'pandas.core.series.Series'>\n",
            "RangeIndex: 13647309 entries, 0 to 13647308\n",
            "Series name: Customer_index\n",
            "Non-Null Count     Dtype  \n",
            "--------------     -----  \n",
            "13619575 non-null  float64\n",
            "dtypes: float64(1)\n",
            "memory usage: 104.1 MB\n"
          ]
        }
      ],
      "source": [
        "#Customer_index:\n",
        "dftrain['Customer_index'].info()"
      ]
    },
    {
      "cell_type": "code",
      "source": [
        "dftrain['Customer_index'].unique()"
      ],
      "metadata": {
        "colab": {
          "base_uri": "https://localhost:8080/"
        },
        "id": "MP3hxBnOX0KU",
        "outputId": "7854a40f-3ba3-4d9a-8a08-538d7dd0b2d6"
      },
      "execution_count": null,
      "outputs": [
        {
          "output_type": "execute_result",
          "data": {
            "text/plain": [
              "array([ 0., nan,  1.])"
            ]
          },
          "metadata": {},
          "execution_count": 34
        }
      ]
    },
    {
      "cell_type": "code",
      "execution_count": null,
      "metadata": {
        "id": "t2TYoZWactYD",
        "colab": {
          "base_uri": "https://localhost:8080/"
        },
        "outputId": "b0f0b5ba-fc77-481f-b45c-614db157bdd5"
      },
      "outputs": [
        {
          "output_type": "execute_result",
          "data": {
            "text/plain": [
              "0.0    12808368\n",
              "1.0      811207\n",
              "Name: Customer_index, dtype: int64"
            ]
          },
          "metadata": {},
          "execution_count": 35
        }
      ],
      "source": [
        "dftrain['Customer_index'].value_counts().sort_index()"
      ]
    },
    {
      "cell_type": "code",
      "execution_count": null,
      "metadata": {
        "id": "_y8zG8bJctcN",
        "colab": {
          "base_uri": "https://localhost:8080/"
        },
        "outputId": "20056622-e128-411b-fb98-72a1e170deed"
      },
      "outputs": [
        {
          "output_type": "stream",
          "name": "stdout",
          "text": [
            "<class 'pandas.core.series.Series'>\n",
            "RangeIndex: 13647309 entries, 0 to 13647308\n",
            "Series name: Customer_seniority\n",
            "Non-Null Count     Dtype \n",
            "--------------     ----- \n",
            "13647309 non-null  object\n",
            "dtypes: object(1)\n",
            "memory usage: 104.1+ MB\n"
          ]
        }
      ],
      "source": [
        "#Customer_seniority:\n",
        "dftrain['Customer_seniority'].info()"
      ]
    },
    {
      "cell_type": "code",
      "execution_count": null,
      "metadata": {
        "id": "Y44zjegBka8l",
        "colab": {
          "base_uri": "https://localhost:8080/"
        },
        "outputId": "c9892487-31eb-4115-c146-db7cc6a57535"
      },
      "outputs": [
        {
          "output_type": "execute_result",
          "data": {
            "text/plain": [
              "507"
            ]
          },
          "metadata": {},
          "execution_count": 40
        }
      ],
      "source": [
        "dftrain['Customer_seniority'].nunique()"
      ]
    },
    {
      "cell_type": "code",
      "execution_count": null,
      "metadata": {
        "id": "PgfYaQgPcteq",
        "colab": {
          "base_uri": "https://localhost:8080/"
        },
        "outputId": "45309dc8-6ece-47f5-c77f-7cf05415dba1"
      },
      "outputs": [
        {
          "output_type": "execute_result",
          "data": {
            "text/plain": [
              "0          134322\n",
              "1          130670\n",
              "12         130572\n",
              "3          125772\n",
              "2          125112\n",
              "            ...  \n",
              "255           179\n",
              "      0       162\n",
              "256           102\n",
              "-999999        26\n",
              "-999999        12\n",
              "Name: Customer_seniority, Length: 507, dtype: int64"
            ]
          },
          "metadata": {},
          "execution_count": 43
        }
      ],
      "source": [
        "dftrain['Customer_seniority'].value_counts()"
      ]
    },
    {
      "cell_type": "code",
      "execution_count": null,
      "metadata": {
        "id": "qza92iALcthN"
      },
      "outputs": [],
      "source": [
        "# primary_customer:"
      ]
    },
    {
      "cell_type": "code",
      "execution_count": null,
      "metadata": {
        "id": "Re5PXiQUctj8",
        "colab": {
          "base_uri": "https://localhost:8080/"
        },
        "outputId": "4da57072-dcf0-4276-ed0b-b01b00e4c7ba"
      },
      "outputs": [
        {
          "output_type": "stream",
          "name": "stdout",
          "text": [
            "<class 'pandas.core.series.Series'>\n",
            "RangeIndex: 13647309 entries, 0 to 13647308\n",
            "Series name: primary_customer\n",
            "Non-Null Count     Dtype  \n",
            "--------------     -----  \n",
            "13619575 non-null  float64\n",
            "dtypes: float64(1)\n",
            "memory usage: 104.1 MB\n"
          ]
        }
      ],
      "source": [
        "dftrain['primary_customer'].info()"
      ]
    },
    {
      "cell_type": "code",
      "execution_count": null,
      "metadata": {
        "id": "EykZ8S08jLNl",
        "colab": {
          "base_uri": "https://localhost:8080/"
        },
        "outputId": "3c1ba41d-3da0-4b86-e674-05991b94af5d"
      },
      "outputs": [
        {
          "output_type": "execute_result",
          "data": {
            "text/plain": [
              "array([ 1., nan, 99.])"
            ]
          },
          "metadata": {},
          "execution_count": 45
        }
      ],
      "source": [
        "dftrain['primary_customer'].unique()"
      ]
    },
    {
      "cell_type": "code",
      "execution_count": null,
      "metadata": {
        "id": "qwUwXqxJjLCM",
        "colab": {
          "base_uri": "https://localhost:8080/"
        },
        "outputId": "5d3d1ce9-20dc-4640-bdd7-22d15cb31096"
      },
      "outputs": [
        {
          "output_type": "execute_result",
          "data": {
            "text/plain": [
              "2"
            ]
          },
          "metadata": {},
          "execution_count": 46
        }
      ],
      "source": [
        "dftrain['primary_customer'].nunique()"
      ]
    },
    {
      "cell_type": "code",
      "execution_count": null,
      "metadata": {
        "id": "CSBfuOQ3jKyX",
        "colab": {
          "base_uri": "https://localhost:8080/"
        },
        "outputId": "90a04aa1-eea9-4285-9788-a804beb1918d"
      },
      "outputs": [
        {
          "output_type": "execute_result",
          "data": {
            "text/plain": [
              "1.0     13594782\n",
              "99.0       24793\n",
              "Name: primary_customer, dtype: int64"
            ]
          },
          "metadata": {},
          "execution_count": 47
        }
      ],
      "source": [
        "dftrain['primary_customer'].value_counts().sort_index()"
      ]
    },
    {
      "cell_type": "code",
      "execution_count": null,
      "metadata": {
        "id": "1n_4F3UGctma"
      },
      "outputs": [],
      "source": [
        "#Customer_leave_date:"
      ]
    },
    {
      "cell_type": "code",
      "execution_count": null,
      "metadata": {
        "id": "2MWnNkWxctsD",
        "colab": {
          "base_uri": "https://localhost:8080/"
        },
        "outputId": "e2ffd37e-e53d-468a-f879-cfd6cfad2b62"
      },
      "outputs": [
        {
          "output_type": "stream",
          "name": "stdout",
          "text": [
            "<class 'pandas.core.series.Series'>\n",
            "RangeIndex: 13647309 entries, 0 to 13647308\n",
            "Series name: Customer_leave_date\n",
            "Non-Null Count  Dtype \n",
            "--------------  ----- \n",
            "24793 non-null  object\n",
            "dtypes: object(1)\n",
            "memory usage: 104.1+ MB\n"
          ]
        }
      ],
      "source": [
        "dftrain['Customer_leave_date'].info()"
      ]
    },
    {
      "cell_type": "code",
      "execution_count": null,
      "metadata": {
        "id": "GaWaHUJ4jWVc",
        "colab": {
          "base_uri": "https://localhost:8080/"
        },
        "outputId": "9bf9102b-dbe7-4883-8cde-4959b1d60361"
      },
      "outputs": [
        {
          "output_type": "execute_result",
          "data": {
            "text/plain": [
              "array([nan, '2015-07-02', '2015-07-23', '2015-07-06', '2015-07-30',\n",
              "       '2015-07-20', '2015-07-08', '2015-07-22', '2015-07-17',\n",
              "       '2015-07-09', '2015-07-03', '2015-07-29', '2015-07-13',\n",
              "       '2015-07-21', '2015-07-27', '2015-07-14', '2015-07-01',\n",
              "       '2015-07-24', '2015-07-15', '2015-07-16', '2015-07-28',\n",
              "       '2015-07-07', '2015-07-10', '2015-08-21', '2015-08-19',\n",
              "       '2015-08-25', '2015-08-14', '2015-08-24', '2015-08-17',\n",
              "       '2015-08-18', '2015-08-10', '2015-08-13', '2015-08-27',\n",
              "       '2015-08-03', '2015-08-06', '2015-08-20', '2015-08-26',\n",
              "       '2015-08-28', '2015-08-05', '2015-08-11', '2015-08-07',\n",
              "       '2015-08-04', '2015-08-12', '2015-09-17', '2015-09-01',\n",
              "       '2015-09-18', '2015-09-03', '2015-09-02', '2015-09-14',\n",
              "       '2015-09-16', '2015-09-29', '2015-09-28', '2015-09-09',\n",
              "       '2015-09-22', '2015-09-08', '2015-09-11', '2015-09-21',\n",
              "       '2015-09-04', '2015-09-25', '2015-09-07', '2015-09-10',\n",
              "       '2015-09-23', '2015-09-24', '2015-09-15', '2015-10-08',\n",
              "       '2015-10-07', '2015-10-13', '2015-10-26', '2015-10-29',\n",
              "       '2015-10-05', '2015-10-28', '2015-10-09', '2015-10-22',\n",
              "       '2015-10-20', '2015-10-15', '2015-10-06', '2015-10-01',\n",
              "       '2015-10-21', '2015-10-16', '2015-10-27', '2015-10-19',\n",
              "       '2015-10-23', '2015-10-02', '2015-10-14', '2015-11-23',\n",
              "       '2015-11-24', '2015-11-12', '2015-11-04', '2015-11-13',\n",
              "       '2015-11-25', '2015-11-19', '2015-11-20', '2015-11-03',\n",
              "       '2015-11-16', '2015-11-17', '2015-11-11', '2015-11-27',\n",
              "       '2015-11-18', '2015-11-10', '2015-11-26', '2015-11-02',\n",
              "       '2015-11-05', '2015-11-06', '2015-11-09', '2015-12-21',\n",
              "       '2015-12-18', '2015-12-28', '2015-12-24', '2015-12-04',\n",
              "       '2015-12-29', '2015-12-16', '2015-12-11', '2015-12-30',\n",
              "       '2015-12-15', '2015-12-01', '2015-12-09', '2015-12-10',\n",
              "       '2015-12-17', '2015-12-02', '2015-12-14', '2015-12-03',\n",
              "       '2015-12-22', '2015-12-23', '2015-12-07', '2016-01-08',\n",
              "       '2016-01-14', '2016-01-13', '2016-01-28', '2016-01-05',\n",
              "       '2016-01-19', '2016-01-12', '2016-01-18', '2016-01-21',\n",
              "       '2016-01-22', '2016-01-07', '2016-01-20', '2016-01-26',\n",
              "       '2016-01-15', '2016-01-27', '2016-01-25', '2016-01-11',\n",
              "       '2016-01-04', '2016-02-23', '2016-02-19', '2016-02-18',\n",
              "       '2016-02-26', '2016-02-12', '2016-02-24', '2016-02-09',\n",
              "       '2016-02-08', '2016-02-11', '2016-02-05', '2016-02-04',\n",
              "       '2016-02-03', '2016-02-15', '2016-02-22', '2016-02-10',\n",
              "       '2016-02-16', '2016-02-01', '2016-02-17', '2016-02-02',\n",
              "       '2016-02-25', '2016-03-07', '2016-03-29', '2016-03-10',\n",
              "       '2016-03-18', '2016-03-14', '2016-03-22', '2016-03-08',\n",
              "       '2016-03-21', '2016-03-30', '2016-03-01', '2016-03-23',\n",
              "       '2016-03-02', '2016-03-24', '2016-03-03', '2016-03-09',\n",
              "       '2016-03-11', '2016-03-04', '2016-03-16', '2016-03-28',\n",
              "       '2016-03-15', '2016-03-17', '2016-04-22', '2016-04-01',\n",
              "       '2016-04-06', '2016-04-12', '2016-04-05', '2016-04-15',\n",
              "       '2016-04-13', '2016-04-19', '2016-04-04', '2016-04-18',\n",
              "       '2016-04-26', '2016-04-11', '2016-04-25', '2016-04-27',\n",
              "       '2016-04-08', '2016-04-07', '2016-04-21', '2016-04-28',\n",
              "       '2016-04-20', '2016-04-14', '2016-05-23', '2016-05-05',\n",
              "       '2016-05-17', '2016-05-19', '2016-05-12', '2016-05-06',\n",
              "       '2016-05-03', '2016-05-20', '2016-05-02', '2016-05-16',\n",
              "       '2016-05-18', '2016-05-04', '2016-05-13', '2016-05-24',\n",
              "       '2016-05-27', '2016-05-10', '2016-05-30', '2016-05-25',\n",
              "       '2016-05-11', '2016-05-09', '2016-05-26'], dtype=object)"
            ]
          },
          "metadata": {},
          "execution_count": 51
        }
      ],
      "source": [
        "dftrain['Customer_leave_date'].unique()"
      ]
    },
    {
      "cell_type": "code",
      "execution_count": null,
      "metadata": {
        "id": "6rWqQmZ5jWJg",
        "colab": {
          "base_uri": "https://localhost:8080/"
        },
        "outputId": "036764ef-1bda-493b-c805-84df62b28d50"
      },
      "outputs": [
        {
          "output_type": "execute_result",
          "data": {
            "text/plain": [
              "223"
            ]
          },
          "metadata": {},
          "execution_count": 52
        }
      ],
      "source": [
        "dftrain['Customer_leave_date'].nunique()"
      ]
    },
    {
      "cell_type": "code",
      "execution_count": null,
      "metadata": {
        "id": "z6OY4MP6jWGT",
        "colab": {
          "base_uri": "https://localhost:8080/"
        },
        "outputId": "63211253-79c0-4e2a-f3b6-08e32a38c085"
      },
      "outputs": [
        {
          "output_type": "execute_result",
          "data": {
            "text/plain": [
              "2015-07-01    401\n",
              "2015-07-02    166\n",
              "2015-07-03    262\n",
              "2015-07-06    405\n",
              "2015-07-07    340\n",
              "             ... \n",
              "2016-05-24    124\n",
              "2016-05-25     75\n",
              "2016-05-26    128\n",
              "2016-05-27    109\n",
              "2016-05-30     98\n",
              "Name: Customer_leave_date, Length: 223, dtype: int64"
            ]
          },
          "metadata": {},
          "execution_count": 53
        }
      ],
      "source": [
        "dftrain['Customer_leave_date'].value_counts().sort_index()"
      ]
    },
    {
      "cell_type": "code",
      "execution_count": null,
      "metadata": {
        "id": "4UHEZfQXjWD6"
      },
      "outputs": [],
      "source": [
        "#Customer_type:`"
      ]
    },
    {
      "cell_type": "code",
      "execution_count": null,
      "metadata": {
        "id": "a6LjsTtWjV_0",
        "colab": {
          "base_uri": "https://localhost:8080/"
        },
        "outputId": "2a1a221a-1afe-43c8-cd35-5b50527d66a5"
      },
      "outputs": [
        {
          "output_type": "stream",
          "name": "stdout",
          "text": [
            "<class 'pandas.core.series.Series'>\n",
            "RangeIndex: 13647309 entries, 0 to 13647308\n",
            "Series name: Customer_type\n",
            "Non-Null Count     Dtype \n",
            "--------------     ----- \n",
            "13497528 non-null  object\n",
            "dtypes: object(1)\n",
            "memory usage: 104.1+ MB\n"
          ]
        }
      ],
      "source": [
        "dftrain['Customer_type'].info()"
      ]
    },
    {
      "cell_type": "code",
      "execution_count": null,
      "metadata": {
        "id": "gl1YyMHWctul",
        "colab": {
          "base_uri": "https://localhost:8080/"
        },
        "outputId": "3ad11719-4d64-4d33-9d60-bff3441addae"
      },
      "outputs": [
        {
          "output_type": "execute_result",
          "data": {
            "text/plain": [
              "array([1.0, nan, 3.0, 2.0, '1', '1.0', '3.0', '2.0', '3', '4.0', 'P', '4',\n",
              "       '2', 4.0], dtype=object)"
            ]
          },
          "metadata": {},
          "execution_count": 56
        }
      ],
      "source": [
        "dftrain['Customer_type'].unique()"
      ]
    },
    {
      "cell_type": "code",
      "execution_count": null,
      "metadata": {
        "id": "gD5MCq3Ectww",
        "colab": {
          "base_uri": "https://localhost:8080/"
        },
        "outputId": "968e6d0d-de7d-4706-830c-6b90edc32c8e"
      },
      "outputs": [
        {
          "output_type": "execute_result",
          "data": {
            "text/plain": [
              "13"
            ]
          },
          "metadata": {},
          "execution_count": 58
        }
      ],
      "source": [
        "dftrain['Customer_type'].nunique()"
      ]
    },
    {
      "cell_type": "code",
      "execution_count": null,
      "metadata": {
        "id": "YdP5W2Wlct1t",
        "colab": {
          "base_uri": "https://localhost:8080/"
        },
        "outputId": "944a889e-3664-467a-fc4f-bfdca7855e45"
      },
      "outputs": [
        {
          "output_type": "stream",
          "name": "stdout",
          "text": [
            "<class 'pandas.core.series.Series'>\n",
            "RangeIndex: 13647309 entries, 0 to 13647308\n",
            "Series name: Customer_relation\n",
            "Non-Null Count     Dtype \n",
            "--------------     ----- \n",
            "13497528 non-null  object\n",
            "dtypes: object(1)\n",
            "memory usage: 104.1+ MB\n"
          ]
        }
      ],
      "source": [
        "#Customer_relation:\n",
        "dftrain['Customer_relation'].info()"
      ]
    },
    {
      "cell_type": "code",
      "execution_count": null,
      "metadata": {
        "id": "azE1IfNCl14h",
        "colab": {
          "base_uri": "https://localhost:8080/"
        },
        "outputId": "383d6e19-b9f4-456a-a58c-c4d4c4390817"
      },
      "outputs": [
        {
          "output_type": "execute_result",
          "data": {
            "text/plain": [
              "array(['A', 'I', nan, 'P', 'R', 'N'], dtype=object)"
            ]
          },
          "metadata": {},
          "execution_count": 60
        }
      ],
      "source": [
        "dftrain['Customer_relation'].unique()"
      ]
    },
    {
      "cell_type": "code",
      "execution_count": null,
      "metadata": {
        "id": "BB0Z3yAUl1rN",
        "colab": {
          "base_uri": "https://localhost:8080/"
        },
        "outputId": "b7990586-758f-4dcb-ae70-eae5f7fe6d44"
      },
      "outputs": [
        {
          "output_type": "execute_result",
          "data": {
            "text/plain": [
              "5"
            ]
          },
          "metadata": {},
          "execution_count": 61
        }
      ],
      "source": [
        "dftrain['Customer_relation'].nunique()"
      ]
    },
    {
      "cell_type": "code",
      "execution_count": null,
      "metadata": {
        "id": "YJTPCNDYl1dZ",
        "colab": {
          "base_uri": "https://localhost:8080/"
        },
        "outputId": "5591989e-9230-4691-9633-b5ad3c7e9294"
      },
      "outputs": [
        {
          "output_type": "execute_result",
          "data": {
            "text/plain": [
              "A    6187123\n",
              "I    7304875\n",
              "N          4\n",
              "P       4656\n",
              "R        870\n",
              "Name: Customer_relation, dtype: int64"
            ]
          },
          "metadata": {},
          "execution_count": 62
        }
      ],
      "source": [
        "dftrain['Customer_relation'].value_counts().sort_index()"
      ]
    },
    {
      "cell_type": "code",
      "execution_count": null,
      "metadata": {
        "id": "sCCLtyj2mHS3",
        "colab": {
          "base_uri": "https://localhost:8080/"
        },
        "outputId": "a4b6b3a3-76f1-4af8-c63c-4f41ddf09f67"
      },
      "outputs": [
        {
          "output_type": "stream",
          "name": "stdout",
          "text": [
            "<class 'pandas.core.series.Series'>\n",
            "RangeIndex: 13647309 entries, 0 to 13647308\n",
            "Series name: Residence_index\n",
            "Non-Null Count     Dtype \n",
            "--------------     ----- \n",
            "13619575 non-null  object\n",
            "dtypes: object(1)\n",
            "memory usage: 104.1+ MB\n"
          ]
        }
      ],
      "source": [
        "#Residence_index:\n",
        "dftrain['Residence_index'].info()"
      ]
    },
    {
      "cell_type": "code",
      "execution_count": null,
      "metadata": {
        "id": "OQ8wvVXbmHQB",
        "colab": {
          "base_uri": "https://localhost:8080/"
        },
        "outputId": "41008d85-62ea-4e03-fe62-389747642829"
      },
      "outputs": [
        {
          "output_type": "execute_result",
          "data": {
            "text/plain": [
              "array(['S', nan, 'N'], dtype=object)"
            ]
          },
          "metadata": {},
          "execution_count": 64
        }
      ],
      "source": [
        "dftrain['Residence_index'].unique()"
      ]
    },
    {
      "cell_type": "code",
      "execution_count": null,
      "metadata": {
        "id": "LIkJbZ5mmHNE",
        "colab": {
          "base_uri": "https://localhost:8080/"
        },
        "outputId": "ca62aff5-970a-4d8c-91b0-672b69430c4d"
      },
      "outputs": [
        {
          "output_type": "execute_result",
          "data": {
            "text/plain": [
              "2"
            ]
          },
          "metadata": {},
          "execution_count": 65
        }
      ],
      "source": [
        "dftrain['Residence_index'].nunique()"
      ]
    },
    {
      "cell_type": "code",
      "execution_count": null,
      "metadata": {
        "id": "QbOf9fO_mHKf",
        "colab": {
          "base_uri": "https://localhost:8080/"
        },
        "outputId": "6473c38a-7139-4cb9-c866-dac452abbf09"
      },
      "outputs": [
        {
          "output_type": "execute_result",
          "data": {
            "text/plain": [
              "N       65864\n",
              "S    13553711\n",
              "Name: Residence_index, dtype: int64"
            ]
          },
          "metadata": {},
          "execution_count": 66
        }
      ],
      "source": [
        "dftrain['Residence_index'].value_counts().sort_index()"
      ]
    },
    {
      "cell_type": "code",
      "execution_count": null,
      "metadata": {
        "id": "gbYCk-DNmHH0",
        "colab": {
          "base_uri": "https://localhost:8080/"
        },
        "outputId": "77efc00a-45bf-496c-ae25-6fcfe6a0d47a"
      },
      "outputs": [
        {
          "output_type": "stream",
          "name": "stdout",
          "text": [
            "<class 'pandas.core.series.Series'>\n",
            "RangeIndex: 13647309 entries, 0 to 13647308\n",
            "Series name: Foreigner_index\n",
            "Non-Null Count     Dtype \n",
            "--------------     ----- \n",
            "13619575 non-null  object\n",
            "dtypes: object(1)\n",
            "memory usage: 104.1+ MB\n"
          ]
        }
      ],
      "source": [
        "#Foreigner_index:\n",
        "dftrain['Foreigner_index'].info()"
      ]
    },
    {
      "cell_type": "code",
      "execution_count": null,
      "metadata": {
        "id": "10QFU4DNmHEi",
        "colab": {
          "base_uri": "https://localhost:8080/"
        },
        "outputId": "76821bf5-8353-4744-8fdf-73e2e8b7ba4f"
      },
      "outputs": [
        {
          "output_type": "execute_result",
          "data": {
            "text/plain": [
              "array(['N', 'S', nan], dtype=object)"
            ]
          },
          "metadata": {},
          "execution_count": 68
        }
      ],
      "source": [
        "dftrain['Foreigner_index'].unique()"
      ]
    },
    {
      "cell_type": "code",
      "execution_count": null,
      "metadata": {
        "id": "chLhe-VYmHBm",
        "colab": {
          "base_uri": "https://localhost:8080/"
        },
        "outputId": "6e2c79b0-f06f-4eff-b53e-208708f04f31"
      },
      "outputs": [
        {
          "output_type": "execute_result",
          "data": {
            "text/plain": [
              "2"
            ]
          },
          "metadata": {},
          "execution_count": 69
        }
      ],
      "source": [
        "dftrain['Foreigner_index'].nunique()"
      ]
    },
    {
      "cell_type": "code",
      "execution_count": null,
      "metadata": {
        "id": "WrRDy0z0mG_A",
        "colab": {
          "base_uri": "https://localhost:8080/"
        },
        "outputId": "75929d5d-1cbb-4577-a253-03c9cdc3c6e7"
      },
      "outputs": [
        {
          "output_type": "execute_result",
          "data": {
            "text/plain": [
              "N      12974839\n",
              "S        644736\n",
              "NaN       27734\n",
              "Name: Foreigner_index, dtype: int64"
            ]
          },
          "metadata": {},
          "execution_count": 72
        }
      ],
      "source": [
        "dftrain['Foreigner_index'].value_counts(dropna=False).sort_index()"
      ]
    },
    {
      "cell_type": "code",
      "execution_count": null,
      "metadata": {
        "id": "9Md0RzqmmG8f",
        "colab": {
          "base_uri": "https://localhost:8080/"
        },
        "outputId": "f8fb01fb-7d21-49df-a344-c83f9e451d24"
      },
      "outputs": [
        {
          "output_type": "stream",
          "name": "stdout",
          "text": [
            "<class 'pandas.core.series.Series'>\n",
            "RangeIndex: 13647309 entries, 0 to 13647308\n",
            "Series name: Spouse_index\n",
            "Non-Null Count  Dtype \n",
            "--------------  ----- \n",
            "1808 non-null   object\n",
            "dtypes: object(1)\n",
            "memory usage: 104.1+ MB\n"
          ]
        }
      ],
      "source": [
        "#Spouse_index:\n",
        "dftrain['Spouse_index'].info()"
      ]
    },
    {
      "cell_type": "code",
      "execution_count": null,
      "metadata": {
        "id": "ZU0NhdqbmG5V",
        "colab": {
          "base_uri": "https://localhost:8080/"
        },
        "outputId": "6d7ad17d-64e0-4ee8-a8a8-3ba00b1cf7ef"
      },
      "outputs": [
        {
          "output_type": "execute_result",
          "data": {
            "text/plain": [
              "array([nan, 'N', 'S'], dtype=object)"
            ]
          },
          "metadata": {},
          "execution_count": 74
        }
      ],
      "source": [
        "dftrain['Spouse_index'].unique()"
      ]
    },
    {
      "cell_type": "code",
      "execution_count": null,
      "metadata": {
        "id": "gKPkYX71mG2E",
        "colab": {
          "base_uri": "https://localhost:8080/"
        },
        "outputId": "57638b97-0bcc-4faa-bcd6-5cf74723473f"
      },
      "outputs": [
        {
          "output_type": "execute_result",
          "data": {
            "text/plain": [
              "2"
            ]
          },
          "metadata": {},
          "execution_count": 75
        }
      ],
      "source": [
        "dftrain['Spouse_index'].nunique()"
      ]
    },
    {
      "cell_type": "code",
      "execution_count": null,
      "metadata": {
        "id": "cs4DOOJDmGzX",
        "colab": {
          "base_uri": "https://localhost:8080/"
        },
        "outputId": "b006edfe-3c4b-49cb-a36d-9e3e5cfa0681"
      },
      "outputs": [
        {
          "output_type": "execute_result",
          "data": {
            "text/plain": [
              "N          1791\n",
              "S            17\n",
              "NaN    13645501\n",
              "Name: Spouse_index, dtype: int64"
            ]
          },
          "metadata": {},
          "execution_count": 78
        }
      ],
      "source": [
        "dftrain['Spouse_index'].value_counts(dropna=False).sort_index()"
      ]
    },
    {
      "cell_type": "code",
      "execution_count": null,
      "metadata": {
        "id": "W72NieMNmGwz",
        "colab": {
          "base_uri": "https://localhost:8080/"
        },
        "outputId": "85c106d5-ef1e-4ec8-ca91-8d6eb82f4125"
      },
      "outputs": [
        {
          "output_type": "stream",
          "name": "stdout",
          "text": [
            "<class 'pandas.core.series.Series'>\n",
            "RangeIndex: 13647309 entries, 0 to 13647308\n",
            "Series name: Channel\n",
            "Non-Null Count     Dtype \n",
            "--------------     ----- \n",
            "13461183 non-null  object\n",
            "dtypes: object(1)\n",
            "memory usage: 104.1+ MB\n"
          ]
        }
      ],
      "source": [
        "# Channel:\n",
        "dftrain['Channel'].info()"
      ]
    },
    {
      "cell_type": "code",
      "execution_count": null,
      "metadata": {
        "id": "Wy05sFGemGt1",
        "colab": {
          "base_uri": "https://localhost:8080/"
        },
        "outputId": "15a2105e-4fd1-4632-8408-8cd5ce0b8c8b"
      },
      "outputs": [
        {
          "output_type": "execute_result",
          "data": {
            "text/plain": [
              "162"
            ]
          },
          "metadata": {},
          "execution_count": 80
        }
      ],
      "source": [
        "dftrain['Channel'].nunique()"
      ]
    },
    {
      "cell_type": "code",
      "execution_count": null,
      "metadata": {
        "id": "_Ysg3tK_wEUe",
        "colab": {
          "base_uri": "https://localhost:8080/"
        },
        "outputId": "2e3e8df7-ac04-42a9-d287-ac0e86dffc21"
      },
      "outputs": [
        {
          "output_type": "execute_result",
          "data": {
            "text/plain": [
              "array(['KHL', 'KHE', 'KHD', 'KFA', 'KFC', 'KAT', nan, 'KAZ', 'RED', 'KHC',\n",
              "       'KHK', 'KGN', 'KHM', 'KHO', 'KDH', 'KEH', 'KAD', 'KBG', 'KGC',\n",
              "       'KHF', 'KFK', 'KHN', 'KHA', 'KAF', 'KGX', 'KFD', 'KAG', 'KFG',\n",
              "       'KAB', 'KCC', 'KAE', 'KAH', 'KAR', 'KFJ', 'KFL', 'KAI', 'KFU',\n",
              "       'KAQ', 'KFS', 'KAA', 'KFP', 'KAJ', 'KFN', 'KGV', 'KGY', 'KFF',\n",
              "       'KAP', 'KDE', 'KFV', '013', 'K00', 'KAK', 'KCK', 'KCL', 'KAY',\n",
              "       'KBU', 'KDR', 'KAC', 'KDT', 'KCG', 'KDO', 'KDY', 'KBQ', 'KDA',\n",
              "       'KBO', 'KCI', 'KEC', 'KBZ', 'KES', 'KDX', 'KAS', '007', 'KEU',\n",
              "       'KCA', 'KAL', 'KDC', 'KAW', 'KCS', 'KCB', 'KDU', 'KDQ', 'KCN',\n",
              "       'KCM', '004', 'KCH', 'KCD', 'KCE', 'KEV', 'KBL', 'KEA', 'KBH',\n",
              "       'KDV', 'KFT', 'KEY', 'KAO', 'KEJ', 'KEO', 'KEI', 'KEW', 'KDZ',\n",
              "       'KBV', 'KBR', 'KBF', 'KDP', 'KCO', 'KCF', 'KCV', 'KAM', 'KEZ',\n",
              "       'KBD', 'KAN', 'KBY', 'KCT', 'KDD', 'KBW', 'KCU', 'KBX', 'KDB',\n",
              "       'KBS', 'KBE', 'KCX', 'KBP', 'KBN', 'KEB', 'KDS', 'KEL', 'KDG',\n",
              "       'KDF', 'KEF', 'KCP', 'KDM', 'KBB', 'KDW', 'KBJ', 'KFI', 'KBM',\n",
              "       'KEG', 'KEN', 'KEQ', 'KAV', 'KFH', 'KFM', 'KAU', 'KED', 'KFR',\n",
              "       'KEK', 'KFB', 'KGW', 'KFE', 'KGU', 'KDI', 'KDN', 'KEE', 'KCR',\n",
              "       'KCQ', 'KEM', 'KCJ', 'KHQ', 'KDL', '025', 'KHP', 'KHR', 'KHS'],\n",
              "      dtype=object)"
            ]
          },
          "metadata": {},
          "execution_count": 81
        }
      ],
      "source": [
        "dftrain['Channel'].unique()"
      ]
    },
    {
      "cell_type": "code",
      "execution_count": null,
      "metadata": {
        "id": "bln_9eh5wERW",
        "colab": {
          "base_uri": "https://localhost:8080/"
        },
        "outputId": "8d132e77-f766-4cf5-d1cd-6edc7bd2a7dc"
      },
      "outputs": [
        {
          "output_type": "execute_result",
          "data": {
            "text/plain": [
              "004       210\n",
              "007     29063\n",
              "013     27139\n",
              "025        11\n",
              "K00       152\n",
              "        ...  \n",
              "KHQ    591039\n",
              "KHR         1\n",
              "KHS         5\n",
              "RED     75607\n",
              "NaN    186126\n",
              "Name: Channel, Length: 163, dtype: int64"
            ]
          },
          "metadata": {},
          "execution_count": 83
        }
      ],
      "source": [
        "dftrain['Channel'].value_counts(dropna=False).sort_index()"
      ]
    },
    {
      "cell_type": "code",
      "execution_count": null,
      "metadata": {
        "id": "3rgjNJWPwEOj",
        "colab": {
          "base_uri": "https://localhost:8080/"
        },
        "outputId": "265610b7-d9bf-476b-a9bb-1fbc64694974"
      },
      "outputs": [
        {
          "output_type": "stream",
          "name": "stdout",
          "text": [
            "<class 'pandas.core.series.Series'>\n",
            "RangeIndex: 13647309 entries, 0 to 13647308\n",
            "Series name: Deceased_index\n",
            "Non-Null Count     Dtype \n",
            "--------------     ----- \n",
            "13619575 non-null  object\n",
            "dtypes: object(1)\n",
            "memory usage: 104.1+ MB\n"
          ]
        }
      ],
      "source": [
        "#Deceased_index:\n",
        "dftrain['Deceased_index'].info()"
      ]
    },
    {
      "cell_type": "code",
      "execution_count": null,
      "metadata": {
        "id": "rgiMqfu_wEL7",
        "colab": {
          "base_uri": "https://localhost:8080/"
        },
        "outputId": "43e940dc-ee94-47e3-d1e7-7439ddf25e01"
      },
      "outputs": [
        {
          "output_type": "execute_result",
          "data": {
            "text/plain": [
              "2"
            ]
          },
          "metadata": {},
          "execution_count": 85
        }
      ],
      "source": [
        "dftrain['Deceased_index'].nunique()"
      ]
    },
    {
      "cell_type": "code",
      "execution_count": null,
      "metadata": {
        "id": "PaN7apK2wD_q",
        "colab": {
          "base_uri": "https://localhost:8080/"
        },
        "outputId": "f01c45a2-61c4-440e-fec1-07adb2d01192"
      },
      "outputs": [
        {
          "output_type": "execute_result",
          "data": {
            "text/plain": [
              "array(['N', nan, 'S'], dtype=object)"
            ]
          },
          "metadata": {},
          "execution_count": 86
        }
      ],
      "source": [
        "dftrain['Deceased_index'].unique()"
      ]
    },
    {
      "cell_type": "code",
      "execution_count": null,
      "metadata": {
        "id": "kbGz5Kv_wD9H",
        "colab": {
          "base_uri": "https://localhost:8080/"
        },
        "outputId": "0cafff08-38dd-43b2-f43a-625953b800f6"
      },
      "outputs": [
        {
          "output_type": "execute_result",
          "data": {
            "text/plain": [
              "N      13584813\n",
              "S         34762\n",
              "NaN       27734\n",
              "Name: Deceased_index, dtype: int64"
            ]
          },
          "metadata": {},
          "execution_count": 88
        }
      ],
      "source": [
        "dftrain['Deceased_index'].value_counts(dropna=False).sort_index()"
      ]
    },
    {
      "cell_type": "code",
      "execution_count": null,
      "metadata": {
        "id": "CRWdiurowD5i",
        "colab": {
          "base_uri": "https://localhost:8080/"
        },
        "outputId": "3e2e104b-be1f-41b0-b4b7-f271492c9b58"
      },
      "outputs": [
        {
          "output_type": "stream",
          "name": "stdout",
          "text": [
            "<class 'pandas.core.series.Series'>\n",
            "RangeIndex: 13647309 entries, 0 to 13647308\n",
            "Series name: Primary_Address\n",
            "Non-Null Count     Dtype  \n",
            "--------------     -----  \n",
            "13619574 non-null  float64\n",
            "dtypes: float64(1)\n",
            "memory usage: 104.1 MB\n"
          ]
        }
      ],
      "source": [
        "#Primary_Address:\n",
        "dftrain['Primary_Address'].info()"
      ]
    },
    {
      "cell_type": "code",
      "execution_count": null,
      "metadata": {
        "id": "oKVUjoT7wD2Z",
        "colab": {
          "base_uri": "https://localhost:8080/"
        },
        "outputId": "7c648f48-aa97-4f8c-8929-8682d3d19cf8"
      },
      "outputs": [
        {
          "output_type": "execute_result",
          "data": {
            "text/plain": [
              "1"
            ]
          },
          "metadata": {},
          "execution_count": 90
        }
      ],
      "source": [
        "dftrain['Primary_Address'].nunique()"
      ]
    },
    {
      "cell_type": "code",
      "execution_count": null,
      "metadata": {
        "id": "JXOEh9ZPwDzs",
        "colab": {
          "base_uri": "https://localhost:8080/"
        },
        "outputId": "e4d2ff8d-bb2e-4778-bef2-c198b4ad7147"
      },
      "outputs": [
        {
          "output_type": "execute_result",
          "data": {
            "text/plain": [
              "array([ 1., nan])"
            ]
          },
          "metadata": {},
          "execution_count": 91
        }
      ],
      "source": [
        "dftrain['Primary_Address'].unique()"
      ]
    },
    {
      "cell_type": "code",
      "execution_count": null,
      "metadata": {
        "id": "SXffAGC-wDw9",
        "colab": {
          "base_uri": "https://localhost:8080/"
        },
        "outputId": "defa65cf-d1e8-468c-e27f-143de3b20fdb"
      },
      "outputs": [
        {
          "output_type": "execute_result",
          "data": {
            "text/plain": [
              "1.0    13619574\n",
              "Name: Primary_Address, dtype: int64"
            ]
          },
          "metadata": {},
          "execution_count": 92
        }
      ],
      "source": [
        "dftrain['Primary_Address'].value_counts().sort_index()"
      ]
    },
    {
      "cell_type": "code",
      "execution_count": null,
      "metadata": {
        "id": "0ZwCBmk7wDuS",
        "colab": {
          "base_uri": "https://localhost:8080/"
        },
        "outputId": "f050f82e-5ea5-486e-a602-00922c30c545"
      },
      "outputs": [
        {
          "output_type": "stream",
          "name": "stdout",
          "text": [
            "<class 'pandas.core.series.Series'>\n",
            "RangeIndex: 13647309 entries, 0 to 13647308\n",
            "Series name: Customer_address\n",
            "Non-Null Count     Dtype  \n",
            "--------------     -----  \n",
            "13553718 non-null  float64\n",
            "dtypes: float64(1)\n",
            "memory usage: 104.1 MB\n"
          ]
        }
      ],
      "source": [
        "#Customer_address:\n",
        "dftrain['Customer_address'].info()"
      ]
    },
    {
      "cell_type": "code",
      "execution_count": null,
      "metadata": {
        "id": "XFrNluUXwDrg",
        "colab": {
          "base_uri": "https://localhost:8080/"
        },
        "outputId": "075ba3f8-c955-4345-91aa-e812f3352f52"
      },
      "outputs": [
        {
          "output_type": "execute_result",
          "data": {
            "text/plain": [
              "52"
            ]
          },
          "metadata": {},
          "execution_count": 94
        }
      ],
      "source": [
        "dftrain['Customer_address'].nunique()"
      ]
    },
    {
      "cell_type": "code",
      "execution_count": null,
      "metadata": {
        "id": "9d2NyXXYwDox",
        "colab": {
          "base_uri": "https://localhost:8080/"
        },
        "outputId": "32a243c2-2395-47cc-c7be-35ce18509aee"
      },
      "outputs": [
        {
          "output_type": "execute_result",
          "data": {
            "text/plain": [
              "array([29., 13., 50., 45., 24., 20., 10., 17., 49.,  8., 37.,  9., 22.,\n",
              "       31.,  5., 40., 27., 25., 28.,  3., 42., 41., 39.,  7., 47., 36.,\n",
              "       46., 44., 15., 32., 23., 16., 48., 12., 26.,  2.,  6., 30., 11.,\n",
              "       nan,  4., 19., 34., 35., 14., 21., 18., 33., 38., 52., 43.,  1.,\n",
              "       51.])"
            ]
          },
          "metadata": {},
          "execution_count": 95
        }
      ],
      "source": [
        "dftrain['Customer_address'].unique()"
      ]
    },
    {
      "cell_type": "code",
      "execution_count": null,
      "metadata": {
        "id": "7koLwGeBwDmS",
        "colab": {
          "base_uri": "https://localhost:8080/"
        },
        "outputId": "c51b1ecb-c952-4f9d-cc60-bf5c567c04d4"
      },
      "outputs": [
        {
          "output_type": "execute_result",
          "data": {
            "text/plain": [
              "1.0       37704\n",
              "2.0      114128\n",
              "3.0      313397\n",
              "4.0       60291\n",
              "5.0       38783\n",
              "6.0      192996\n",
              "7.0      124933\n",
              "8.0     1275219\n",
              "9.0       97188\n",
              "10.0     129912\n",
              "11.0     294684\n",
              "12.0     104295\n",
              "13.0     119390\n",
              "14.0     144679\n",
              "15.0     429322\n",
              "16.0      57310\n",
              "17.0      90538\n",
              "18.0     178562\n",
              "19.0      64618\n",
              "20.0      71567\n",
              "21.0     122283\n",
              "22.0      40181\n",
              "23.0      64363\n",
              "24.0      83003\n",
              "25.0      79059\n",
              "26.0      85202\n",
              "27.0      84962\n",
              "28.0    4409600\n",
              "29.0     367023\n",
              "30.0     396759\n",
              "31.0      88618\n",
              "32.0      84009\n",
              "33.0     265749\n",
              "34.0      49282\n",
              "35.0     235700\n",
              "36.0     280026\n",
              "37.0     164238\n",
              "38.0      70968\n",
              "39.0     155706\n",
              "40.0      42341\n",
              "41.0     605164\n",
              "42.0      17660\n",
              "43.0     100115\n",
              "44.0      22525\n",
              "45.0     183067\n",
              "46.0     682304\n",
              "47.0     238259\n",
              "48.0     185888\n",
              "49.0      50927\n",
              "50.0     342543\n",
              "51.0       7218\n",
              "52.0       9460\n",
              "Name: Customer_address, dtype: int64"
            ]
          },
          "metadata": {},
          "execution_count": 96
        }
      ],
      "source": [
        "dftrain['Customer_address'].value_counts().sort_index()"
      ]
    },
    {
      "cell_type": "code",
      "execution_count": null,
      "metadata": {
        "id": "BW4dmAgqwDjJ",
        "colab": {
          "base_uri": "https://localhost:8080/"
        },
        "outputId": "dacc7645-cf05-4e74-ecf0-b2d96c375772"
      },
      "outputs": [
        {
          "output_type": "stream",
          "name": "stdout",
          "text": [
            "<class 'pandas.core.series.Series'>\n",
            "RangeIndex: 13647309 entries, 0 to 13647308\n",
            "Series name: province_name\n",
            "Non-Null Count     Dtype \n",
            "--------------     ----- \n",
            "13553718 non-null  object\n",
            "dtypes: object(1)\n",
            "memory usage: 104.1+ MB\n"
          ]
        }
      ],
      "source": [
        "#province_name:\n",
        "dftrain['province_name'].info()"
      ]
    },
    {
      "cell_type": "code",
      "execution_count": null,
      "metadata": {
        "id": "iKa-2VCDwDgh",
        "colab": {
          "base_uri": "https://localhost:8080/"
        },
        "outputId": "e54a4003-a0bf-4f03-c50d-1bc573ad4727"
      },
      "outputs": [
        {
          "output_type": "execute_result",
          "data": {
            "text/plain": [
              "52"
            ]
          },
          "metadata": {},
          "execution_count": 98
        }
      ],
      "source": [
        "dftrain['province_name'].nunique()"
      ]
    },
    {
      "cell_type": "code",
      "execution_count": null,
      "metadata": {
        "id": "l17SyqbRwDd0",
        "colab": {
          "base_uri": "https://localhost:8080/"
        },
        "outputId": "b254370f-47f6-447e-e4f9-93a08ba4599c"
      },
      "outputs": [
        {
          "output_type": "execute_result",
          "data": {
            "text/plain": [
              "array(['MALAGA', 'CIUDAD REAL', 'ZARAGOZA', 'TOLEDO', 'LEON', 'GIPUZKOA',\n",
              "       'CACERES', 'GIRONA', 'ZAMORA', 'BARCELONA', 'SALAMANCA', 'BURGOS',\n",
              "       'HUESCA', 'NAVARRA', 'AVILA', 'SEGOVIA', 'LUGO', 'LERIDA',\n",
              "       'MADRID', 'ALICANTE', 'SORIA', 'SEVILLA', 'CANTABRIA',\n",
              "       'BALEARS, ILLES', 'VALLADOLID', 'PONTEVEDRA', 'VALENCIA', 'TERUEL',\n",
              "       'CORUÑA, A', 'OURENSE', 'JAEN', 'CUENCA', 'BIZKAIA', 'CASTELLON',\n",
              "       'RIOJA, LA', 'ALBACETE', 'BADAJOZ', 'MURCIA', 'CADIZ', nan,\n",
              "       'ALMERIA', 'GUADALAJARA', 'PALENCIA', 'PALMAS, LAS', 'CORDOBA',\n",
              "       'HUELVA', 'GRANADA', 'ASTURIAS', 'SANTA CRUZ DE TENERIFE',\n",
              "       'MELILLA', 'TARRAGONA', 'ALAVA', 'CEUTA'], dtype=object)"
            ]
          },
          "metadata": {},
          "execution_count": 99
        }
      ],
      "source": [
        "dftrain['province_name'].unique()"
      ]
    },
    {
      "cell_type": "code",
      "execution_count": null,
      "metadata": {
        "id": "GeUWYrQVwDaz",
        "colab": {
          "base_uri": "https://localhost:8080/"
        },
        "outputId": "5fcee9fc-f732-4c38-a7ac-b764efdcec13"
      },
      "outputs": [
        {
          "output_type": "execute_result",
          "data": {
            "text/plain": [
              "ALAVA                       37704\n",
              "ALBACETE                   114128\n",
              "ALICANTE                   313397\n",
              "ALMERIA                     60291\n",
              "ASTURIAS                   265749\n",
              "AVILA                       38783\n",
              "BADAJOZ                    192996\n",
              "BALEARS, ILLES             124933\n",
              "BARCELONA                 1275219\n",
              "BIZKAIA                    185888\n",
              "BURGOS                      97188\n",
              "CACERES                    129912\n",
              "CADIZ                      294684\n",
              "CANTABRIA                  155706\n",
              "CASTELLON                  104295\n",
              "CEUTA                        7218\n",
              "CIUDAD REAL                119390\n",
              "CORDOBA                    144679\n",
              "CORUÑA, A                  429322\n",
              "CUENCA                      57310\n",
              "GIPUZKOA                    71567\n",
              "GIRONA                      90538\n",
              "GRANADA                    178562\n",
              "GUADALAJARA                 64618\n",
              "HUELVA                     122283\n",
              "HUESCA                      40181\n",
              "JAEN                        64363\n",
              "LEON                        83003\n",
              "LERIDA                      79059\n",
              "LUGO                        84962\n",
              "MADRID                    4409600\n",
              "MALAGA                     367023\n",
              "MELILLA                      9460\n",
              "MURCIA                     396759\n",
              "NAVARRA                     88618\n",
              "OURENSE                     84009\n",
              "PALENCIA                    49282\n",
              "PALMAS, LAS                235700\n",
              "PONTEVEDRA                 280026\n",
              "RIOJA, LA                   85202\n",
              "SALAMANCA                  164238\n",
              "SANTA CRUZ DE TENERIFE      70968\n",
              "SEGOVIA                     42341\n",
              "SEVILLA                    605164\n",
              "SORIA                       17660\n",
              "TARRAGONA                  100115\n",
              "TERUEL                      22525\n",
              "TOLEDO                     183067\n",
              "VALENCIA                   682304\n",
              "VALLADOLID                 238259\n",
              "ZAMORA                      50927\n",
              "ZARAGOZA                   342543\n",
              "Name: province_name, dtype: int64"
            ]
          },
          "metadata": {},
          "execution_count": 100
        }
      ],
      "source": [
        "dftrain['province_name'].value_counts().sort_index()"
      ]
    },
    {
      "cell_type": "code",
      "execution_count": null,
      "metadata": {
        "id": "YFsh6RQ5wDYM",
        "colab": {
          "base_uri": "https://localhost:8080/"
        },
        "outputId": "cd56c562-bcb5-49ed-a369-9e8940d3b870"
      },
      "outputs": [
        {
          "output_type": "stream",
          "name": "stdout",
          "text": [
            "<class 'pandas.core.series.Series'>\n",
            "RangeIndex: 13647309 entries, 0 to 13647308\n",
            "Series name: Activity_index\n",
            "Non-Null Count     Dtype  \n",
            "--------------     -----  \n",
            "13619575 non-null  float64\n",
            "dtypes: float64(1)\n",
            "memory usage: 104.1 MB\n"
          ]
        }
      ],
      "source": [
        "#Activity_index:\n",
        "dftrain['Activity_index'].info()"
      ]
    },
    {
      "cell_type": "code",
      "execution_count": null,
      "metadata": {
        "id": "TrnCNO00wDVX",
        "colab": {
          "base_uri": "https://localhost:8080/"
        },
        "outputId": "1d20271a-bd15-435d-fabb-3413c60719ee"
      },
      "outputs": [
        {
          "output_type": "execute_result",
          "data": {
            "text/plain": [
              "52"
            ]
          },
          "metadata": {},
          "execution_count": 102
        }
      ],
      "source": [
        "dftrain['province_name'].nunique()"
      ]
    },
    {
      "cell_type": "code",
      "execution_count": null,
      "metadata": {
        "id": "gpBLCp96wDSj",
        "colab": {
          "base_uri": "https://localhost:8080/"
        },
        "outputId": "89329c6f-c9ed-4e71-f5fd-bc5cdd5759eb"
      },
      "outputs": [
        {
          "output_type": "execute_result",
          "data": {
            "text/plain": [
              "array(['MALAGA', 'CIUDAD REAL', 'ZARAGOZA', 'TOLEDO', 'LEON', 'GIPUZKOA',\n",
              "       'CACERES', 'GIRONA', 'ZAMORA', 'BARCELONA', 'SALAMANCA', 'BURGOS',\n",
              "       'HUESCA', 'NAVARRA', 'AVILA', 'SEGOVIA', 'LUGO', 'LERIDA',\n",
              "       'MADRID', 'ALICANTE', 'SORIA', 'SEVILLA', 'CANTABRIA',\n",
              "       'BALEARS, ILLES', 'VALLADOLID', 'PONTEVEDRA', 'VALENCIA', 'TERUEL',\n",
              "       'CORUÑA, A', 'OURENSE', 'JAEN', 'CUENCA', 'BIZKAIA', 'CASTELLON',\n",
              "       'RIOJA, LA', 'ALBACETE', 'BADAJOZ', 'MURCIA', 'CADIZ', nan,\n",
              "       'ALMERIA', 'GUADALAJARA', 'PALENCIA', 'PALMAS, LAS', 'CORDOBA',\n",
              "       'HUELVA', 'GRANADA', 'ASTURIAS', 'SANTA CRUZ DE TENERIFE',\n",
              "       'MELILLA', 'TARRAGONA', 'ALAVA', 'CEUTA'], dtype=object)"
            ]
          },
          "metadata": {},
          "execution_count": 103
        }
      ],
      "source": [
        "dftrain['province_name'].unique()"
      ]
    },
    {
      "cell_type": "code",
      "execution_count": null,
      "metadata": {
        "id": "o8gzGlkuwDP6",
        "colab": {
          "base_uri": "https://localhost:8080/"
        },
        "outputId": "88e8aea9-2c30-46eb-d1cf-ab6039295ab3"
      },
      "outputs": [
        {
          "output_type": "execute_result",
          "data": {
            "text/plain": [
              "ALAVA                       37704\n",
              "ALBACETE                   114128\n",
              "ALICANTE                   313397\n",
              "ALMERIA                     60291\n",
              "ASTURIAS                   265749\n",
              "AVILA                       38783\n",
              "BADAJOZ                    192996\n",
              "BALEARS, ILLES             124933\n",
              "BARCELONA                 1275219\n",
              "BIZKAIA                    185888\n",
              "BURGOS                      97188\n",
              "CACERES                    129912\n",
              "CADIZ                      294684\n",
              "CANTABRIA                  155706\n",
              "CASTELLON                  104295\n",
              "CEUTA                        7218\n",
              "CIUDAD REAL                119390\n",
              "CORDOBA                    144679\n",
              "CORUÑA, A                  429322\n",
              "CUENCA                      57310\n",
              "GIPUZKOA                    71567\n",
              "GIRONA                      90538\n",
              "GRANADA                    178562\n",
              "GUADALAJARA                 64618\n",
              "HUELVA                     122283\n",
              "HUESCA                      40181\n",
              "JAEN                        64363\n",
              "LEON                        83003\n",
              "LERIDA                      79059\n",
              "LUGO                        84962\n",
              "MADRID                    4409600\n",
              "MALAGA                     367023\n",
              "MELILLA                      9460\n",
              "MURCIA                     396759\n",
              "NAVARRA                     88618\n",
              "OURENSE                     84009\n",
              "PALENCIA                    49282\n",
              "PALMAS, LAS                235700\n",
              "PONTEVEDRA                 280026\n",
              "RIOJA, LA                   85202\n",
              "SALAMANCA                  164238\n",
              "SANTA CRUZ DE TENERIFE      70968\n",
              "SEGOVIA                     42341\n",
              "SEVILLA                    605164\n",
              "SORIA                       17660\n",
              "TARRAGONA                  100115\n",
              "TERUEL                      22525\n",
              "TOLEDO                     183067\n",
              "VALENCIA                   682304\n",
              "VALLADOLID                 238259\n",
              "ZAMORA                      50927\n",
              "ZARAGOZA                   342543\n",
              "Name: province_name, dtype: int64"
            ]
          },
          "metadata": {},
          "execution_count": 104
        }
      ],
      "source": [
        "dftrain['province_name'].value_counts().sort_index()"
      ]
    },
    {
      "cell_type": "code",
      "execution_count": null,
      "metadata": {
        "id": "Yty9y9fDwDMq"
      },
      "outputs": [],
      "source": [
        "#Gross_income:"
      ]
    },
    {
      "cell_type": "code",
      "execution_count": null,
      "metadata": {
        "id": "7XE1VFRXmGrF",
        "colab": {
          "base_uri": "https://localhost:8080/"
        },
        "outputId": "e9d7a364-0281-463d-a521-ae62dd2079db"
      },
      "outputs": [
        {
          "output_type": "stream",
          "name": "stdout",
          "text": [
            "<class 'pandas.core.series.Series'>\n",
            "RangeIndex: 13647309 entries, 0 to 13647308\n",
            "Series name: Gross_income\n",
            "Non-Null Count     Dtype  \n",
            "--------------     -----  \n",
            "10852934 non-null  float64\n",
            "dtypes: float64(1)\n",
            "memory usage: 104.1 MB\n"
          ]
        }
      ],
      "source": [
        "dftrain['Gross_income'].info()"
      ]
    },
    {
      "cell_type": "code",
      "execution_count": null,
      "metadata": {
        "id": "-T-shvUT4hot",
        "colab": {
          "base_uri": "https://localhost:8080/"
        },
        "outputId": "329c5a94-6f0f-40b9-fc87-b0b1856fd1b9"
      },
      "outputs": [
        {
          "output_type": "execute_result",
          "data": {
            "text/plain": [
              "array([ 87218.1 ,  35548.74, 122179.11, ...,  63867.66,  34341.18,\n",
              "        89018.37])"
            ]
          },
          "metadata": {},
          "execution_count": 106
        }
      ],
      "source": [
        "dftrain['Gross_income'].unique()"
      ]
    },
    {
      "cell_type": "code",
      "execution_count": null,
      "metadata": {
        "id": "E2Dn0_7hmGna",
        "colab": {
          "base_uri": "https://localhost:8080/"
        },
        "outputId": "eb3e15c8-a342-468a-b742-ae96826ebf32"
      },
      "outputs": [
        {
          "output_type": "execute_result",
          "data": {
            "text/plain": [
              "520994"
            ]
          },
          "metadata": {},
          "execution_count": 107
        }
      ],
      "source": [
        "dftrain['Gross_income'].nunique()"
      ]
    },
    {
      "cell_type": "code",
      "execution_count": null,
      "metadata": {
        "id": "Jzd9yuLw2MlB",
        "colab": {
          "base_uri": "https://localhost:8080/"
        },
        "outputId": "bed9ef09-a049-46cc-b677-e7ac2951e41d"
      },
      "outputs": [
        {
          "output_type": "execute_result",
          "data": {
            "text/plain": [
              "1202.73        17\n",
              "1471.23        17\n",
              "2336.01        11\n",
              "2539.80        17\n",
              "3731.79        10\n",
              "               ..\n",
              "22034738.76    96\n",
              "23720066.55    45\n",
              "24253236.93    28\n",
              "25547251.92    17\n",
              "28894395.51    75\n",
              "Name: Gross_income, Length: 520994, dtype: int64"
            ]
          },
          "metadata": {},
          "execution_count": 108
        }
      ],
      "source": [
        "dftrain['Gross_income'].value_counts().sort_index()"
      ]
    },
    {
      "cell_type": "code",
      "execution_count": null,
      "metadata": {
        "id": "0z4uXCJE2Mnp",
        "colab": {
          "base_uri": "https://localhost:8080/"
        },
        "outputId": "dc956908-7461-4a76-a1df-2acc78b9e980"
      },
      "outputs": [
        {
          "output_type": "stream",
          "name": "stdout",
          "text": [
            "<class 'pandas.core.series.Series'>\n",
            "RangeIndex: 13647309 entries, 0 to 13647308\n",
            "Series name: Segmentation\n",
            "Non-Null Count     Dtype \n",
            "--------------     ----- \n",
            "13457941 non-null  object\n",
            "dtypes: object(1)\n",
            "memory usage: 104.1+ MB\n"
          ]
        }
      ],
      "source": [
        "#Segmentation:\n",
        "dftrain['Segmentation'].info()"
      ]
    },
    {
      "cell_type": "code",
      "execution_count": null,
      "metadata": {
        "id": "NHt-7g_Kct7f",
        "colab": {
          "base_uri": "https://localhost:8080/"
        },
        "outputId": "85ec4ecb-3394-48ef-f625-e213a4393115"
      },
      "outputs": [
        {
          "output_type": "execute_result",
          "data": {
            "text/plain": [
              "3"
            ]
          },
          "metadata": {},
          "execution_count": 114
        }
      ],
      "source": [
        "dftrain['Segmentation'].nunique()"
      ]
    },
    {
      "cell_type": "code",
      "execution_count": null,
      "metadata": {
        "id": "54wTLotu7DZ_",
        "colab": {
          "base_uri": "https://localhost:8080/"
        },
        "outputId": "0c747e9e-3123-4a0d-8253-75aedac5bd36"
      },
      "outputs": [
        {
          "output_type": "execute_result",
          "data": {
            "text/plain": [
              "array(['02 - PARTICULARES', '03 - UNIVERSITARIO', nan, '01 - TOP'],\n",
              "      dtype=object)"
            ]
          },
          "metadata": {},
          "execution_count": 110
        }
      ],
      "source": [
        "dftrain['Segmentation'].unique()"
      ]
    },
    {
      "cell_type": "code",
      "execution_count": null,
      "metadata": {
        "id": "-TDtGn5O7DeO",
        "colab": {
          "base_uri": "https://localhost:8080/"
        },
        "outputId": "e7b4ceba-4b22-4cf1-ef5c-0ed4e07ba6e3"
      },
      "outputs": [
        {
          "output_type": "execute_result",
          "data": {
            "text/plain": [
              "01 - TOP               562142\n",
              "02 - PARTICULARES     7960220\n",
              "03 - UNIVERSITARIO    4935579\n",
              "NaN                    189368\n",
              "Name: Segmentation, dtype: int64"
            ]
          },
          "metadata": {},
          "execution_count": 112
        }
      ],
      "source": [
        "dftrain['Segmentation'].value_counts(dropna=False).sort_index()"
      ]
    },
    {
      "cell_type": "code",
      "execution_count": null,
      "metadata": {
        "id": "oSJqTHKr7DgZ",
        "colab": {
          "base_uri": "https://localhost:8080/"
        },
        "outputId": "a382b24d-b194-4b16-abf6-b1b470824a96"
      },
      "outputs": [
        {
          "output_type": "stream",
          "name": "stdout",
          "text": [
            "<class 'pandas.core.series.Series'>\n",
            "RangeIndex: 13647309 entries, 0 to 13647308\n",
            "Series name: Saving_account\n",
            "Non-Null Count     Dtype\n",
            "--------------     -----\n",
            "13647309 non-null  int64\n",
            "dtypes: int64(1)\n",
            "memory usage: 104.1 MB\n"
          ]
        }
      ],
      "source": [
        "#Saving_account:\n",
        "dftrain['Saving_account'].info()"
      ]
    },
    {
      "cell_type": "code",
      "execution_count": null,
      "metadata": {
        "id": "JhA4RX_m7DjV",
        "colab": {
          "base_uri": "https://localhost:8080/"
        },
        "outputId": "7894f710-a52b-4669-c309-953e2e3c5fe4"
      },
      "outputs": [
        {
          "output_type": "execute_result",
          "data": {
            "text/plain": [
              "array([0, 1])"
            ]
          },
          "metadata": {},
          "execution_count": 115
        }
      ],
      "source": [
        "dftrain['Saving_account'].unique()"
      ]
    },
    {
      "cell_type": "code",
      "execution_count": null,
      "metadata": {
        "id": "5fT4GFsV7Dl5",
        "colab": {
          "base_uri": "https://localhost:8080/"
        },
        "outputId": "6de3e9d8-08c4-40b9-c2e0-5b4fbecd7da3"
      },
      "outputs": [
        {
          "output_type": "execute_result",
          "data": {
            "text/plain": [
              "2"
            ]
          },
          "metadata": {},
          "execution_count": 116
        }
      ],
      "source": [
        "dftrain['Saving_account'].nunique()"
      ]
    },
    {
      "cell_type": "code",
      "execution_count": null,
      "metadata": {
        "id": "QDhHMABW7DpG",
        "colab": {
          "base_uri": "https://localhost:8080/"
        },
        "outputId": "9d462ed5-2084-490b-de95-126ab8423135"
      },
      "outputs": [
        {
          "output_type": "execute_result",
          "data": {
            "text/plain": [
              "0    13645913\n",
              "1        1396\n",
              "Name: Saving_account, dtype: int64"
            ]
          },
          "metadata": {},
          "execution_count": 117
        }
      ],
      "source": [
        "dftrain['Saving_account'].value_counts().sort_index()"
      ]
    },
    {
      "cell_type": "code",
      "execution_count": null,
      "metadata": {
        "id": "vHvNKvnE7DrY",
        "colab": {
          "base_uri": "https://localhost:8080/"
        },
        "outputId": "4eef252a-9326-48da-bbfe-bad507fb65e1"
      },
      "outputs": [
        {
          "output_type": "stream",
          "name": "stdout",
          "text": [
            "<class 'pandas.core.series.Series'>\n",
            "RangeIndex: 13647309 entries, 0 to 13647308\n",
            "Series name: Guarantees\n",
            "Non-Null Count     Dtype\n",
            "--------------     -----\n",
            "13647309 non-null  int64\n",
            "dtypes: int64(1)\n",
            "memory usage: 104.1 MB\n"
          ]
        }
      ],
      "source": [
        "#Guarantees:\n",
        "dftrain['Guarantees'].info()"
      ]
    },
    {
      "cell_type": "code",
      "execution_count": null,
      "metadata": {
        "id": "8J4nt6v17DvR",
        "colab": {
          "base_uri": "https://localhost:8080/"
        },
        "outputId": "09eaf6f4-8594-48dd-e437-61a434c5370f"
      },
      "outputs": [
        {
          "output_type": "execute_result",
          "data": {
            "text/plain": [
              "array([0, 1])"
            ]
          },
          "metadata": {},
          "execution_count": 119
        }
      ],
      "source": [
        "dftrain['Guarantees'].unique()"
      ]
    },
    {
      "cell_type": "code",
      "execution_count": null,
      "metadata": {
        "id": "h6l1sy887D1e",
        "colab": {
          "base_uri": "https://localhost:8080/"
        },
        "outputId": "cb486f8e-26c4-496b-90ec-887859d1c6ef"
      },
      "outputs": [
        {
          "output_type": "execute_result",
          "data": {
            "text/plain": [
              "2"
            ]
          },
          "metadata": {},
          "execution_count": 120
        }
      ],
      "source": [
        "dftrain['Guarantees'].nunique()"
      ]
    },
    {
      "cell_type": "code",
      "execution_count": null,
      "metadata": {
        "id": "wwLny4Va7D3z",
        "colab": {
          "base_uri": "https://localhost:8080/"
        },
        "outputId": "540192fb-782a-4ff9-dbf3-a65d7cc47b43"
      },
      "outputs": [
        {
          "output_type": "execute_result",
          "data": {
            "text/plain": [
              "0    13646993\n",
              "1         316\n",
              "Name: Guarantees, dtype: int64"
            ]
          },
          "metadata": {},
          "execution_count": 121
        }
      ],
      "source": [
        "dftrain['Guarantees'].value_counts().sort_index()"
      ]
    },
    {
      "cell_type": "code",
      "execution_count": null,
      "metadata": {
        "id": "L2TYDy9x7D7D",
        "colab": {
          "base_uri": "https://localhost:8080/"
        },
        "outputId": "4be76233-b31d-4520-9542-b57ce79d2691"
      },
      "outputs": [
        {
          "output_type": "stream",
          "name": "stdout",
          "text": [
            "<class 'pandas.core.series.Series'>\n",
            "RangeIndex: 13647309 entries, 0 to 13647308\n",
            "Series name: Current_accounts\n",
            "Non-Null Count     Dtype\n",
            "--------------     -----\n",
            "13647309 non-null  int64\n",
            "dtypes: int64(1)\n",
            "memory usage: 104.1 MB\n"
          ]
        }
      ],
      "source": [
        "#Current_accounts:\n",
        "dftrain['Current_accounts'].info()"
      ]
    },
    {
      "cell_type": "code",
      "execution_count": null,
      "metadata": {
        "id": "UwFNmegd7D-U",
        "colab": {
          "base_uri": "https://localhost:8080/"
        },
        "outputId": "0290f92d-5b22-4acc-ace1-a40c94927121"
      },
      "outputs": [
        {
          "output_type": "execute_result",
          "data": {
            "text/plain": [
              "array([1, 0])"
            ]
          },
          "metadata": {},
          "execution_count": 123
        }
      ],
      "source": [
        "dftrain['Current_accounts'].unique()"
      ]
    },
    {
      "cell_type": "code",
      "execution_count": null,
      "metadata": {
        "id": "e7-yqYRt7EAc",
        "colab": {
          "base_uri": "https://localhost:8080/"
        },
        "outputId": "6b5ffa60-d9b8-409a-b794-e7436904528a"
      },
      "outputs": [
        {
          "output_type": "execute_result",
          "data": {
            "text/plain": [
              "2"
            ]
          },
          "metadata": {},
          "execution_count": 124
        }
      ],
      "source": [
        "dftrain['Current_accounts'].nunique()"
      ]
    },
    {
      "cell_type": "code",
      "execution_count": null,
      "metadata": {
        "id": "RlDaeqhw7ECq",
        "colab": {
          "base_uri": "https://localhost:8080/"
        },
        "outputId": "9cf7e3c0-84cf-474b-85c9-65ac9984be7d"
      },
      "outputs": [
        {
          "output_type": "execute_result",
          "data": {
            "text/plain": [
              "0    4701721\n",
              "1    8945588\n",
              "Name: Current_accounts, dtype: int64"
            ]
          },
          "metadata": {},
          "execution_count": 127
        }
      ],
      "source": [
        "dftrain['Current_accounts'].value_counts(dropna=False).sort_index()"
      ]
    },
    {
      "cell_type": "code",
      "execution_count": null,
      "metadata": {
        "id": "5brlULU_7EEx",
        "colab": {
          "base_uri": "https://localhost:8080/"
        },
        "outputId": "d0cc8cd6-651c-48c2-fd7f-a666aa555f72"
      },
      "outputs": [
        {
          "output_type": "stream",
          "name": "stdout",
          "text": [
            "<class 'pandas.core.series.Series'>\n",
            "RangeIndex: 13647309 entries, 0 to 13647308\n",
            "Series name: Derivative_account\n",
            "Non-Null Count     Dtype\n",
            "--------------     -----\n",
            "13647309 non-null  int64\n",
            "dtypes: int64(1)\n",
            "memory usage: 104.1 MB\n"
          ]
        }
      ],
      "source": [
        "#Derivative_account:\n",
        "dftrain['Derivative_account'].info()"
      ]
    },
    {
      "cell_type": "code",
      "execution_count": null,
      "metadata": {
        "id": "9pmdnV-D747j",
        "colab": {
          "base_uri": "https://localhost:8080/"
        },
        "outputId": "14ad4f65-c9fc-4c9e-ee4b-5df09bad0758"
      },
      "outputs": [
        {
          "output_type": "execute_result",
          "data": {
            "text/plain": [
              "array([0, 1])"
            ]
          },
          "metadata": {},
          "execution_count": 128
        }
      ],
      "source": [
        "dftrain['Derivative_account'].unique()"
      ]
    },
    {
      "cell_type": "code",
      "execution_count": null,
      "metadata": {
        "id": "DIYr2ItK75DQ",
        "colab": {
          "base_uri": "https://localhost:8080/"
        },
        "outputId": "30f3230b-38d6-47e6-90c1-cf2a4e831007"
      },
      "outputs": [
        {
          "output_type": "execute_result",
          "data": {
            "text/plain": [
              "2"
            ]
          },
          "metadata": {},
          "execution_count": 129
        }
      ],
      "source": [
        "dftrain['Derivative_account'].nunique()"
      ]
    },
    {
      "cell_type": "code",
      "execution_count": null,
      "metadata": {
        "id": "167Sehd_75MQ",
        "colab": {
          "base_uri": "https://localhost:8080/"
        },
        "outputId": "d66865d8-7ef8-407e-d931-9cf5360f852c"
      },
      "outputs": [
        {
          "output_type": "execute_result",
          "data": {
            "text/plain": [
              "0    13641933\n",
              "1        5376\n",
              "Name: Derivative_account, dtype: int64"
            ]
          },
          "metadata": {},
          "execution_count": 130
        }
      ],
      "source": [
        "dftrain['Derivative_account'].value_counts(dropna=False).sort_index()"
      ]
    },
    {
      "cell_type": "code",
      "execution_count": null,
      "metadata": {
        "id": "18unv26575UT",
        "colab": {
          "base_uri": "https://localhost:8080/"
        },
        "outputId": "0eba32c3-03ef-45cc-b7bb-49aa47c7fe4b"
      },
      "outputs": [
        {
          "output_type": "stream",
          "name": "stdout",
          "text": [
            "<class 'pandas.core.series.Series'>\n",
            "RangeIndex: 13647309 entries, 0 to 13647308\n",
            "Series name: Payroll_account\n",
            "Non-Null Count     Dtype\n",
            "--------------     -----\n",
            "13647309 non-null  int64\n",
            "dtypes: int64(1)\n",
            "memory usage: 104.1 MB\n"
          ]
        }
      ],
      "source": [
        "#Payroll_account:\n",
        "dftrain['Payroll_account'].info()"
      ]
    },
    {
      "cell_type": "code",
      "execution_count": null,
      "metadata": {
        "id": "WogPwVri75co",
        "colab": {
          "base_uri": "https://localhost:8080/"
        },
        "outputId": "9bd9e599-1d85-4ce5-f9f9-9b77bdd4682e"
      },
      "outputs": [
        {
          "output_type": "execute_result",
          "data": {
            "text/plain": [
              "array([0, 1])"
            ]
          },
          "metadata": {},
          "execution_count": 132
        }
      ],
      "source": [
        "dftrain['Payroll_account'].unique()"
      ]
    },
    {
      "cell_type": "code",
      "execution_count": null,
      "metadata": {
        "id": "fXq1bl2575jl",
        "colab": {
          "base_uri": "https://localhost:8080/"
        },
        "outputId": "d35ea762-080a-42cd-b7dd-3c0145003ea8"
      },
      "outputs": [
        {
          "output_type": "execute_result",
          "data": {
            "text/plain": [
              "2"
            ]
          },
          "metadata": {},
          "execution_count": 133
        }
      ],
      "source": [
        "dftrain['Payroll_account'].nunique()"
      ]
    },
    {
      "cell_type": "code",
      "execution_count": null,
      "metadata": {
        "id": "ja0KKjZp75qo",
        "colab": {
          "base_uri": "https://localhost:8080/"
        },
        "outputId": "13b369d3-8fcf-4a84-aac9-ce6577a22f6e"
      },
      "outputs": [
        {
          "output_type": "execute_result",
          "data": {
            "text/plain": [
              "0    12543689\n",
              "1     1103620\n",
              "Name: Payroll_account, dtype: int64"
            ]
          },
          "metadata": {},
          "execution_count": 135
        }
      ],
      "source": [
        "dftrain['Payroll_account'].value_counts(dropna=False).sort_index()"
      ]
    },
    {
      "cell_type": "code",
      "execution_count": null,
      "metadata": {
        "id": "r7kLzkD-75wo",
        "colab": {
          "base_uri": "https://localhost:8080/"
        },
        "outputId": "e31db6e3-eca9-4c37-ae96-3852e552a7eb"
      },
      "outputs": [
        {
          "output_type": "stream",
          "name": "stdout",
          "text": [
            "<class 'pandas.core.series.Series'>\n",
            "RangeIndex: 13647309 entries, 0 to 13647308\n",
            "Series name: Junior_account\n",
            "Non-Null Count     Dtype\n",
            "--------------     -----\n",
            "13647309 non-null  int64\n",
            "dtypes: int64(1)\n",
            "memory usage: 104.1 MB\n"
          ]
        }
      ],
      "source": [
        "#Junior_account:\n",
        "dftrain['Junior_account'].info()"
      ]
    },
    {
      "cell_type": "code",
      "execution_count": null,
      "metadata": {
        "id": "LkbwJAkl75zO",
        "colab": {
          "base_uri": "https://localhost:8080/"
        },
        "outputId": "d65eef9c-2439-406e-fa65-170f9186ca70"
      },
      "outputs": [
        {
          "output_type": "execute_result",
          "data": {
            "text/plain": [
              "array([0, 1])"
            ]
          },
          "metadata": {},
          "execution_count": 137
        }
      ],
      "source": [
        "dftrain['Junior_account'].unique()"
      ]
    },
    {
      "cell_type": "code",
      "execution_count": null,
      "metadata": {
        "id": "pHFb4Y85752c",
        "colab": {
          "base_uri": "https://localhost:8080/"
        },
        "outputId": "97b83dca-1649-40f7-8f2b-c31963fb043f"
      },
      "outputs": [
        {
          "output_type": "execute_result",
          "data": {
            "text/plain": [
              "2"
            ]
          },
          "metadata": {},
          "execution_count": 138
        }
      ],
      "source": [
        "dftrain['Junior_account'].nunique()"
      ]
    },
    {
      "cell_type": "code",
      "execution_count": null,
      "metadata": {
        "id": "8_5ERKRk755e",
        "colab": {
          "base_uri": "https://localhost:8080/"
        },
        "outputId": "8798cf50-f595-4f1a-e4cd-c5b9ad58cd74"
      },
      "outputs": [
        {
          "output_type": "execute_result",
          "data": {
            "text/plain": [
              "0    13518012\n",
              "1      129297\n",
              "Name: Junior_account, dtype: int64"
            ]
          },
          "metadata": {},
          "execution_count": 139
        }
      ],
      "source": [
        "dftrain['Junior_account'].value_counts().sort_index()"
      ]
    },
    {
      "cell_type": "code",
      "execution_count": null,
      "metadata": {
        "id": "vkuoPKq6758W",
        "colab": {
          "base_uri": "https://localhost:8080/"
        },
        "outputId": "9586c018-24d9-456b-e41d-61d39cb4fadb"
      },
      "outputs": [
        {
          "output_type": "stream",
          "name": "stdout",
          "text": [
            "<class 'pandas.core.series.Series'>\n",
            "RangeIndex: 13647309 entries, 0 to 13647308\n",
            "Series name: More_private_account\n",
            "Non-Null Count     Dtype\n",
            "--------------     -----\n",
            "13647309 non-null  int64\n",
            "dtypes: int64(1)\n",
            "memory usage: 104.1 MB\n"
          ]
        }
      ],
      "source": [
        "#More_private_acccount:\n",
        "dftrain['More_private_account'].info()"
      ]
    },
    {
      "cell_type": "code",
      "execution_count": null,
      "metadata": {
        "id": "MQXSFoZ475-3",
        "colab": {
          "base_uri": "https://localhost:8080/"
        },
        "outputId": "14ce51fe-b224-468c-c6bd-458287bc034a"
      },
      "outputs": [
        {
          "output_type": "execute_result",
          "data": {
            "text/plain": [
              "array([0, 1])"
            ]
          },
          "metadata": {},
          "execution_count": 141
        }
      ],
      "source": [
        "dftrain['More_private_account'].unique()"
      ]
    },
    {
      "cell_type": "code",
      "execution_count": null,
      "metadata": {
        "id": "CtEeoOw376B-",
        "colab": {
          "base_uri": "https://localhost:8080/"
        },
        "outputId": "e830c7ed-4653-4c71-c0ca-c8440210669b"
      },
      "outputs": [
        {
          "output_type": "execute_result",
          "data": {
            "text/plain": [
              "2"
            ]
          },
          "metadata": {},
          "execution_count": 142
        }
      ],
      "source": [
        "dftrain['More_private_account'].nunique()"
      ]
    },
    {
      "cell_type": "code",
      "execution_count": null,
      "metadata": {
        "id": "MM3-XjUe76Fj",
        "colab": {
          "base_uri": "https://localhost:8080/"
        },
        "outputId": "7529c401-0c1d-4b8f-bce2-4b2c81f540bb"
      },
      "outputs": [
        {
          "output_type": "execute_result",
          "data": {
            "text/plain": [
              "0    13514567\n",
              "1      132742\n",
              "Name: More_private_account, dtype: int64"
            ]
          },
          "metadata": {},
          "execution_count": 143
        }
      ],
      "source": [
        "dftrain['More_private_account'].value_counts().sort_index()"
      ]
    },
    {
      "cell_type": "code",
      "execution_count": null,
      "metadata": {
        "id": "owUf-Up576KY",
        "colab": {
          "base_uri": "https://localhost:8080/"
        },
        "outputId": "33b59003-fbe8-4db8-869e-063f25d7ff0b"
      },
      "outputs": [
        {
          "output_type": "stream",
          "name": "stdout",
          "text": [
            "<class 'pandas.core.series.Series'>\n",
            "RangeIndex: 13647309 entries, 0 to 13647308\n",
            "Series name: Private_account\n",
            "Non-Null Count     Dtype\n",
            "--------------     -----\n",
            "13647309 non-null  int64\n",
            "dtypes: int64(1)\n",
            "memory usage: 104.1 MB\n"
          ]
        }
      ],
      "source": [
        "#Private_account:\n",
        "dftrain['Private_account'].info()"
      ]
    },
    {
      "cell_type": "code",
      "execution_count": null,
      "metadata": {
        "id": "Z1ILSRRw76Mc",
        "colab": {
          "base_uri": "https://localhost:8080/"
        },
        "outputId": "b997af61-bfd8-486c-ee3d-c8d888438234"
      },
      "outputs": [
        {
          "output_type": "execute_result",
          "data": {
            "text/plain": [
              "array([0, 1])"
            ]
          },
          "metadata": {},
          "execution_count": 145
        }
      ],
      "source": [
        "dftrain['Private_account'].unique()"
      ]
    },
    {
      "cell_type": "code",
      "execution_count": null,
      "metadata": {
        "id": "rqppGSvw76Pa",
        "colab": {
          "base_uri": "https://localhost:8080/"
        },
        "outputId": "91f4ee5d-3384-4e0e-da98-a7e82107572a"
      },
      "outputs": [
        {
          "output_type": "execute_result",
          "data": {
            "text/plain": [
              "2"
            ]
          },
          "metadata": {},
          "execution_count": 146
        }
      ],
      "source": [
        "dftrain['Private_account'].nunique()"
      ]
    },
    {
      "cell_type": "code",
      "execution_count": null,
      "metadata": {
        "id": "qV1RCUg676Rl",
        "colab": {
          "base_uri": "https://localhost:8080/"
        },
        "outputId": "0a250589-88d8-47e0-9441-c8107f56dd41"
      },
      "outputs": [
        {
          "output_type": "execute_result",
          "data": {
            "text/plain": [
              "0    11886693\n",
              "1     1760616\n",
              "Name: Private_account, dtype: int64"
            ]
          },
          "metadata": {},
          "execution_count": 147
        }
      ],
      "source": [
        "dftrain['Private_account'].value_counts().sort_index()"
      ]
    },
    {
      "cell_type": "code",
      "execution_count": null,
      "metadata": {
        "id": "DNOHM2ME76US",
        "colab": {
          "base_uri": "https://localhost:8080/"
        },
        "outputId": "f4418d4c-ad11-41a2-a81b-506f6d0d1cb8"
      },
      "outputs": [
        {
          "output_type": "stream",
          "name": "stdout",
          "text": [
            "<class 'pandas.core.series.Series'>\n",
            "RangeIndex: 13647309 entries, 0 to 13647308\n",
            "Series name: Private_plus_account\n",
            "Non-Null Count     Dtype\n",
            "--------------     -----\n",
            "13647309 non-null  int64\n",
            "dtypes: int64(1)\n",
            "memory usage: 104.1 MB\n"
          ]
        }
      ],
      "source": [
        "#Private_plus_account:\n",
        "dftrain['Private_plus_account'].info()"
      ]
    },
    {
      "cell_type": "code",
      "execution_count": null,
      "metadata": {
        "id": "ne4wnLp176Wl",
        "colab": {
          "base_uri": "https://localhost:8080/"
        },
        "outputId": "dd951945-1bba-49da-fbc9-85561a36b95a"
      },
      "outputs": [
        {
          "output_type": "execute_result",
          "data": {
            "text/plain": [
              "array([0, 1])"
            ]
          },
          "metadata": {},
          "execution_count": 149
        }
      ],
      "source": [
        "dftrain['Private_plus_account'].unique()"
      ]
    },
    {
      "cell_type": "code",
      "execution_count": null,
      "metadata": {
        "id": "rx2NWMgP76ZA",
        "colab": {
          "base_uri": "https://localhost:8080/"
        },
        "outputId": "a051c3a5-bcb8-4aeb-f56c-6e5da4e21d22"
      },
      "outputs": [
        {
          "output_type": "execute_result",
          "data": {
            "text/plain": [
              "2"
            ]
          },
          "metadata": {},
          "execution_count": 150
        }
      ],
      "source": [
        "dftrain['Private_plus_account'].nunique()"
      ]
    },
    {
      "cell_type": "code",
      "execution_count": null,
      "metadata": {
        "id": "dJ5NfDEM76bH",
        "colab": {
          "base_uri": "https://localhost:8080/"
        },
        "outputId": "8b0060ab-2a65-4951-d564-2a3211bbd9b2"
      },
      "outputs": [
        {
          "output_type": "execute_result",
          "data": {
            "text/plain": [
              "0    13056301\n",
              "1      591008\n",
              "Name: Private_plus_account, dtype: int64"
            ]
          },
          "metadata": {},
          "execution_count": 151
        }
      ],
      "source": [
        "dftrain['Private_plus_account'].value_counts().sort_index()"
      ]
    },
    {
      "cell_type": "code",
      "execution_count": null,
      "metadata": {
        "id": "WzjHEvxj76dn",
        "colab": {
          "base_uri": "https://localhost:8080/"
        },
        "outputId": "8750dd7c-5222-4ccb-e82c-cc48572379d1"
      },
      "outputs": [
        {
          "output_type": "stream",
          "name": "stdout",
          "text": [
            "<class 'pandas.core.series.Series'>\n",
            "RangeIndex: 13647309 entries, 0 to 13647308\n",
            "Series name: Short_term_deposits\n",
            "Non-Null Count     Dtype\n",
            "--------------     -----\n",
            "13647309 non-null  int64\n",
            "dtypes: int64(1)\n",
            "memory usage: 104.1 MB\n"
          ]
        }
      ],
      "source": [
        "#Short_term_deposits:\n",
        "dftrain['Short_term_deposits'].info()"
      ]
    },
    {
      "cell_type": "code",
      "execution_count": null,
      "metadata": {
        "id": "3AYR-nC176f3",
        "colab": {
          "base_uri": "https://localhost:8080/"
        },
        "outputId": "3118c364-7765-4214-aff0-96db3b8d3a7c"
      },
      "outputs": [
        {
          "output_type": "execute_result",
          "data": {
            "text/plain": [
              "array([0, 1])"
            ]
          },
          "metadata": {},
          "execution_count": 153
        }
      ],
      "source": [
        "dftrain['Short_term_deposits'].unique()"
      ]
    },
    {
      "cell_type": "code",
      "execution_count": null,
      "metadata": {
        "id": "u__PcgCU76i4",
        "colab": {
          "base_uri": "https://localhost:8080/"
        },
        "outputId": "9d2247cc-ed27-48c1-82e2-9b78c661b92f"
      },
      "outputs": [
        {
          "output_type": "execute_result",
          "data": {
            "text/plain": [
              "2"
            ]
          },
          "metadata": {},
          "execution_count": 154
        }
      ],
      "source": [
        "dftrain['Short_term_deposits'].nunique()"
      ]
    },
    {
      "cell_type": "code",
      "execution_count": null,
      "metadata": {
        "id": "cfVgtkaj76lN",
        "colab": {
          "base_uri": "https://localhost:8080/"
        },
        "outputId": "9585b3ba-c612-4a04-b98f-cb9f3d21011c"
      },
      "outputs": [
        {
          "output_type": "execute_result",
          "data": {
            "text/plain": [
              "0    13623034\n",
              "1       24275\n",
              "Name: Short_term_deposits, dtype: int64"
            ]
          },
          "metadata": {},
          "execution_count": 155
        }
      ],
      "source": [
        "dftrain['Short_term_deposits'].value_counts().sort_index()"
      ]
    },
    {
      "cell_type": "code",
      "execution_count": null,
      "metadata": {
        "id": "RI_IOZWG-PIS",
        "colab": {
          "base_uri": "https://localhost:8080/"
        },
        "outputId": "c8dfa738-b6d4-4945-e2ea-165e3bae56e4"
      },
      "outputs": [
        {
          "output_type": "stream",
          "name": "stdout",
          "text": [
            "<class 'pandas.core.series.Series'>\n",
            "RangeIndex: 13647309 entries, 0 to 13647308\n",
            "Series name: Medium_term_deposits\n",
            "Non-Null Count     Dtype\n",
            "--------------     -----\n",
            "13647309 non-null  int64\n",
            "dtypes: int64(1)\n",
            "memory usage: 104.1 MB\n"
          ]
        }
      ],
      "source": [
        "#Medium_term_deposits:\n",
        "dftrain['Medium_term_deposits'].info()"
      ]
    },
    {
      "cell_type": "code",
      "execution_count": null,
      "metadata": {
        "id": "aD7hL6DC-PLJ",
        "colab": {
          "base_uri": "https://localhost:8080/"
        },
        "outputId": "44cf403a-e888-4319-f05f-d5fb01c23b19"
      },
      "outputs": [
        {
          "output_type": "execute_result",
          "data": {
            "text/plain": [
              "array([0, 1])"
            ]
          },
          "metadata": {},
          "execution_count": 157
        }
      ],
      "source": [
        "dftrain['Medium_term_deposits'].unique()"
      ]
    },
    {
      "cell_type": "code",
      "execution_count": null,
      "metadata": {
        "id": "TcKcdgMR-POA",
        "colab": {
          "base_uri": "https://localhost:8080/"
        },
        "outputId": "c5cb3687-b272-4bdf-e3f8-021286387824"
      },
      "outputs": [
        {
          "output_type": "execute_result",
          "data": {
            "text/plain": [
              "2"
            ]
          },
          "metadata": {},
          "execution_count": 158
        }
      ],
      "source": [
        "dftrain['Medium_term_deposits'].nunique()"
      ]
    },
    {
      "cell_type": "code",
      "execution_count": null,
      "metadata": {
        "id": "j_cYzO7A-PQk",
        "colab": {
          "base_uri": "https://localhost:8080/"
        },
        "outputId": "b0eb284f-636d-40b5-f10a-b0a988ea9af6"
      },
      "outputs": [
        {
          "output_type": "execute_result",
          "data": {
            "text/plain": [
              "0    13624641\n",
              "1       22668\n",
              "Name: Medium_term_deposits, dtype: int64"
            ]
          },
          "metadata": {},
          "execution_count": 159
        }
      ],
      "source": [
        "dftrain['Medium_term_deposits'].value_counts().sort_index()"
      ]
    },
    {
      "cell_type": "code",
      "execution_count": null,
      "metadata": {
        "id": "eGW3Uoxt-PTL",
        "colab": {
          "base_uri": "https://localhost:8080/"
        },
        "outputId": "abf4e25a-73ea-4099-8cd1-6e1ea188947d"
      },
      "outputs": [
        {
          "output_type": "stream",
          "name": "stdout",
          "text": [
            "<class 'pandas.core.series.Series'>\n",
            "RangeIndex: 13647309 entries, 0 to 13647308\n",
            "Series name: Long_term_deposits\n",
            "Non-Null Count     Dtype\n",
            "--------------     -----\n",
            "13647309 non-null  int64\n",
            "dtypes: int64(1)\n",
            "memory usage: 104.1 MB\n"
          ]
        }
      ],
      "source": [
        "#Long_term_deposits:\n",
        "dftrain['Long_term_deposits'].info()"
      ]
    },
    {
      "cell_type": "code",
      "execution_count": null,
      "metadata": {
        "id": "is4V2e6T-PV6",
        "colab": {
          "base_uri": "https://localhost:8080/"
        },
        "outputId": "622d2e6f-d677-436f-b4f2-1e1cf151d8f0"
      },
      "outputs": [
        {
          "output_type": "execute_result",
          "data": {
            "text/plain": [
              "array([0, 1])"
            ]
          },
          "metadata": {},
          "execution_count": 161
        }
      ],
      "source": [
        "dftrain['Long_term_deposits'].unique()"
      ]
    },
    {
      "cell_type": "code",
      "execution_count": null,
      "metadata": {
        "id": "JXZFc-2Y-PYO",
        "colab": {
          "base_uri": "https://localhost:8080/"
        },
        "outputId": "35b8f32c-1933-4bb7-c68b-a83039426cd4"
      },
      "outputs": [
        {
          "output_type": "execute_result",
          "data": {
            "text/plain": [
              "2"
            ]
          },
          "metadata": {},
          "execution_count": 162
        }
      ],
      "source": [
        "dftrain['Long_term_deposits'].nunique()"
      ]
    },
    {
      "cell_type": "code",
      "execution_count": null,
      "metadata": {
        "id": "WKEhQUR4-Pah",
        "colab": {
          "base_uri": "https://localhost:8080/"
        },
        "outputId": "5f8a4b82-62f3-469d-93e9-6f60aad2c1a6"
      },
      "outputs": [
        {
          "output_type": "execute_result",
          "data": {
            "text/plain": [
              "0    13060928\n",
              "1      586381\n",
              "Name: Long_term_deposits, dtype: int64"
            ]
          },
          "metadata": {},
          "execution_count": 163
        }
      ],
      "source": [
        "dftrain['Long_term_deposits'].value_counts().sort_index()"
      ]
    },
    {
      "cell_type": "code",
      "execution_count": null,
      "metadata": {
        "id": "O-uX6cN_-Pc8",
        "colab": {
          "base_uri": "https://localhost:8080/"
        },
        "outputId": "b5ac288b-603b-4043-b06d-7ead6880eedc"
      },
      "outputs": [
        {
          "output_type": "stream",
          "name": "stdout",
          "text": [
            "<class 'pandas.core.series.Series'>\n",
            "RangeIndex: 13647309 entries, 0 to 13647308\n",
            "Series name: E_Account\n",
            "Non-Null Count     Dtype\n",
            "--------------     -----\n",
            "13647309 non-null  int64\n",
            "dtypes: int64(1)\n",
            "memory usage: 104.1 MB\n"
          ]
        }
      ],
      "source": [
        "#E_Account:\n",
        "dftrain['E_Account'].info()"
      ]
    },
    {
      "cell_type": "code",
      "execution_count": null,
      "metadata": {
        "id": "YbSYj86_-PfV",
        "colab": {
          "base_uri": "https://localhost:8080/"
        },
        "outputId": "51544e96-6451-4768-a308-4adf0c826f65"
      },
      "outputs": [
        {
          "output_type": "execute_result",
          "data": {
            "text/plain": [
              "array([0, 1])"
            ]
          },
          "metadata": {},
          "execution_count": 165
        }
      ],
      "source": [
        "dftrain['E_Account'].unique()"
      ]
    },
    {
      "cell_type": "code",
      "execution_count": null,
      "metadata": {
        "id": "vsTGyUYr-Phw",
        "colab": {
          "base_uri": "https://localhost:8080/"
        },
        "outputId": "d0db0b0d-0d80-45b5-e881-00fad7803f6b"
      },
      "outputs": [
        {
          "output_type": "execute_result",
          "data": {
            "text/plain": [
              "2"
            ]
          },
          "metadata": {},
          "execution_count": 166
        }
      ],
      "source": [
        "dftrain['E_Account'].nunique()"
      ]
    },
    {
      "cell_type": "code",
      "execution_count": null,
      "metadata": {
        "id": "GhWY2YiM-PkH",
        "colab": {
          "base_uri": "https://localhost:8080/"
        },
        "outputId": "36281500-51ee-4e9b-a25e-6e5b1938eaeb"
      },
      "outputs": [
        {
          "output_type": "execute_result",
          "data": {
            "text/plain": [
              "0    12518082\n",
              "1     1129227\n",
              "Name: E_Account, dtype: int64"
            ]
          },
          "metadata": {},
          "execution_count": 167
        }
      ],
      "source": [
        "dftrain['E_Account'].value_counts().sort_index()"
      ]
    },
    {
      "cell_type": "code",
      "execution_count": null,
      "metadata": {
        "id": "HLgGkW2F-Pnw",
        "colab": {
          "base_uri": "https://localhost:8080/"
        },
        "outputId": "578207ae-c062-43ca-c5c8-300f2508511f"
      },
      "outputs": [
        {
          "output_type": "stream",
          "name": "stdout",
          "text": [
            "<class 'pandas.core.series.Series'>\n",
            "RangeIndex: 13647309 entries, 0 to 13647308\n",
            "Series name: Funds\n",
            "Non-Null Count     Dtype\n",
            "--------------     -----\n",
            "13647309 non-null  int64\n",
            "dtypes: int64(1)\n",
            "memory usage: 104.1 MB\n"
          ]
        }
      ],
      "source": [
        "#Funds:\n",
        "dftrain['Funds'].info()"
      ]
    },
    {
      "cell_type": "code",
      "execution_count": null,
      "metadata": {
        "id": "5zknIt3a-k7n",
        "colab": {
          "base_uri": "https://localhost:8080/"
        },
        "outputId": "2850c3c8-9837-40f3-c754-5c313c440960"
      },
      "outputs": [
        {
          "output_type": "execute_result",
          "data": {
            "text/plain": [
              "array([0, 1])"
            ]
          },
          "metadata": {},
          "execution_count": 169
        }
      ],
      "source": [
        "dftrain['Funds'].unique()"
      ]
    },
    {
      "cell_type": "code",
      "execution_count": null,
      "metadata": {
        "id": "phTEy5Id-k92",
        "colab": {
          "base_uri": "https://localhost:8080/"
        },
        "outputId": "7deacc70-ce23-44d1-bfa4-35fd8d8f1a1f"
      },
      "outputs": [
        {
          "output_type": "execute_result",
          "data": {
            "text/plain": [
              "2"
            ]
          },
          "metadata": {},
          "execution_count": 170
        }
      ],
      "source": [
        "dftrain['Funds'].nunique()"
      ]
    },
    {
      "cell_type": "code",
      "execution_count": null,
      "metadata": {
        "id": "FgLptZQy-lAV",
        "colab": {
          "base_uri": "https://localhost:8080/"
        },
        "outputId": "1fe5586d-6695-4cbb-d756-7894904aa609"
      },
      "outputs": [
        {
          "output_type": "execute_result",
          "data": {
            "text/plain": [
              "0    13395025\n",
              "1      252284\n",
              "Name: Funds, dtype: int64"
            ]
          },
          "metadata": {},
          "execution_count": 171
        }
      ],
      "source": [
        "dftrain['Funds'].value_counts().sort_index()"
      ]
    },
    {
      "cell_type": "code",
      "execution_count": null,
      "metadata": {
        "id": "PCI833Mz-lCd",
        "colab": {
          "base_uri": "https://localhost:8080/"
        },
        "outputId": "c9a70429-5a84-437b-ecf0-1ab15d9bde16"
      },
      "outputs": [
        {
          "output_type": "stream",
          "name": "stdout",
          "text": [
            "<class 'pandas.core.series.Series'>\n",
            "RangeIndex: 13647309 entries, 0 to 13647308\n",
            "Series name: Mortgage\n",
            "Non-Null Count     Dtype\n",
            "--------------     -----\n",
            "13647309 non-null  int64\n",
            "dtypes: int64(1)\n",
            "memory usage: 104.1 MB\n"
          ]
        }
      ],
      "source": [
        "#Mortgage:\n",
        "dftrain['Mortgage'].info()"
      ]
    },
    {
      "cell_type": "code",
      "execution_count": null,
      "metadata": {
        "id": "RsTVQ9Rf-lEl",
        "colab": {
          "base_uri": "https://localhost:8080/"
        },
        "outputId": "c96596ec-b6aa-452c-b0b2-a008d25609f2"
      },
      "outputs": [
        {
          "output_type": "execute_result",
          "data": {
            "text/plain": [
              "array([0, 1])"
            ]
          },
          "metadata": {},
          "execution_count": 173
        }
      ],
      "source": [
        "dftrain['Mortgage'].unique()"
      ]
    },
    {
      "cell_type": "code",
      "execution_count": null,
      "metadata": {
        "id": "b4JJfQkS-lG9",
        "colab": {
          "base_uri": "https://localhost:8080/"
        },
        "outputId": "d06f0dca-efbc-4653-e954-240b99dda96b"
      },
      "outputs": [
        {
          "output_type": "execute_result",
          "data": {
            "text/plain": [
              "2"
            ]
          },
          "metadata": {},
          "execution_count": 174
        }
      ],
      "source": [
        "dftrain['Mortgage'].nunique()"
      ]
    },
    {
      "cell_type": "code",
      "execution_count": null,
      "metadata": {
        "id": "9_hzWQ8l-lJI",
        "colab": {
          "base_uri": "https://localhost:8080/"
        },
        "outputId": "796f640e-5836-48f2-cd96-524a6f09677c"
      },
      "outputs": [
        {
          "output_type": "execute_result",
          "data": {
            "text/plain": [
              "0    13566973\n",
              "1       80336\n",
              "Name: Mortgage, dtype: int64"
            ]
          },
          "metadata": {},
          "execution_count": 175
        }
      ],
      "source": [
        "dftrain['Mortgage'].value_counts().sort_index()"
      ]
    },
    {
      "cell_type": "code",
      "execution_count": null,
      "metadata": {
        "id": "TTsI7I_i-lLn",
        "colab": {
          "base_uri": "https://localhost:8080/"
        },
        "outputId": "03eef75d-020a-4a82-8d8b-5db23bef5557"
      },
      "outputs": [
        {
          "output_type": "stream",
          "name": "stdout",
          "text": [
            "<class 'pandas.core.series.Series'>\n",
            "RangeIndex: 13647309 entries, 0 to 13647308\n",
            "Series name: Pensions\n",
            "Non-Null Count     Dtype\n",
            "--------------     -----\n",
            "13647309 non-null  int64\n",
            "dtypes: int64(1)\n",
            "memory usage: 104.1 MB\n"
          ]
        }
      ],
      "source": [
        "#Pensions:\n",
        "dftrain['Pensions'].info()"
      ]
    },
    {
      "cell_type": "code",
      "execution_count": null,
      "metadata": {
        "id": "6texXo7S-lOH",
        "colab": {
          "base_uri": "https://localhost:8080/"
        },
        "outputId": "0400008f-a627-4d96-83e1-c2c7eadcd57d"
      },
      "outputs": [
        {
          "output_type": "execute_result",
          "data": {
            "text/plain": [
              "array([0, 1])"
            ]
          },
          "metadata": {},
          "execution_count": 177
        }
      ],
      "source": [
        "dftrain['Pensions'].unique()"
      ]
    },
    {
      "cell_type": "code",
      "execution_count": null,
      "metadata": {
        "id": "UMiYOWcR-lQM",
        "colab": {
          "base_uri": "https://localhost:8080/"
        },
        "outputId": "bc3d6eb8-1e3a-4f1c-a192-eb7b3c14b0e7"
      },
      "outputs": [
        {
          "output_type": "execute_result",
          "data": {
            "text/plain": [
              "2"
            ]
          },
          "metadata": {},
          "execution_count": 178
        }
      ],
      "source": [
        "dftrain['Pensions'].nunique()"
      ]
    },
    {
      "cell_type": "code",
      "execution_count": null,
      "metadata": {
        "id": "JUvfCzbP-lSl",
        "colab": {
          "base_uri": "https://localhost:8080/"
        },
        "outputId": "ab356720-f96b-420a-a37b-7b89a131b4aa"
      },
      "outputs": [
        {
          "output_type": "execute_result",
          "data": {
            "text/plain": [
              "0    13522150\n",
              "1      125159\n",
              "Name: Pensions, dtype: int64"
            ]
          },
          "metadata": {},
          "execution_count": 179
        }
      ],
      "source": [
        "dftrain['Pensions'].value_counts().sort_index()"
      ]
    },
    {
      "cell_type": "code",
      "execution_count": null,
      "metadata": {
        "id": "6_SMNtY2-lVP",
        "colab": {
          "base_uri": "https://localhost:8080/"
        },
        "outputId": "f923c3c2-3c50-4e3f-ae40-0f3939304239"
      },
      "outputs": [
        {
          "output_type": "stream",
          "name": "stdout",
          "text": [
            "<class 'pandas.core.series.Series'>\n",
            "RangeIndex: 13647309 entries, 0 to 13647308\n",
            "Series name: Loans\n",
            "Non-Null Count     Dtype\n",
            "--------------     -----\n",
            "13647309 non-null  int64\n",
            "dtypes: int64(1)\n",
            "memory usage: 104.1 MB\n"
          ]
        }
      ],
      "source": [
        "#Loans:\n",
        "dftrain['Loans'].info()"
      ]
    },
    {
      "cell_type": "code",
      "execution_count": null,
      "metadata": {
        "id": "O8zDWm4v-lXe",
        "colab": {
          "base_uri": "https://localhost:8080/"
        },
        "outputId": "fd20f81f-2c54-47ba-d6b9-9ee04fe0fd9b"
      },
      "outputs": [
        {
          "output_type": "execute_result",
          "data": {
            "text/plain": [
              "array([0, 1])"
            ]
          },
          "metadata": {},
          "execution_count": 181
        }
      ],
      "source": [
        "dftrain['Loans'].unique()"
      ]
    },
    {
      "cell_type": "code",
      "execution_count": null,
      "metadata": {
        "id": "F4nCDMjf-lZq",
        "colab": {
          "base_uri": "https://localhost:8080/"
        },
        "outputId": "f24759fd-aa4b-414a-f7d7-601d87dd6b0e"
      },
      "outputs": [
        {
          "output_type": "execute_result",
          "data": {
            "text/plain": [
              "2"
            ]
          },
          "metadata": {},
          "execution_count": 182
        }
      ],
      "source": [
        "dftrain['Loans'].nunique()"
      ]
    },
    {
      "cell_type": "code",
      "execution_count": null,
      "metadata": {
        "id": "0SgFzcjK-lba",
        "colab": {
          "base_uri": "https://localhost:8080/"
        },
        "outputId": "d0662248-0969-45de-8522-4998aee7c38a"
      },
      "outputs": [
        {
          "output_type": "execute_result",
          "data": {
            "text/plain": [
              "0    13611452\n",
              "1       35857\n",
              "Name: Loans, dtype: int64"
            ]
          },
          "metadata": {},
          "execution_count": 183
        }
      ],
      "source": [
        "dftrain['Loans'].value_counts().sort_index()"
      ]
    },
    {
      "cell_type": "code",
      "execution_count": null,
      "metadata": {
        "id": "1aDXmO8N-lfY",
        "colab": {
          "base_uri": "https://localhost:8080/"
        },
        "outputId": "45c761e4-c3dd-4f4c-ab93-96c2392bc5df"
      },
      "outputs": [
        {
          "output_type": "stream",
          "name": "stdout",
          "text": [
            "<class 'pandas.core.series.Series'>\n",
            "RangeIndex: 13647309 entries, 0 to 13647308\n",
            "Series name: Taxes\n",
            "Non-Null Count     Dtype\n",
            "--------------     -----\n",
            "13647309 non-null  int64\n",
            "dtypes: int64(1)\n",
            "memory usage: 104.1 MB\n"
          ]
        }
      ],
      "source": [
        "#Taxes:\n",
        "dftrain['Taxes'].info()"
      ]
    },
    {
      "cell_type": "code",
      "execution_count": null,
      "metadata": {
        "id": "lh4qzXPz-xrB",
        "colab": {
          "base_uri": "https://localhost:8080/"
        },
        "outputId": "b4e031c7-27f7-4fd4-f742-003e44134aca"
      },
      "outputs": [
        {
          "output_type": "execute_result",
          "data": {
            "text/plain": [
              "array([0, 1])"
            ]
          },
          "metadata": {},
          "execution_count": 185
        }
      ],
      "source": [
        "dftrain['Taxes'].unique()"
      ]
    },
    {
      "cell_type": "code",
      "execution_count": null,
      "metadata": {
        "id": "FsiiFSe_-xtf",
        "colab": {
          "base_uri": "https://localhost:8080/"
        },
        "outputId": "1b0b3ac8-72cc-4a28-ef79-2b4b3f3b1a98"
      },
      "outputs": [
        {
          "output_type": "execute_result",
          "data": {
            "text/plain": [
              "2"
            ]
          },
          "metadata": {},
          "execution_count": 186
        }
      ],
      "source": [
        "dftrain['Taxes'].nunique()"
      ]
    },
    {
      "cell_type": "code",
      "execution_count": null,
      "metadata": {
        "id": "q_bvygIE-xwy",
        "colab": {
          "base_uri": "https://localhost:8080/"
        },
        "outputId": "ebc6acac-92d3-472e-bd1c-450562e641d7"
      },
      "outputs": [
        {
          "output_type": "execute_result",
          "data": {
            "text/plain": [
              "0    12930329\n",
              "1      716980\n",
              "Name: Taxes, dtype: int64"
            ]
          },
          "metadata": {},
          "execution_count": 187
        }
      ],
      "source": [
        "dftrain['Taxes'].value_counts().sort_index()"
      ]
    },
    {
      "cell_type": "code",
      "execution_count": null,
      "metadata": {
        "id": "9QEBUkLw-xy6",
        "colab": {
          "base_uri": "https://localhost:8080/"
        },
        "outputId": "bbbba11d-fce2-48da-ab00-4bb326fa6773"
      },
      "outputs": [
        {
          "output_type": "stream",
          "name": "stdout",
          "text": [
            "<class 'pandas.core.series.Series'>\n",
            "RangeIndex: 13647309 entries, 0 to 13647308\n",
            "Series name: Credit_card\n",
            "Non-Null Count     Dtype\n",
            "--------------     -----\n",
            "13647309 non-null  int64\n",
            "dtypes: int64(1)\n",
            "memory usage: 104.1 MB\n"
          ]
        }
      ],
      "source": [
        "#Credit_card:\n",
        "dftrain['Credit_card'].info()"
      ]
    },
    {
      "cell_type": "code",
      "execution_count": null,
      "metadata": {
        "id": "zPy0dRhM-x03",
        "colab": {
          "base_uri": "https://localhost:8080/"
        },
        "outputId": "37898915-9721-4dfe-d9b8-c85fc955ed7b"
      },
      "outputs": [
        {
          "output_type": "execute_result",
          "data": {
            "text/plain": [
              "array([0, 1])"
            ]
          },
          "metadata": {},
          "execution_count": 189
        }
      ],
      "source": [
        "dftrain['Credit_card'].unique()"
      ]
    },
    {
      "cell_type": "code",
      "execution_count": null,
      "metadata": {
        "id": "AmSnr8B9-x38",
        "colab": {
          "base_uri": "https://localhost:8080/"
        },
        "outputId": "eb3341a3-493e-4b89-8786-ecb08379a74d"
      },
      "outputs": [
        {
          "output_type": "execute_result",
          "data": {
            "text/plain": [
              "2"
            ]
          },
          "metadata": {},
          "execution_count": 190
        }
      ],
      "source": [
        "dftrain['Credit_card'].nunique()"
      ]
    },
    {
      "cell_type": "code",
      "execution_count": null,
      "metadata": {
        "id": "18azRrP_-x55",
        "colab": {
          "base_uri": "https://localhost:8080/"
        },
        "outputId": "521d604e-424f-448c-9796-d13ba7743333"
      },
      "outputs": [
        {
          "output_type": "execute_result",
          "data": {
            "text/plain": [
              "0    13041523\n",
              "1      605786\n",
              "Name: Credit_card, dtype: int64"
            ]
          },
          "metadata": {},
          "execution_count": 191
        }
      ],
      "source": [
        "dftrain['Credit_card'].value_counts().sort_index()"
      ]
    },
    {
      "cell_type": "code",
      "execution_count": null,
      "metadata": {
        "id": "Vt1Rh7TQ-x76",
        "colab": {
          "base_uri": "https://localhost:8080/"
        },
        "outputId": "cee60b02-6de2-4a6e-98e6-04f0a652fd85"
      },
      "outputs": [
        {
          "output_type": "stream",
          "name": "stdout",
          "text": [
            "<class 'pandas.core.series.Series'>\n",
            "RangeIndex: 13647309 entries, 0 to 13647308\n",
            "Series name: Securities\n",
            "Non-Null Count     Dtype\n",
            "--------------     -----\n",
            "13647309 non-null  int64\n",
            "dtypes: int64(1)\n",
            "memory usage: 104.1 MB\n"
          ]
        }
      ],
      "source": [
        "#Securities:\n",
        "dftrain['Securities'].info()"
      ]
    },
    {
      "cell_type": "code",
      "execution_count": null,
      "metadata": {
        "id": "toCIQB0m-4OK",
        "colab": {
          "base_uri": "https://localhost:8080/"
        },
        "outputId": "3d0feb5a-be4c-4554-ae4a-f1e5b01ada6c"
      },
      "outputs": [
        {
          "output_type": "execute_result",
          "data": {
            "text/plain": [
              "array([0, 1])"
            ]
          },
          "metadata": {},
          "execution_count": 193
        }
      ],
      "source": [
        "dftrain['Securities'].unique()"
      ]
    },
    {
      "cell_type": "code",
      "execution_count": null,
      "metadata": {
        "id": "ny3nVBhc-4Qx",
        "colab": {
          "base_uri": "https://localhost:8080/"
        },
        "outputId": "bcf60781-6384-4390-ac01-8541191e55dc"
      },
      "outputs": [
        {
          "output_type": "execute_result",
          "data": {
            "text/plain": [
              "2"
            ]
          },
          "metadata": {},
          "execution_count": 194
        }
      ],
      "source": [
        "dftrain['Securities'].nunique()"
      ]
    },
    {
      "cell_type": "code",
      "execution_count": null,
      "metadata": {
        "id": "YII-zUgV-4UE",
        "colab": {
          "base_uri": "https://localhost:8080/"
        },
        "outputId": "6b443a5b-1d6e-41be-cec2-03747c64dfef"
      },
      "outputs": [
        {
          "output_type": "execute_result",
          "data": {
            "text/plain": [
              "0    13297834\n",
              "1      349475\n",
              "Name: Securities, dtype: int64"
            ]
          },
          "metadata": {},
          "execution_count": 195
        }
      ],
      "source": [
        "dftrain['Securities'].value_counts().sort_index()"
      ]
    },
    {
      "cell_type": "code",
      "execution_count": null,
      "metadata": {
        "id": "dNWf3NeU-4Wg",
        "colab": {
          "base_uri": "https://localhost:8080/"
        },
        "outputId": "0397ccf1-3cce-48b2-8bf6-571d354a031c"
      },
      "outputs": [
        {
          "output_type": "stream",
          "name": "stdout",
          "text": [
            "<class 'pandas.core.series.Series'>\n",
            "RangeIndex: 13647309 entries, 0 to 13647308\n",
            "Series name: Home_account\n",
            "Non-Null Count     Dtype\n",
            "--------------     -----\n",
            "13647309 non-null  int64\n",
            "dtypes: int64(1)\n",
            "memory usage: 104.1 MB\n"
          ]
        }
      ],
      "source": [
        "#Home_account:\n",
        "dftrain['Home_account'].info()"
      ]
    },
    {
      "cell_type": "code",
      "execution_count": null,
      "metadata": {
        "id": "iG56gZYA-4Zl",
        "colab": {
          "base_uri": "https://localhost:8080/"
        },
        "outputId": "2f878287-c068-4a17-d5a5-68def802753e"
      },
      "outputs": [
        {
          "output_type": "execute_result",
          "data": {
            "text/plain": [
              "array([0, 1])"
            ]
          },
          "metadata": {},
          "execution_count": 197
        }
      ],
      "source": [
        "dftrain['Home_account'].unique()"
      ]
    },
    {
      "cell_type": "code",
      "execution_count": null,
      "metadata": {
        "id": "6VCp4VaV-4cw",
        "colab": {
          "base_uri": "https://localhost:8080/"
        },
        "outputId": "1f3a25e2-1238-4cf4-e01a-8996f82d4a5d"
      },
      "outputs": [
        {
          "output_type": "execute_result",
          "data": {
            "text/plain": [
              "2"
            ]
          },
          "metadata": {},
          "execution_count": 198
        }
      ],
      "source": [
        "dftrain['Home_account'].nunique()"
      ]
    },
    {
      "cell_type": "code",
      "execution_count": null,
      "metadata": {
        "id": "OTxWzh6J-42h",
        "colab": {
          "base_uri": "https://localhost:8080/"
        },
        "outputId": "b399cdd4-06bc-404a-b848-bf72a8ed33ab"
      },
      "outputs": [
        {
          "output_type": "execute_result",
          "data": {
            "text/plain": [
              "0    13594798\n",
              "1       52511\n",
              "Name: Home_account, dtype: int64"
            ]
          },
          "metadata": {},
          "execution_count": 199
        }
      ],
      "source": [
        "dftrain['Home_account'].value_counts().sort_index()"
      ]
    },
    {
      "cell_type": "code",
      "execution_count": null,
      "metadata": {
        "id": "dS4KbI2U-449",
        "colab": {
          "base_uri": "https://localhost:8080/"
        },
        "outputId": "a274d807-c9ad-48a8-bb95-1ada95349af5"
      },
      "outputs": [
        {
          "output_type": "stream",
          "name": "stdout",
          "text": [
            "<class 'pandas.core.series.Series'>\n",
            "RangeIndex: 13647309 entries, 0 to 13647308\n",
            "Series name: Payroll\n",
            "Non-Null Count     Dtype  \n",
            "--------------     -----  \n",
            "13631246 non-null  float64\n",
            "dtypes: float64(1)\n",
            "memory usage: 104.1 MB\n"
          ]
        }
      ],
      "source": [
        "#Payroll:\n",
        "dftrain['Payroll'].info()"
      ]
    },
    {
      "cell_type": "code",
      "execution_count": null,
      "metadata": {
        "id": "PjGUtv_U_HgF",
        "colab": {
          "base_uri": "https://localhost:8080/"
        },
        "outputId": "996a01df-bcff-4e89-9019-cec1cf262e49"
      },
      "outputs": [
        {
          "output_type": "execute_result",
          "data": {
            "text/plain": [
              "array([ 0.,  1., nan])"
            ]
          },
          "metadata": {},
          "execution_count": 201
        }
      ],
      "source": [
        "dftrain['Payroll'].unique()"
      ]
    },
    {
      "cell_type": "code",
      "execution_count": null,
      "metadata": {
        "id": "u_RFnXGr_Hij",
        "colab": {
          "base_uri": "https://localhost:8080/"
        },
        "outputId": "64ef116c-57ec-473e-f8ac-a6c1fcb72111"
      },
      "outputs": [
        {
          "output_type": "execute_result",
          "data": {
            "text/plain": [
              "2"
            ]
          },
          "metadata": {},
          "execution_count": 202
        }
      ],
      "source": [
        "dftrain['Payroll'].nunique()"
      ]
    },
    {
      "cell_type": "code",
      "execution_count": null,
      "metadata": {
        "id": "zoZt884i_HlG",
        "colab": {
          "base_uri": "https://localhost:8080/"
        },
        "outputId": "dac3ff1b-d8e6-4506-fdb3-fb8c3d309d5e"
      },
      "outputs": [
        {
          "output_type": "execute_result",
          "data": {
            "text/plain": [
              "0.0    12885285\n",
              "1.0      745961\n",
              "NaN       16063\n",
              "Name: Payroll, dtype: int64"
            ]
          },
          "metadata": {},
          "execution_count": 203
        }
      ],
      "source": [
        "dftrain['Payroll'].value_counts(dropna=False).sort_index()"
      ]
    },
    {
      "cell_type": "code",
      "execution_count": null,
      "metadata": {
        "id": "-3nh6piL_Hnf",
        "colab": {
          "base_uri": "https://localhost:8080/"
        },
        "outputId": "8229e909-0171-4957-cf7e-b253df34817b"
      },
      "outputs": [
        {
          "output_type": "stream",
          "name": "stdout",
          "text": [
            "<class 'pandas.core.series.Series'>\n",
            "RangeIndex: 13647309 entries, 0 to 13647308\n",
            "Series name: Pensions_2\n",
            "Non-Null Count     Dtype  \n",
            "--------------     -----  \n",
            "13631246 non-null  float64\n",
            "dtypes: float64(1)\n",
            "memory usage: 104.1 MB\n"
          ]
        }
      ],
      "source": [
        "#Pensions_2:\n",
        "dftrain['Pensions_2'].info()"
      ]
    },
    {
      "cell_type": "code",
      "execution_count": null,
      "metadata": {
        "id": "y0-py34B_Hp_",
        "colab": {
          "base_uri": "https://localhost:8080/"
        },
        "outputId": "f6353267-9736-4329-ee2b-a7e01c140a10"
      },
      "outputs": [
        {
          "output_type": "execute_result",
          "data": {
            "text/plain": [
              "array([ 0.,  1., nan])"
            ]
          },
          "metadata": {},
          "execution_count": 205
        }
      ],
      "source": [
        "dftrain['Pensions_2'].unique()"
      ]
    },
    {
      "cell_type": "code",
      "execution_count": null,
      "metadata": {
        "id": "oghSJvMb_Hsh",
        "colab": {
          "base_uri": "https://localhost:8080/"
        },
        "outputId": "c49eb39d-2629-4029-ebb4-f9dfc07d66bb"
      },
      "outputs": [
        {
          "output_type": "execute_result",
          "data": {
            "text/plain": [
              "2"
            ]
          },
          "metadata": {},
          "execution_count": 206
        }
      ],
      "source": [
        "dftrain['Pensions_2'].nunique()"
      ]
    },
    {
      "cell_type": "code",
      "execution_count": null,
      "metadata": {
        "id": "FHXJAEz9_Hv3",
        "colab": {
          "base_uri": "https://localhost:8080/"
        },
        "outputId": "9f134ea2-8d3a-4062-faa4-361ffff6b263"
      },
      "outputs": [
        {
          "output_type": "execute_result",
          "data": {
            "text/plain": [
              "0.0    12821161\n",
              "1.0      810085\n",
              "NaN       16063\n",
              "Name: Pensions_2, dtype: int64"
            ]
          },
          "metadata": {},
          "execution_count": 208
        }
      ],
      "source": [
        "dftrain['Pensions_2'].value_counts(dropna=False).sort_index()"
      ]
    },
    {
      "cell_type": "code",
      "execution_count": null,
      "metadata": {
        "id": "WODT_WVx-47S",
        "colab": {
          "base_uri": "https://localhost:8080/"
        },
        "outputId": "f198422e-592e-4a98-e7e2-55d651a19cdb"
      },
      "outputs": [
        {
          "output_type": "stream",
          "name": "stdout",
          "text": [
            "<class 'pandas.core.series.Series'>\n",
            "RangeIndex: 13647309 entries, 0 to 13647308\n",
            "Series name: Direct_debit\n",
            "Non-Null Count     Dtype\n",
            "--------------     -----\n",
            "13647309 non-null  int64\n",
            "dtypes: int64(1)\n",
            "memory usage: 104.1 MB\n"
          ]
        }
      ],
      "source": [
        "#Direct_debit:\n",
        "dftrain['Direct_debit'].info()"
      ]
    },
    {
      "cell_type": "code",
      "execution_count": null,
      "metadata": {
        "id": "f1x16vX1-4-3",
        "colab": {
          "base_uri": "https://localhost:8080/"
        },
        "outputId": "dccff848-d2e6-4e1a-9bdd-2492664ecfbd"
      },
      "outputs": [
        {
          "output_type": "execute_result",
          "data": {
            "text/plain": [
              "array([0, 1])"
            ]
          },
          "metadata": {},
          "execution_count": 210
        }
      ],
      "source": [
        "dftrain['Direct_debit'].unique()"
      ]
    },
    {
      "cell_type": "code",
      "execution_count": null,
      "metadata": {
        "id": "urOPN0CK-x_G",
        "colab": {
          "base_uri": "https://localhost:8080/"
        },
        "outputId": "26ac4a44-5051-43a6-d4b4-f95365167b6f"
      },
      "outputs": [
        {
          "output_type": "execute_result",
          "data": {
            "text/plain": [
              "2"
            ]
          },
          "metadata": {},
          "execution_count": 211
        }
      ],
      "source": [
        "dftrain['Direct_debit'].nunique()"
      ]
    },
    {
      "cell_type": "code",
      "execution_count": null,
      "metadata": {
        "id": "Av-1P63I_RoL",
        "colab": {
          "base_uri": "https://localhost:8080/"
        },
        "outputId": "695e5b5a-1682-499f-929c-79341a503963"
      },
      "outputs": [
        {
          "output_type": "execute_result",
          "data": {
            "text/plain": [
              "0    11901597\n",
              "1     1745712\n",
              "Name: Direct_debit, dtype: int64"
            ]
          },
          "metadata": {},
          "execution_count": 212
        }
      ],
      "source": [
        "dftrain['Direct_debit'].value_counts().sort_index()"
      ]
    },
    {
      "cell_type": "markdown",
      "metadata": {
        "id": "eA6tUGMm_UDU"
      },
      "source": [
        "# Detecting Null Values and Removing Null values (Save clean data to the drive)"
      ]
    },
    {
      "cell_type": "code",
      "source": [
        "#Percent of null values in the data set:\n",
        "NullValues=dftrain.isnull().sum()/len(dftrain)\n",
        "NullValues*100"
      ],
      "metadata": {
        "colab": {
          "base_uri": "https://localhost:8080/"
        },
        "id": "fN-p6grFH3tB",
        "outputId": "d9590522-af62-405a-9b52-a9a8923dee6b"
      },
      "execution_count": null,
      "outputs": [
        {
          "output_type": "execute_result",
          "data": {
            "text/plain": [
              "Date                     0.000000\n",
              "Customer_code            0.000000\n",
              "Employee_index           0.203220\n",
              "Country                  0.203220\n",
              "Gender                   0.203732\n",
              "Age                      0.000000\n",
              "Customer_join_date       0.203220\n",
              "Customer_index           0.203220\n",
              "Customer_seniority       0.000000\n",
              "primary_customer         0.203220\n",
              "Customer_leave_date     99.818330\n",
              "Customer_type            1.097513\n",
              "Customer_relation        1.097513\n",
              "Residence_index          0.203220\n",
              "Foreigner_index          0.203220\n",
              "Spouse_index            99.986752\n",
              "Channel                  1.363829\n",
              "Deceased_index           0.203220\n",
              "Primary_Address          0.203227\n",
              "Customer_address         0.685784\n",
              "province_name            0.685784\n",
              "Activity_index           0.203220\n",
              "Gross_income            20.475648\n",
              "Segmentation             1.387585\n",
              "Saving_account           0.000000\n",
              "Guarantees               0.000000\n",
              "Current_accounts         0.000000\n",
              "Derivative_account       0.000000\n",
              "Payroll_account          0.000000\n",
              "Junior_account           0.000000\n",
              "More_private_account     0.000000\n",
              "Private_account          0.000000\n",
              "Private_plus_account     0.000000\n",
              "Short_term_deposits      0.000000\n",
              "Medium_term_deposits     0.000000\n",
              "Long_term_deposits       0.000000\n",
              "E_Account                0.000000\n",
              "Funds                    0.000000\n",
              "Mortgage                 0.000000\n",
              "Pensions                 0.000000\n",
              "Loans                    0.000000\n",
              "Taxes                    0.000000\n",
              "Credit_card              0.000000\n",
              "Securities               0.000000\n",
              "Home_account             0.000000\n",
              "Payroll                  0.117701\n",
              "Pensions_2               0.117701\n",
              "Direct_debit             0.000000\n",
              "dtype: float64"
            ]
          },
          "metadata": {},
          "execution_count": 214
        }
      ]
    },
    {
      "cell_type": "code",
      "source": [
        "#Drop columns because they have 99% are NaN values:\n",
        "dftrain.drop(['Customer_leave_date', 'Spouse_index'], axis=1, inplace=True)"
      ],
      "metadata": {
        "id": "VZA3oZhITsee"
      },
      "execution_count": null,
      "outputs": []
    },
    {
      "cell_type": "code",
      "source": [
        "dftrain.head()"
      ],
      "metadata": {
        "id": "K9O6hMloT0Ve"
      },
      "execution_count": null,
      "outputs": []
    },
    {
      "cell_type": "code",
      "execution_count": null,
      "metadata": {
        "id": "UODQt5iFzzrx",
        "colab": {
          "base_uri": "https://localhost:8080/"
        },
        "outputId": "861909e1-ec32-4e10-e783-48b78f61a003"
      },
      "outputs": [
        {
          "output_type": "execute_result",
          "data": {
            "text/plain": [
              "27734"
            ]
          },
          "metadata": {},
          "execution_count": 8
        }
      ],
      "source": [
        "#Customer_join_date:\n",
        "dftrain['Customer_join_date'].isna().sum()"
      ]
    },
    {
      "cell_type": "code",
      "execution_count": null,
      "metadata": {
        "id": "-OhZYEsyzzvG"
      },
      "outputs": [],
      "source": [
        "#Imputing the null values with the column's mean values:\n",
        "\n",
        "dftrain['Customer_join_date'] = pd.to_datetime(dftrain['Customer_join_date'], errors='coerce')"
      ]
    },
    {
      "cell_type": "code",
      "execution_count": null,
      "metadata": {
        "id": "icOetdyMzz-9",
        "colab": {
          "base_uri": "https://localhost:8080/"
        },
        "outputId": "aba32052-2317-4d99-95c8-ca15ab1eab02"
      },
      "outputs": [
        {
          "output_type": "execute_result",
          "data": {
            "text/plain": [
              "datetime.date(2009, 2, 9)"
            ]
          },
          "metadata": {},
          "execution_count": 10
        }
      ],
      "source": [
        "joindate=pd.to_datetime(dftrain.Customer_join_date.dropna().astype(np.int64).mean()).date()\n",
        "joindate"
      ]
    },
    {
      "cell_type": "code",
      "execution_count": null,
      "metadata": {
        "id": "TH7rJNphz0OE"
      },
      "outputs": [],
      "source": [
        "dftrain['Customer_join_date']=dftrain.Customer_join_date.fillna(joindate).astype(object)"
      ]
    },
    {
      "cell_type": "code",
      "source": [
        "dftrain['Customer_join_date']=pd.to_datetime(dftrain['Customer_join_date']).dt.date "
      ],
      "metadata": {
        "id": "y9983JX2Xqm_"
      },
      "execution_count": null,
      "outputs": []
    },
    {
      "cell_type": "code",
      "source": [
        "dftrain.head(20)"
      ],
      "metadata": {
        "id": "Vf5GkbaD12F_"
      },
      "execution_count": null,
      "outputs": []
    },
    {
      "cell_type": "code",
      "execution_count": null,
      "metadata": {
        "id": "DtsuWeHMBlXE",
        "colab": {
          "base_uri": "https://localhost:8080/"
        },
        "outputId": "7698b0d9-9505-424a-8398-0c7fba1b98eb"
      },
      "outputs": [
        {
          "output_type": "execute_result",
          "data": {
            "text/plain": [
              "27734"
            ]
          },
          "metadata": {},
          "execution_count": 13
        }
      ],
      "source": [
        "#Customer_index:\n",
        "dftrain['Customer_index'].isna().sum()"
      ]
    },
    {
      "cell_type": "code",
      "execution_count": null,
      "metadata": {
        "id": "gBanM2bACVG0",
        "colab": {
          "base_uri": "https://localhost:8080/"
        },
        "outputId": "b4b7cff8-efc7-423e-d416-f0d61aeb292c"
      },
      "outputs": [
        {
          "output_type": "execute_result",
          "data": {
            "text/plain": [
              "0.05956184389013607"
            ]
          },
          "metadata": {},
          "execution_count": 14
        }
      ],
      "source": [
        "customerindex=pd.to_numeric(dftrain.Customer_index.dropna().astype(np.float64).mean())\n",
        "customerindex"
      ]
    },
    {
      "cell_type": "code",
      "execution_count": null,
      "metadata": {
        "id": "7r34hd1vDqg_"
      },
      "outputs": [],
      "source": [
        "#Imputing with nulls with the mean value:\n",
        "dftrain['Customer_index']=dftrain.Customer_index.fillna(customerindex).astype(float)"
      ]
    },
    {
      "cell_type": "code",
      "source": [
        "#Primary_customer:\n",
        "dftrain['primary_customer'].isna().sum()"
      ],
      "metadata": {
        "id": "zOUfLNGbzBh3",
        "colab": {
          "base_uri": "https://localhost:8080/"
        },
        "outputId": "9399b4b0-9f42-427f-852e-828a66cf7247"
      },
      "execution_count": null,
      "outputs": [
        {
          "output_type": "execute_result",
          "data": {
            "text/plain": [
              "27734"
            ]
          },
          "metadata": {},
          "execution_count": 16
        }
      ]
    },
    {
      "cell_type": "code",
      "source": [
        "dftrain['primary_customer'].value_counts(dropna=False)"
      ],
      "metadata": {
        "id": "pB4zRFepnAfv",
        "colab": {
          "base_uri": "https://localhost:8080/"
        },
        "outputId": "4ac08939-5ab2-4c3f-d456-57b1745f2248"
      },
      "execution_count": null,
      "outputs": [
        {
          "output_type": "execute_result",
          "data": {
            "text/plain": [
              "1.0     13594782\n",
              "NaN        27734\n",
              "99.0       24793\n",
              "Name: primary_customer, dtype: int64"
            ]
          },
          "metadata": {},
          "execution_count": 17
        }
      ]
    },
    {
      "cell_type": "code",
      "execution_count": null,
      "metadata": {
        "id": "L-uNYpsgBmHA",
        "colab": {
          "base_uri": "https://localhost:8080/"
        },
        "outputId": "2907969a-74d9-4118-eb74-433037e3b4b8"
      },
      "outputs": [
        {
          "output_type": "execute_result",
          "data": {
            "text/plain": [
              "1.1783986651565852"
            ]
          },
          "metadata": {},
          "execution_count": 18
        }
      ],
      "source": [
        "##Imputing the null values with the column's mean values:\n",
        "primarycustomer=pd.to_numeric(dftrain.primary_customer.dropna().astype(np.float64).mean())\n",
        "primarycustomer"
      ]
    },
    {
      "cell_type": "code",
      "execution_count": null,
      "metadata": {
        "id": "Y321l_VJBmJe"
      },
      "outputs": [],
      "source": [
        "dftrain['primary_customer']=dftrain.primary_customer.fillna(primarycustomer).astype(float)"
      ]
    },
    {
      "cell_type": "code",
      "execution_count": null,
      "metadata": {
        "id": "LzRellARovQz",
        "colab": {
          "base_uri": "https://localhost:8080/"
        },
        "outputId": "b5c0cfeb-8fa9-41f5-b046-307622842155"
      },
      "outputs": [
        {
          "output_type": "execute_result",
          "data": {
            "text/plain": [
              "27735"
            ]
          },
          "metadata": {},
          "execution_count": 20
        }
      ],
      "source": [
        "#Primary_Address:\n",
        "dftrain['Primary_Address'].isna().sum()"
      ]
    },
    {
      "cell_type": "code",
      "source": [
        "dftrain['Primary_Address'].value_counts(dropna=False)"
      ],
      "metadata": {
        "id": "z7z8bfTkEVVJ",
        "colab": {
          "base_uri": "https://localhost:8080/"
        },
        "outputId": "43445bf7-d06a-4ff0-ed97-4958ec5484f3"
      },
      "execution_count": null,
      "outputs": [
        {
          "output_type": "execute_result",
          "data": {
            "text/plain": [
              "1.0    13619574\n",
              "NaN       27735\n",
              "Name: Primary_Address, dtype: int64"
            ]
          },
          "metadata": {},
          "execution_count": 21
        }
      ]
    },
    {
      "cell_type": "code",
      "execution_count": null,
      "metadata": {
        "colab": {
          "base_uri": "https://localhost:8080/"
        },
        "id": "l_T2e7BlpJdQ",
        "outputId": "928ee301-abe0-497a-9d2e-ad7e5a2c6c4c"
      },
      "outputs": [
        {
          "output_type": "execute_result",
          "data": {
            "text/plain": [
              "1.0"
            ]
          },
          "metadata": {},
          "execution_count": 22
        }
      ],
      "source": [
        "#Imputing the null values with the column's mean values:\n",
        "primaryaddress=pd.to_numeric(dftrain.Primary_Address.dropna().astype(np.float64).mean())\n",
        "primaryaddress"
      ]
    },
    {
      "cell_type": "code",
      "execution_count": null,
      "metadata": {
        "id": "P2MekgKOpJjG"
      },
      "outputs": [],
      "source": [
        "dftrain['Primary_Address']=dftrain.Primary_Address.fillna(primaryaddress).astype(float)"
      ]
    },
    {
      "cell_type": "code",
      "execution_count": null,
      "metadata": {
        "id": "tFJU4aX7pJpb",
        "colab": {
          "base_uri": "https://localhost:8080/"
        },
        "outputId": "5ebddc5b-3a53-4ce4-cb18-eec2f4d84b95"
      },
      "outputs": [
        {
          "output_type": "execute_result",
          "data": {
            "text/plain": [
              "27734"
            ]
          },
          "metadata": {},
          "execution_count": 24
        }
      ],
      "source": [
        "#Activity_index:\n",
        "\n",
        "dftrain['Activity_index'].isna().sum()"
      ]
    },
    {
      "cell_type": "code",
      "execution_count": null,
      "metadata": {
        "id": "g6yvFrghrZFo",
        "colab": {
          "base_uri": "https://localhost:8080/"
        },
        "outputId": "62126df5-47b6-4f20-db5a-cad5d4998294"
      },
      "outputs": [
        {
          "output_type": "execute_result",
          "data": {
            "text/plain": [
              "0.45781054107782365"
            ]
          },
          "metadata": {},
          "execution_count": 25
        }
      ],
      "source": [
        "activityindex=pd.to_numeric(dftrain.Activity_index.dropna().astype(np.float64).mean())\n",
        "activityindex"
      ]
    },
    {
      "cell_type": "code",
      "execution_count": null,
      "metadata": {
        "id": "40OCveLAqqDU"
      },
      "outputs": [],
      "source": [
        "#Imputing the null values with the column's mean values:\n",
        "dftrain['Activity_index']=dftrain.Activity_index.fillna(activityindex).astype(float)"
      ]
    },
    {
      "cell_type": "code",
      "execution_count": null,
      "metadata": {
        "id": "jcZ5_QayqqHl",
        "colab": {
          "base_uri": "https://localhost:8080/"
        },
        "outputId": "8bf1702f-7259-4eb6-aac2-eb6f1adc7a19"
      },
      "outputs": [
        {
          "output_type": "execute_result",
          "data": {
            "text/plain": [
              "2794375"
            ]
          },
          "metadata": {},
          "execution_count": 27
        }
      ],
      "source": [
        "#Gross_income:\n",
        "\n",
        "dftrain['Gross_income'].isna().sum()"
      ]
    },
    {
      "cell_type": "code",
      "execution_count": null,
      "metadata": {
        "id": "tyBmO8HjqqKz",
        "colab": {
          "base_uri": "https://localhost:8080/"
        },
        "outputId": "18635fe0-2ca9-476f-a19c-ff8b21433353"
      },
      "outputs": [
        {
          "output_type": "execute_result",
          "data": {
            "text/plain": [
              "134254.3182381411"
            ]
          },
          "metadata": {},
          "execution_count": 101
        }
      ],
      "source": [
        "grossincome=pd.to_numeric(dftrain.Gross_income.dropna().astype(np.float64).mean())\n",
        "grossincome"
      ]
    },
    {
      "cell_type": "code",
      "execution_count": null,
      "metadata": {
        "id": "7Z6sBkcjqqN1"
      },
      "outputs": [],
      "source": [
        "#Imputing the null values with the column's mean values:\n",
        "dftrain['Gross_income']=dftrain.Gross_income.fillna(grossincome).astype(float)"
      ]
    },
    {
      "cell_type": "code",
      "execution_count": null,
      "metadata": {
        "id": "RJ_VMHO2qqRC",
        "colab": {
          "base_uri": "https://localhost:8080/"
        },
        "outputId": "0f0d6eb2-dc44-4bcd-aeea-d42093f15b9a"
      },
      "outputs": [
        {
          "output_type": "execute_result",
          "data": {
            "text/plain": [
              "189368"
            ]
          },
          "metadata": {},
          "execution_count": 103
        }
      ],
      "source": [
        "# Segmentation:\n",
        "dftrain['Segmentation'].isna().sum()"
      ]
    },
    {
      "cell_type": "code",
      "source": [
        "#Change the row categories from Spanish to the given English name categories:\n",
        "dftrain['Segmentation']=dftrain['Segmentation'].replace(to_replace=['01 - TOP','02 - PARTICULARES','03 - UNIVERSITARIO',0],value=['VIP','Individuals','College Graduates','Unknown'])"
      ],
      "metadata": {
        "id": "o5SOEgdV517v"
      },
      "execution_count": null,
      "outputs": []
    },
    {
      "cell_type": "code",
      "source": [
        "dftrain['Segmentation'].value_counts(dropna=False)"
      ],
      "metadata": {
        "id": "dqiYgnn6JwMT",
        "colab": {
          "base_uri": "https://localhost:8080/"
        },
        "outputId": "c84fb789-9843-4a5f-f825-21dc73844f03"
      },
      "execution_count": null,
      "outputs": [
        {
          "output_type": "execute_result",
          "data": {
            "text/plain": [
              "Individuals          7960220\n",
              "College Graduates    4935579\n",
              "VIP                   562142\n",
              "NaN                   189368\n",
              "Name: Segmentation, dtype: int64"
            ]
          },
          "metadata": {},
          "execution_count": 31
        }
      ]
    },
    {
      "cell_type": "code",
      "source": [
        "#Imputing the null values with the column's highest occuring value(value_counts().idxmax()) :\n",
        "dftrain['Segmentation']=dftrain['Segmentation'].transform(lambda x:x.fillna(x.value_counts().idxmax()))\n"
      ],
      "metadata": {
        "id": "Ruxn4wAxIXA0"
      },
      "execution_count": null,
      "outputs": []
    },
    {
      "cell_type": "code",
      "execution_count": null,
      "metadata": {
        "id": "g52b8Za3qqcl",
        "colab": {
          "base_uri": "https://localhost:8080/"
        },
        "outputId": "f0c09a00-aa03-4fec-f2c0-0166b8a18057"
      },
      "outputs": [
        {
          "output_type": "execute_result",
          "data": {
            "text/plain": [
              "16063"
            ]
          },
          "metadata": {},
          "execution_count": 33
        }
      ],
      "source": [
        "# Payroll:\n",
        "\n",
        "dftrain['Payroll'].isna().sum()"
      ]
    },
    {
      "cell_type": "code",
      "source": [
        "dftrain['Payroll'].value_counts(dropna=False)"
      ],
      "metadata": {
        "id": "hcDSYrF7pUit",
        "colab": {
          "base_uri": "https://localhost:8080/"
        },
        "outputId": "3c96ded3-3756-4493-cefd-ad097373ee5e"
      },
      "execution_count": null,
      "outputs": [
        {
          "output_type": "execute_result",
          "data": {
            "text/plain": [
              "0.0    12885285\n",
              "1.0      745961\n",
              "NaN       16063\n",
              "Name: Payroll, dtype: int64"
            ]
          },
          "metadata": {},
          "execution_count": 29
        }
      ]
    },
    {
      "cell_type": "code",
      "execution_count": null,
      "metadata": {
        "id": "yUKGljeFqqiN",
        "colab": {
          "base_uri": "https://localhost:8080/"
        },
        "outputId": "09d35a51-64b4-44db-8fc9-93711dd82163"
      },
      "outputs": [
        {
          "output_type": "execute_result",
          "data": {
            "text/plain": [
              "0.054724344348271614"
            ]
          },
          "metadata": {},
          "execution_count": 30
        }
      ],
      "source": [
        "#Imputing the null values with the column's mean values:\n",
        "payroll=pd.to_numeric(dftrain.Payroll.dropna().astype(np.float64).mean())\n",
        "payroll"
      ]
    },
    {
      "cell_type": "code",
      "execution_count": null,
      "metadata": {
        "id": "LWCWIqTlpJtg"
      },
      "outputs": [],
      "source": [
        "dftrain['Payroll']=dftrain.Payroll.fillna(payroll).astype(float)"
      ]
    },
    {
      "cell_type": "code",
      "execution_count": null,
      "metadata": {
        "id": "HfjUKo8MpJwb",
        "colab": {
          "base_uri": "https://localhost:8080/"
        },
        "outputId": "8ec91003-9d89-4cba-e77a-059e97013429"
      },
      "outputs": [
        {
          "output_type": "execute_result",
          "data": {
            "text/plain": [
              "16063"
            ]
          },
          "metadata": {},
          "execution_count": 32
        }
      ],
      "source": [
        "#Pensions_2:\n",
        "\n",
        "dftrain['Pensions_2'].isna().sum()"
      ]
    },
    {
      "cell_type": "code",
      "source": [
        "dftrain['Pensions_2'].value_counts(dropna=False)"
      ],
      "metadata": {
        "id": "1QpF18LBpxj1",
        "colab": {
          "base_uri": "https://localhost:8080/"
        },
        "outputId": "94a7f512-975f-4010-e6ce-0a4b225e9566"
      },
      "execution_count": null,
      "outputs": [
        {
          "output_type": "execute_result",
          "data": {
            "text/plain": [
              "0.0    12821161\n",
              "1.0      810085\n",
              "NaN       16063\n",
              "Name: Pensions_2, dtype: int64"
            ]
          },
          "metadata": {},
          "execution_count": 33
        }
      ]
    },
    {
      "cell_type": "code",
      "execution_count": null,
      "metadata": {
        "id": "GFO2TsuX2hLy",
        "colab": {
          "base_uri": "https://localhost:8080/"
        },
        "outputId": "a47a88ea-2fe8-42ec-b662-45415ed5f2c8"
      },
      "outputs": [
        {
          "output_type": "execute_result",
          "data": {
            "text/plain": [
              "0.05942853646687911"
            ]
          },
          "metadata": {},
          "execution_count": 34
        }
      ],
      "source": [
        "#Imputing the null values with the column's mean values:\n",
        "pensions2=pd.to_numeric(dftrain.Pensions_2.dropna().astype(np.int64).mean())\n",
        "pensions2"
      ]
    },
    {
      "cell_type": "code",
      "execution_count": null,
      "metadata": {
        "id": "IOELXXvR2haW"
      },
      "outputs": [],
      "source": [
        "dftrain['Pensions_2']=dftrain.Pensions_2.fillna(pensions2).astype(np.int64)"
      ]
    },
    {
      "cell_type": "code",
      "execution_count": null,
      "metadata": {
        "id": "mxsEF5Dy5TFT",
        "colab": {
          "base_uri": "https://localhost:8080/"
        },
        "outputId": "5a3bbe37-edc0-418a-dfb5-e404c41d2b83"
      },
      "outputs": [
        {
          "output_type": "execute_result",
          "data": {
            "text/plain": [
              "27734"
            ]
          },
          "metadata": {},
          "execution_count": 36
        }
      ],
      "source": [
        "#Employee_index:\n",
        "\n",
        "dftrain['Employee_index'].isna().sum()"
      ]
    },
    {
      "cell_type": "code",
      "source": [
        "##Change the row categories from Spanish to the given English name categories:\n",
        "dftrain['Employee_index']=dftrain['Employee_index'].replace(to_replace=['N','B','F','A','S'],value=['Not Employee','Ex Employed','Filial','Active','Unknown'])"
      ],
      "metadata": {
        "id": "E1c-Q4Zfno87"
      },
      "execution_count": null,
      "outputs": []
    },
    {
      "cell_type": "code",
      "source": [
        "dftrain['Employee_index'].value_counts(dropna=False)"
      ],
      "metadata": {
        "id": "dggCnb6e4xiU",
        "colab": {
          "base_uri": "https://localhost:8080/"
        },
        "outputId": "0dedb316-fef8-4e70-8f2d-d2d3ddb60869"
      },
      "execution_count": null,
      "outputs": [
        {
          "output_type": "execute_result",
          "data": {
            "text/plain": [
              "Not Employee    13610977\n",
              "NaN                27734\n",
              "Ex Employed         3566\n",
              "Filial              2523\n",
              "Active              2492\n",
              "Unknown               17\n",
              "Name: Employee_index, dtype: int64"
            ]
          },
          "metadata": {},
          "execution_count": 38
        }
      ]
    },
    {
      "cell_type": "code",
      "execution_count": null,
      "metadata": {
        "id": "Eh9HVbff5TU3"
      },
      "outputs": [],
      "source": [
        "#Imputing the null values with the column's mean values:\n",
        "dftrain['Employee_index']=dftrain['Employee_index'].transform(lambda x:x.fillna(x.value_counts().idxmax()))"
      ]
    },
    {
      "cell_type": "code",
      "source": [
        "#Country:\n",
        "dftrain['Country'].isna().sum()"
      ],
      "metadata": {
        "id": "oC9RWPdbqlNT",
        "colab": {
          "base_uri": "https://localhost:8080/"
        },
        "outputId": "65e966d3-5a6e-4740-bbfa-d0c7460aae9b"
      },
      "execution_count": null,
      "outputs": [
        {
          "output_type": "execute_result",
          "data": {
            "text/plain": [
              "27734"
            ]
          },
          "metadata": {},
          "execution_count": 40
        }
      ]
    },
    {
      "cell_type": "code",
      "source": [
        "dftrain['Country'].nunique()"
      ],
      "metadata": {
        "id": "1K93HUp16I4O",
        "colab": {
          "base_uri": "https://localhost:8080/"
        },
        "outputId": "adaede13-aa18-48c9-9f63-f4c797505b43"
      },
      "execution_count": null,
      "outputs": [
        {
          "output_type": "execute_result",
          "data": {
            "text/plain": [
              "118"
            ]
          },
          "metadata": {},
          "execution_count": 41
        }
      ]
    },
    {
      "cell_type": "code",
      "source": [
        "dftrain['Country'].value_counts(dropna=False)"
      ],
      "metadata": {
        "id": "mMKOQ-Gcq3CS",
        "colab": {
          "base_uri": "https://localhost:8080/"
        },
        "outputId": "c16ce435-bf24-47dc-9fab-364fea901b02"
      },
      "execution_count": null,
      "outputs": [
        {
          "output_type": "execute_result",
          "data": {
            "text/plain": [
              "ES     13553710\n",
              "NaN       27734\n",
              "FR         5161\n",
              "AR         4835\n",
              "DE         4625\n",
              "         ...   \n",
              "ZW           11\n",
              "DJ           11\n",
              "JM           11\n",
              "BM            6\n",
              "MT            2\n",
              "Name: Country, Length: 119, dtype: int64"
            ]
          },
          "metadata": {},
          "execution_count": 42
        }
      ]
    },
    {
      "cell_type": "code",
      "source": [
        "#Imputing the null values with the column's highest occuring value(value_counts().idxmax()):\n",
        "dftrain['Country']=dftrain['Country'].transform(lambda x:x.fillna(x.value_counts().idxmax()))"
      ],
      "metadata": {
        "id": "XjBMEMClqlhS"
      },
      "execution_count": null,
      "outputs": []
    },
    {
      "cell_type": "code",
      "execution_count": null,
      "metadata": {
        "id": "LQn4TeThyyDk",
        "colab": {
          "base_uri": "https://localhost:8080/"
        },
        "outputId": "d66ab66a-07b1-447f-9928-61990fc76563"
      },
      "outputs": [
        {
          "output_type": "execute_result",
          "data": {
            "text/plain": [
              "27804"
            ]
          },
          "metadata": {},
          "execution_count": 44
        }
      ],
      "source": [
        "#Gender:\n",
        "dftrain['Gender'].isna().sum()"
      ]
    },
    {
      "cell_type": "code",
      "source": [
        "dftrain['Gender'].unique()"
      ],
      "metadata": {
        "id": "WzZ8q2Xs6-Ey",
        "colab": {
          "base_uri": "https://localhost:8080/"
        },
        "outputId": "0e547895-23ea-44dd-92d6-49a39bfbb991"
      },
      "execution_count": null,
      "outputs": [
        {
          "output_type": "execute_result",
          "data": {
            "text/plain": [
              "array(['H', 'V', nan], dtype=object)"
            ]
          },
          "metadata": {},
          "execution_count": 45
        }
      ]
    },
    {
      "cell_type": "code",
      "source": [
        "#Change the row categories from Spanish to the given English name categories:\n",
        "dftrain['Gender']=dftrain['Gender'].replace(to_replace=['V','H'],value=['Female','Male'])"
      ],
      "metadata": {
        "id": "zHpSuXYQsqkF"
      },
      "execution_count": null,
      "outputs": []
    },
    {
      "cell_type": "code",
      "source": [
        "dftrain['Gender'].value_counts(dropna=False)"
      ],
      "metadata": {
        "id": "FD_wPYrKrQEn",
        "colab": {
          "base_uri": "https://localhost:8080/"
        },
        "outputId": "eac9c416-fe7d-4b31-c726-12280f1b8204"
      },
      "execution_count": null,
      "outputs": [
        {
          "output_type": "execute_result",
          "data": {
            "text/plain": [
              "Female    7424252\n",
              "Male      6195253\n",
              "NaN         27804\n",
              "Name: Gender, dtype: int64"
            ]
          },
          "metadata": {},
          "execution_count": 47
        }
      ]
    },
    {
      "cell_type": "code",
      "source": [
        "#Imputing the null values with the column's highest occuring value(value_counts().idxmax()) :\n",
        "dftrain['Gender']=dftrain['Gender'].transform(lambda x:x.fillna(x.value_counts().idxmax()))"
      ],
      "metadata": {
        "id": "EMrz7FNFspvM"
      },
      "execution_count": null,
      "outputs": []
    },
    {
      "cell_type": "code",
      "source": [
        "#Customer_relation:\n",
        "dftrain['Customer_relation'].isna().sum()"
      ],
      "metadata": {
        "id": "oy06lrwLsm7D",
        "colab": {
          "base_uri": "https://localhost:8080/"
        },
        "outputId": "586f718d-dfa4-467b-831f-bd4c7d6755ff"
      },
      "execution_count": null,
      "outputs": [
        {
          "output_type": "execute_result",
          "data": {
            "text/plain": [
              "149781"
            ]
          },
          "metadata": {},
          "execution_count": 49
        }
      ]
    },
    {
      "cell_type": "code",
      "source": [
        "dftrain['Customer_relation'].value_counts(dropna=False)"
      ],
      "metadata": {
        "id": "67TR1UMusjkP",
        "colab": {
          "base_uri": "https://localhost:8080/"
        },
        "outputId": "dc48a42e-9fe6-4538-e2a4-42be21aa7b30"
      },
      "execution_count": null,
      "outputs": [
        {
          "output_type": "execute_result",
          "data": {
            "text/plain": [
              "I      7304875\n",
              "A      6187123\n",
              "NaN     149781\n",
              "P         4656\n",
              "R          870\n",
              "N            4\n",
              "Name: Customer_relation, dtype: int64"
            ]
          },
          "metadata": {},
          "execution_count": 50
        }
      ]
    },
    {
      "cell_type": "code",
      "source": [
        "#Change the row categories from Spanish to the given English name categories:\n",
        "dftrain['Customer_relation']=dftrain['Customer_relation'].replace(to_replace=['I','A','P','R','N'],value=['Inactive','Active','Former','Potential','Unknown'])"
      ],
      "metadata": {
        "id": "YTXqEnVHwRsu"
      },
      "execution_count": null,
      "outputs": []
    },
    {
      "cell_type": "code",
      "source": [
        "#Imputing the null values with the column's highest occuring value(value_counts().idxmax()) :\n",
        "dftrain['Customer_relation']=dftrain['Customer_relation'].transform(lambda x:x.fillna(x.value_counts().idxmax()))"
      ],
      "metadata": {
        "id": "tXjW9TZawx2f"
      },
      "execution_count": null,
      "outputs": []
    },
    {
      "cell_type": "code",
      "source": [
        "dftrain['Customer_relation'].isna().sum()"
      ],
      "metadata": {
        "id": "spstwaKXwb7f",
        "colab": {
          "base_uri": "https://localhost:8080/"
        },
        "outputId": "6eb91b9b-d0a2-45b1-b6ab-219e16d01cf4"
      },
      "execution_count": null,
      "outputs": [
        {
          "output_type": "execute_result",
          "data": {
            "text/plain": [
              "0"
            ]
          },
          "metadata": {},
          "execution_count": 53
        }
      ]
    },
    {
      "cell_type": "code",
      "execution_count": null,
      "metadata": {
        "id": "IDL_S_jtyyGG",
        "colab": {
          "base_uri": "https://localhost:8080/"
        },
        "outputId": "4bfce609-17e1-47ec-d927-250d97a4afd4"
      },
      "outputs": [
        {
          "output_type": "execute_result",
          "data": {
            "text/plain": [
              "27734"
            ]
          },
          "metadata": {},
          "execution_count": 54
        }
      ],
      "source": [
        "#Residence_index:\n",
        "dftrain['Residence_index'].isna().sum()"
      ]
    },
    {
      "cell_type": "code",
      "source": [
        "dftrain['Residence_index'].value_counts(dropna=False)"
      ],
      "metadata": {
        "colab": {
          "base_uri": "https://localhost:8080/"
        },
        "id": "E3YOGZt17QxW",
        "outputId": "53495572-e525-448e-92db-850dc977fd10"
      },
      "execution_count": null,
      "outputs": [
        {
          "output_type": "execute_result",
          "data": {
            "text/plain": [
              "S      13553711\n",
              "N         65864\n",
              "NaN       27734\n",
              "Name: Residence_index, dtype: int64"
            ]
          },
          "metadata": {},
          "execution_count": 55
        }
      ]
    },
    {
      "cell_type": "code",
      "execution_count": null,
      "metadata": {
        "id": "MPayO4ltyyIV"
      },
      "outputs": [],
      "source": [
        "#Change the row categories from Spanish to the given English name categories:\n",
        "dftrain['Residence_index']=dftrain['Residence_index'].replace(to_replace=['S','N'],value=['Yes','No'])"
      ]
    },
    {
      "cell_type": "code",
      "execution_count": null,
      "metadata": {
        "id": "6m6asvrTyyKz"
      },
      "outputs": [],
      "source": [
        "#Imputing the null values with the column's highest occuring value(value_counts().idxmax()) :\n",
        "dftrain['Residence_index']=dftrain['Residence_index'].transform(lambda x:x.fillna(x.value_counts().idxmax()))"
      ]
    },
    {
      "cell_type": "code",
      "execution_count": null,
      "metadata": {
        "id": "Kek_pwWayyOE",
        "colab": {
          "base_uri": "https://localhost:8080/"
        },
        "outputId": "ea3e5e6a-5e57-45f3-e6c2-2645553f8e21"
      },
      "outputs": [
        {
          "output_type": "execute_result",
          "data": {
            "text/plain": [
              "27734"
            ]
          },
          "metadata": {},
          "execution_count": 58
        }
      ],
      "source": [
        "#Foreigner_index:\n",
        "dftrain['Foreigner_index'].isna().sum()"
      ]
    },
    {
      "cell_type": "code",
      "execution_count": null,
      "metadata": {
        "id": "JKei90WCyyRj",
        "colab": {
          "base_uri": "https://localhost:8080/"
        },
        "outputId": "d0b2c215-9897-493b-8113-2cc725616a7c"
      },
      "outputs": [
        {
          "output_type": "execute_result",
          "data": {
            "text/plain": [
              "N      12974839\n",
              "S        644736\n",
              "NaN       27734\n",
              "Name: Foreigner_index, dtype: int64"
            ]
          },
          "metadata": {},
          "execution_count": 59
        }
      ],
      "source": [
        "dftrain['Foreigner_index'].value_counts(dropna=False)"
      ]
    },
    {
      "cell_type": "code",
      "execution_count": null,
      "metadata": {
        "id": "oPBRiiVYyyUF"
      },
      "outputs": [],
      "source": [
        "#Change the row categories from Spanish to the given English name categories:\n",
        "dftrain['Foreigner_index']=dftrain['Foreigner_index'].replace(to_replace=['S','N'],value=['Yes','No'])"
      ]
    },
    {
      "cell_type": "code",
      "execution_count": null,
      "metadata": {
        "id": "YvIwNT2wyyWs"
      },
      "outputs": [],
      "source": [
        "#Imputing the null values with the column's highest occuring value(value_counts().idxmax()):\n",
        "dftrain['Foreigner_index']=dftrain['Foreigner_index'].transform(lambda x:x.fillna(x.value_counts().idxmax()))"
      ]
    },
    {
      "cell_type": "code",
      "execution_count": null,
      "metadata": {
        "id": "BPLISw3_yyZL",
        "colab": {
          "base_uri": "https://localhost:8080/"
        },
        "outputId": "aac42dee-5244-4bbe-d954-bcf34048a8d9"
      },
      "outputs": [
        {
          "output_type": "execute_result",
          "data": {
            "text/plain": [
              "186126"
            ]
          },
          "metadata": {},
          "execution_count": 62
        }
      ],
      "source": [
        "#Channel:\n",
        "dftrain['Channel'].isna().sum()"
      ]
    },
    {
      "cell_type": "code",
      "execution_count": null,
      "metadata": {
        "id": "zh8PIdz-yybg",
        "colab": {
          "base_uri": "https://localhost:8080/"
        },
        "outputId": "1d6f061f-7a5e-4613-8afc-69bf21eda093"
      },
      "outputs": [
        {
          "output_type": "execute_result",
          "data": {
            "text/plain": [
              "KHE    4055270\n",
              "KAT    3268209\n",
              "KFC    3098360\n",
              "KHQ     591039\n",
              "KFA     409669\n",
              "        ...   \n",
              "KDI         17\n",
              "KDL         11\n",
              "025         11\n",
              "KHS          5\n",
              "KHR          1\n",
              "Name: Channel, Length: 163, dtype: int64"
            ]
          },
          "metadata": {},
          "execution_count": 63
        }
      ],
      "source": [
        "dftrain['Channel'].value_counts(dropna=False)"
      ]
    },
    {
      "cell_type": "code",
      "execution_count": null,
      "metadata": {
        "id": "vDFdyqDPyyd8"
      },
      "outputs": [],
      "source": [
        "#Imputing the null values with the column's highest occuring value(value_counts().idxmax()) :\n",
        "dftrain['Channel']=dftrain['Channel'].transform(lambda x:x.fillna(x.value_counts().idxmax()))\n"
      ]
    },
    {
      "cell_type": "code",
      "execution_count": null,
      "metadata": {
        "id": "SFM-UZReyyga"
      },
      "outputs": [],
      "source": [
        "#Deceased_index:"
      ]
    },
    {
      "cell_type": "code",
      "execution_count": null,
      "metadata": {
        "id": "8VbU_XAMyyj5",
        "colab": {
          "base_uri": "https://localhost:8080/"
        },
        "outputId": "d34c5f9c-0b7f-4be3-b7a7-9a2cec619a87"
      },
      "outputs": [
        {
          "output_type": "execute_result",
          "data": {
            "text/plain": [
              "27734"
            ]
          },
          "metadata": {},
          "execution_count": 66
        }
      ],
      "source": [
        "dftrain['Deceased_index'].isna().sum()"
      ]
    },
    {
      "cell_type": "code",
      "execution_count": null,
      "metadata": {
        "id": "cY4tMpw-yynf",
        "colab": {
          "base_uri": "https://localhost:8080/"
        },
        "outputId": "aac9b853-1e0e-4cee-a558-631214ae494f"
      },
      "outputs": [
        {
          "output_type": "execute_result",
          "data": {
            "text/plain": [
              "N      13584813\n",
              "S         34762\n",
              "NaN       27734\n",
              "Name: Deceased_index, dtype: int64"
            ]
          },
          "metadata": {},
          "execution_count": 67
        }
      ],
      "source": [
        "dftrain['Deceased_index'].value_counts(dropna=False)"
      ]
    },
    {
      "cell_type": "code",
      "source": [
        "dftrain['Deceased_index']=dftrain['Deceased_index'].replace(to_replace=['S','N'],value=['Yes','No'])"
      ],
      "metadata": {
        "id": "uYkIvzN-_Bj4"
      },
      "execution_count": null,
      "outputs": []
    },
    {
      "cell_type": "code",
      "source": [
        "#Imputing the null values with the column's highest occuring value(value_counts().idxmax()) :\n",
        "dftrain['Deceased_index']=dftrain['Deceased_index'].transform(lambda x:x.fillna(x.value_counts().idxmax()))"
      ],
      "metadata": {
        "id": "GoflfiKV_q7a"
      },
      "execution_count": null,
      "outputs": []
    },
    {
      "cell_type": "code",
      "source": [
        "#Customer_address:\n",
        "dftrain['Customer_address'].isna().sum()"
      ],
      "metadata": {
        "id": "slk_Xxpy_rBq",
        "colab": {
          "base_uri": "https://localhost:8080/"
        },
        "outputId": "b5717da4-0139-475f-f8b2-36de8031f383"
      },
      "execution_count": null,
      "outputs": [
        {
          "output_type": "execute_result",
          "data": {
            "text/plain": [
              "93591"
            ]
          },
          "metadata": {},
          "execution_count": 70
        }
      ]
    },
    {
      "cell_type": "code",
      "source": [
        "dftrain['Customer_address'].value_counts(dropna=False)"
      ],
      "metadata": {
        "id": "Z5lUcVg3_rGY",
        "colab": {
          "base_uri": "https://localhost:8080/"
        },
        "outputId": "8cea698a-e4f3-4ece-b250-32842480d8b6"
      },
      "execution_count": null,
      "outputs": [
        {
          "output_type": "execute_result",
          "data": {
            "text/plain": [
              "28.0    4409600\n",
              "8.0     1275219\n",
              "46.0     682304\n",
              "41.0     605164\n",
              "15.0     429322\n",
              "30.0     396759\n",
              "29.0     367023\n",
              "50.0     342543\n",
              "3.0      313397\n",
              "11.0     294684\n",
              "36.0     280026\n",
              "33.0     265749\n",
              "47.0     238259\n",
              "35.0     235700\n",
              "6.0      192996\n",
              "48.0     185888\n",
              "45.0     183067\n",
              "18.0     178562\n",
              "37.0     164238\n",
              "39.0     155706\n",
              "14.0     144679\n",
              "10.0     129912\n",
              "7.0      124933\n",
              "21.0     122283\n",
              "13.0     119390\n",
              "2.0      114128\n",
              "12.0     104295\n",
              "43.0     100115\n",
              "9.0       97188\n",
              "NaN       93591\n",
              "17.0      90538\n",
              "31.0      88618\n",
              "26.0      85202\n",
              "27.0      84962\n",
              "32.0      84009\n",
              "24.0      83003\n",
              "25.0      79059\n",
              "20.0      71567\n",
              "38.0      70968\n",
              "19.0      64618\n",
              "23.0      64363\n",
              "4.0       60291\n",
              "16.0      57310\n",
              "49.0      50927\n",
              "34.0      49282\n",
              "40.0      42341\n",
              "22.0      40181\n",
              "5.0       38783\n",
              "1.0       37704\n",
              "44.0      22525\n",
              "42.0      17660\n",
              "52.0       9460\n",
              "51.0       7218\n",
              "Name: Customer_address, dtype: int64"
            ]
          },
          "metadata": {},
          "execution_count": 71
        }
      ]
    },
    {
      "cell_type": "code",
      "source": [
        "#Imputing the null values with the column's highest occuring value(value_counts().idxmax()) :\n",
        "dftrain['Customer_address']=dftrain['Customer_address'].transform(lambda x:x.fillna(x.value_counts().idxmax()))"
      ],
      "metadata": {
        "id": "34vpNbk1_rKY"
      },
      "execution_count": null,
      "outputs": []
    },
    {
      "cell_type": "code",
      "source": [
        "#Province_name:"
      ],
      "metadata": {
        "id": "CacExqM1_rNf"
      },
      "execution_count": null,
      "outputs": []
    },
    {
      "cell_type": "code",
      "source": [
        "dftrain['province_name'].isna().sum()"
      ],
      "metadata": {
        "id": "B7tQ2PVI_rQc",
        "colab": {
          "base_uri": "https://localhost:8080/"
        },
        "outputId": "25e42451-13a9-4979-94ea-420c201e078c"
      },
      "execution_count": null,
      "outputs": [
        {
          "output_type": "execute_result",
          "data": {
            "text/plain": [
              "93591"
            ]
          },
          "metadata": {},
          "execution_count": 74
        }
      ]
    },
    {
      "cell_type": "code",
      "source": [
        "dftrain['province_name'].value_counts(dropna=False)"
      ],
      "metadata": {
        "id": "GR5WI31V_rbD",
        "colab": {
          "base_uri": "https://localhost:8080/"
        },
        "outputId": "65f6fb3b-8952-42ce-9e89-675d85e4e95d"
      },
      "execution_count": null,
      "outputs": [
        {
          "output_type": "execute_result",
          "data": {
            "text/plain": [
              "MADRID                    4409600\n",
              "BARCELONA                 1275219\n",
              "VALENCIA                   682304\n",
              "SEVILLA                    605164\n",
              "CORUÑA, A                  429322\n",
              "MURCIA                     396759\n",
              "MALAGA                     367023\n",
              "ZARAGOZA                   342543\n",
              "ALICANTE                   313397\n",
              "CADIZ                      294684\n",
              "PONTEVEDRA                 280026\n",
              "ASTURIAS                   265749\n",
              "VALLADOLID                 238259\n",
              "PALMAS, LAS                235700\n",
              "BADAJOZ                    192996\n",
              "BIZKAIA                    185888\n",
              "TOLEDO                     183067\n",
              "GRANADA                    178562\n",
              "SALAMANCA                  164238\n",
              "CANTABRIA                  155706\n",
              "CORDOBA                    144679\n",
              "CACERES                    129912\n",
              "BALEARS, ILLES             124933\n",
              "HUELVA                     122283\n",
              "CIUDAD REAL                119390\n",
              "ALBACETE                   114128\n",
              "CASTELLON                  104295\n",
              "TARRAGONA                  100115\n",
              "BURGOS                      97188\n",
              "NaN                         93591\n",
              "GIRONA                      90538\n",
              "NAVARRA                     88618\n",
              "RIOJA, LA                   85202\n",
              "LUGO                        84962\n",
              "OURENSE                     84009\n",
              "LEON                        83003\n",
              "LERIDA                      79059\n",
              "GIPUZKOA                    71567\n",
              "SANTA CRUZ DE TENERIFE      70968\n",
              "GUADALAJARA                 64618\n",
              "JAEN                        64363\n",
              "ALMERIA                     60291\n",
              "CUENCA                      57310\n",
              "ZAMORA                      50927\n",
              "PALENCIA                    49282\n",
              "SEGOVIA                     42341\n",
              "HUESCA                      40181\n",
              "AVILA                       38783\n",
              "ALAVA                       37704\n",
              "TERUEL                      22525\n",
              "SORIA                       17660\n",
              "MELILLA                      9460\n",
              "CEUTA                        7218\n",
              "Name: province_name, dtype: int64"
            ]
          },
          "metadata": {},
          "execution_count": 75
        }
      ]
    },
    {
      "cell_type": "code",
      "source": [
        "#Imputing Null values with  highest value_count in province_name:\n",
        "dftrain['province_name']=dftrain['Customer_address'].transform(lambda x:x.fillna(x.value_counts().idxmax()))"
      ],
      "metadata": {
        "id": "Jf46tvGiCLak"
      },
      "execution_count": null,
      "outputs": []
    },
    {
      "cell_type": "code",
      "source": [
        "#primary_customer:\n",
        "dftrain['primary_customer'].isna()"
      ],
      "metadata": {
        "id": "wwh9C1KoFDi8",
        "colab": {
          "base_uri": "https://localhost:8080/"
        },
        "outputId": "bc258173-f104-44b0-e7ed-d3c72ef70ee6"
      },
      "execution_count": null,
      "outputs": [
        {
          "output_type": "execute_result",
          "data": {
            "text/plain": [
              "0           False\n",
              "1           False\n",
              "2           False\n",
              "3           False\n",
              "4           False\n",
              "            ...  \n",
              "13647304    False\n",
              "13647305    False\n",
              "13647306    False\n",
              "13647307    False\n",
              "13647308    False\n",
              "Name: primary_customer, Length: 13647309, dtype: bool"
            ]
          },
          "metadata": {},
          "execution_count": 77
        }
      ]
    },
    {
      "cell_type": "code",
      "source": [
        "dftrain['primary_customer'].value_counts(dropna=False)"
      ],
      "metadata": {
        "id": "URVzX1RoFDzT",
        "colab": {
          "base_uri": "https://localhost:8080/"
        },
        "outputId": "1c25668f-cffa-478c-c7ba-0a0e174b8dd9"
      },
      "execution_count": null,
      "outputs": [
        {
          "output_type": "execute_result",
          "data": {
            "text/plain": [
              "1.000000     13594782\n",
              "1.178399        27734\n",
              "99.000000       24793\n",
              "Name: primary_customer, dtype: int64"
            ]
          },
          "metadata": {},
          "execution_count": 78
        }
      ]
    },
    {
      "cell_type": "code",
      "source": [
        "##Imputing the null values with the column's mean values:\n",
        "primarycustomer=pd.to_numeric(dftrain.primary_customer.dropna().astype(np.int64).mean())\n",
        "primarycustomer=round(primarycustomer)\n",
        "primarycustomer"
      ],
      "metadata": {
        "id": "osDtMBlGFD72",
        "colab": {
          "base_uri": "https://localhost:8080/"
        },
        "outputId": "c757f543-5ecf-4f81-9f52-f881eaf68c5b"
      },
      "execution_count": null,
      "outputs": [
        {
          "output_type": "execute_result",
          "data": {
            "text/plain": [
              "1"
            ]
          },
          "metadata": {},
          "execution_count": 81
        }
      ]
    },
    {
      "cell_type": "code",
      "source": [
        "dftrain['primary_customer']=dftrain.primary_customer.fillna(primarycustomer).astype(object)"
      ],
      "metadata": {
        "id": "S0CAxWDSFEDS"
      },
      "execution_count": null,
      "outputs": []
    },
    {
      "cell_type": "code",
      "source": [
        "#Customer_type:\n",
        "dftrain['Customer_type'].dtypes"
      ],
      "metadata": {
        "id": "1YfQSQwBFELJ",
        "colab": {
          "base_uri": "https://localhost:8080/"
        },
        "outputId": "4e420ea0-5275-4701-d8f1-3c8cfdfe4418"
      },
      "execution_count": null,
      "outputs": [
        {
          "output_type": "execute_result",
          "data": {
            "text/plain": [
              "dtype('O')"
            ]
          },
          "metadata": {},
          "execution_count": 82
        }
      ]
    },
    {
      "cell_type": "code",
      "source": [
        "#Change the data type from object to category:\n",
        "dftrain['Customer_type'] = dftrain['Customer_type'].astype('category')"
      ],
      "metadata": {
        "id": "4o08_80qLXoP"
      },
      "execution_count": null,
      "outputs": []
    },
    {
      "cell_type": "code",
      "source": [
        "dftrain['Customer_type'].value_counts(dropna=False)"
      ],
      "metadata": {
        "id": "E1RgyH1tI6-M",
        "colab": {
          "base_uri": "https://localhost:8080/"
        },
        "outputId": "1afdcaca-92ee-443e-9aaa-f89953aa03c1"
      },
      "execution_count": null,
      "outputs": [
        {
          "output_type": "execute_result",
          "data": {
            "text/plain": [
              "1.0    6392863\n",
              "1.0    3972444\n",
              "1      3125374\n",
              "NaN     149781\n",
              "3.0       2688\n",
              "3         1498\n",
              "P          874\n",
              "2.0        722\n",
              "2          569\n",
              "4.0        217\n",
              "3.0        164\n",
              "4           83\n",
              "2.0         26\n",
              "4.0          6\n",
              "Name: Customer_type, dtype: int64"
            ]
          },
          "metadata": {},
          "execution_count": 84
        }
      ]
    },
    {
      "cell_type": "code",
      "source": [
        "#Change the row categories to given English categories:\n",
        "dftrain['Customer_type']=dftrain['Customer_type'].replace(to_replace=['P'],value=['Potential'])"
      ],
      "metadata": {
        "id": "ukLuiudyFEUQ"
      },
      "execution_count": null,
      "outputs": []
    },
    {
      "cell_type": "code",
      "source": [
        "dftrain['Customer_type']=dftrain['Customer_type'].replace(to_replace=['1.0','2.0','3.0','4.0'],value=['Primary_customer','Co-owner','Former primary','Former co-owner'])"
      ],
      "metadata": {
        "id": "qI5xKq9D68Qr"
      },
      "execution_count": null,
      "outputs": []
    },
    {
      "cell_type": "code",
      "source": [
        "dftrain['Customer_type']=dftrain['Customer_type'].replace(to_replace=[1.0,2.0,3.0,4.0],value=['Primary_customer','Co-owner','Former primary','Former co-owner'])"
      ],
      "metadata": {
        "id": "Z-Kgoltcp9eP"
      },
      "execution_count": null,
      "outputs": []
    },
    {
      "cell_type": "code",
      "source": [
        "dftrain['Customer_type']=dftrain['Customer_type'].replace(to_replace=[1,2,3,4],value=['Primary_customer','Co-owner','Former primary','Former co-owner'])"
      ],
      "metadata": {
        "id": "vtv1-QKV0cin"
      },
      "execution_count": null,
      "outputs": []
    },
    {
      "cell_type": "code",
      "source": [
        "dftrain['Customer_type']=dftrain['Customer_type'].replace(to_replace=['1','2','3','4'],value=['Primary_customer','Co-owner','Former primary','Former co-owner'])"
      ],
      "metadata": {
        "id": "TyvsiUD55zZz"
      },
      "execution_count": null,
      "outputs": []
    },
    {
      "cell_type": "code",
      "source": [
        "##Imputing the null values with the column's highest occuring value(value_counts().idxmax()) :\n",
        "dftrain['Customer_type'] = dftrain['Customer_type'].transform(lambda x:x.fillna(x.value_counts().idxmax()))"
      ],
      "metadata": {
        "id": "bNw1xNU_9i5a"
      },
      "execution_count": null,
      "outputs": []
    },
    {
      "cell_type": "code",
      "source": [
        "dftrain['Customer_type'].value_counts(dropna=False)"
      ],
      "metadata": {
        "colab": {
          "base_uri": "https://localhost:8080/"
        },
        "id": "6-x7UFVn-9Kc",
        "outputId": "b3429311-52a1-49a5-a960-51706c3deadf"
      },
      "execution_count": null,
      "outputs": [
        {
          "output_type": "execute_result",
          "data": {
            "text/plain": [
              "Primary_customer    13640462\n",
              "Former primary          4350\n",
              "Co-owner                1317\n",
              "Potential                874\n",
              "Former co-owner          306\n",
              "Name: Customer_type, dtype: int64"
            ]
          },
          "metadata": {},
          "execution_count": 91
        }
      ]
    },
    {
      "cell_type": "code",
      "source": [
        "# Change Data types of features Age and Customer_seniority:"
      ],
      "metadata": {
        "id": "VC8tifIB3rvq"
      },
      "execution_count": null,
      "outputs": []
    },
    {
      "cell_type": "code",
      "source": [
        "dftrain['Age'] = pd.to_numeric(dftrain['Age'],errors='coerce')"
      ],
      "metadata": {
        "id": "FWL1Ju0m4FDB"
      },
      "execution_count": null,
      "outputs": []
    },
    {
      "cell_type": "code",
      "source": [
        "dftrain['Age'].value_counts(ascending=False)"
      ],
      "metadata": {
        "colab": {
          "base_uri": "https://localhost:8080/"
        },
        "id": "5TJVNsu74E3i",
        "outputId": "c86333fc-0b9a-419b-de30-7359de2ba58c"
      },
      "execution_count": null,
      "outputs": [
        {
          "output_type": "execute_result",
          "data": {
            "text/plain": [
              "23.0     779884\n",
              "22.0     736314\n",
              "24.0     734785\n",
              "21.0     675988\n",
              "25.0     472016\n",
              "          ...  \n",
              "117.0        14\n",
              "163.0         8\n",
              "127.0         8\n",
              "126.0         3\n",
              "164.0         3\n",
              "Name: Age, Length: 120, dtype: int64"
            ]
          },
          "metadata": {},
          "execution_count": 93
        }
      ]
    },
    {
      "cell_type": "code",
      "source": [
        "##Imputing the null values with the column's mean values:\n",
        "age=pd.to_numeric(dftrain.Age.dropna().astype(np.float64).mean())\n",
        "age"
      ],
      "metadata": {
        "colab": {
          "base_uri": "https://localhost:8080/"
        },
        "id": "DpPVEJAE4Etc",
        "outputId": "d3bd46f9-12b7-49c8-d34c-113b69b03bdf"
      },
      "execution_count": null,
      "outputs": [
        {
          "output_type": "execute_result",
          "data": {
            "text/plain": [
              "40.18146491355274"
            ]
          },
          "metadata": {},
          "execution_count": 94
        }
      ]
    },
    {
      "cell_type": "code",
      "source": [
        "dftrain['Age']=dftrain.Age.fillna(age).astype(float)"
      ],
      "metadata": {
        "id": "3V6KMrG64EfW"
      },
      "execution_count": null,
      "outputs": []
    },
    {
      "cell_type": "code",
      "source": [
        "#Customer_seniority:\n",
        "dftrain['Customer_seniority'].isna().sum()"
      ],
      "metadata": {
        "colab": {
          "base_uri": "https://localhost:8080/"
        },
        "id": "anRr3kbs4EO4",
        "outputId": "275220a5-c2b6-4dc9-b703-94061cca86c6"
      },
      "execution_count": null,
      "outputs": [
        {
          "output_type": "execute_result",
          "data": {
            "text/plain": [
              "0"
            ]
          },
          "metadata": {},
          "execution_count": 96
        }
      ]
    },
    {
      "cell_type": "code",
      "source": [
        "dftrain['Customer_seniority'] = pd.to_numeric(dftrain['Customer_seniority'],errors='coerce')"
      ],
      "metadata": {
        "id": "XX2osX1u4EAM"
      },
      "execution_count": null,
      "outputs": []
    },
    {
      "cell_type": "code",
      "source": [
        "#Imputing the null values with the column's mean values:\n",
        "\n",
        "seniority=pd.to_numeric(dftrain.Customer_seniority.dropna().astype(np.float64).mean())\n",
        "seniority"
      ],
      "metadata": {
        "colab": {
          "base_uri": "https://localhost:8080/"
        },
        "id": "3C9HLx_94Dxb",
        "outputId": "2b772ef2-32c9-442d-8dba-784704050fad"
      },
      "execution_count": null,
      "outputs": [
        {
          "output_type": "execute_result",
          "data": {
            "text/plain": [
              "76.59194064425652"
            ]
          },
          "metadata": {},
          "execution_count": 98
        }
      ]
    },
    {
      "cell_type": "code",
      "source": [
        "dftrain['Customer_seniority']=dftrain.Customer_seniority.fillna(seniority).astype(float)"
      ],
      "metadata": {
        "id": "_FG5rGwl4DjC"
      },
      "execution_count": null,
      "outputs": []
    },
    {
      "cell_type": "code",
      "source": [
        "dftrain.isnull().sum()"
      ],
      "metadata": {
        "id": "gmRItqg4CLeQ",
        "colab": {
          "base_uri": "https://localhost:8080/"
        },
        "outputId": "8138a3d2-dfae-4a7e-b94f-1535a66abd2e"
      },
      "execution_count": null,
      "outputs": [
        {
          "output_type": "execute_result",
          "data": {
            "text/plain": [
              "Date                    0\n",
              "Customer_code           0\n",
              "Employee_index          0\n",
              "Country                 0\n",
              "Gender                  0\n",
              "Age                     0\n",
              "Customer_join_date      0\n",
              "Customer_index          0\n",
              "Customer_seniority      0\n",
              "primary_customer        0\n",
              "Customer_type           0\n",
              "Customer_relation       0\n",
              "Residence_index         0\n",
              "Foreigner_index         0\n",
              "Channel                 0\n",
              "Deceased_index          0\n",
              "Primary_Address         0\n",
              "Customer_address        0\n",
              "province_name           0\n",
              "Activity_index          0\n",
              "Gross_income            0\n",
              "Segmentation            0\n",
              "Saving_account          0\n",
              "Guarantees              0\n",
              "Current_accounts        0\n",
              "Derivative_account      0\n",
              "Payroll_account         0\n",
              "Junior_account          0\n",
              "More_private_account    0\n",
              "Private_account         0\n",
              "Private_plus_account    0\n",
              "Short_term_deposits     0\n",
              "Medium_term_deposits    0\n",
              "Long_term_deposits      0\n",
              "E_Account               0\n",
              "Funds                   0\n",
              "Mortgage                0\n",
              "Pensions                0\n",
              "Loans                   0\n",
              "Taxes                   0\n",
              "Credit_card             0\n",
              "Securities              0\n",
              "Home_account            0\n",
              "Payroll                 0\n",
              "Pensions_2              0\n",
              "Direct_debit            0\n",
              "dtype: int64"
            ]
          },
          "metadata": {},
          "execution_count": 107
        }
      ]
    },
    {
      "cell_type": "code",
      "source": [
        "dftrain.head(7)"
      ],
      "metadata": {
        "id": "bDcl8JNGnTLA",
        "colab": {
          "base_uri": "https://localhost:8080/",
          "height": 484
        },
        "outputId": "84d02de3-9e27-4c33-c5b1-c11581a251a3"
      },
      "execution_count": null,
      "outputs": [
        {
          "output_type": "execute_result",
          "data": {
            "text/plain": [
              "         Date  Customer_code Employee_index Country  Gender   Age  \\\n",
              "0  2015-01-28        1375586   Not Employee      ES    Male  35.0   \n",
              "1  2015-01-28        1050611   Not Employee      ES  Female  23.0   \n",
              "2  2015-01-28        1050612   Not Employee      ES  Female  23.0   \n",
              "3  2015-01-28        1050613   Not Employee      ES    Male  22.0   \n",
              "4  2015-01-28        1050614   Not Employee      ES  Female  23.0   \n",
              "5  2015-01-28        1050615   Not Employee      ES    Male  23.0   \n",
              "6  2015-01-28        1050616   Not Employee      ES    Male  23.0   \n",
              "\n",
              "  Customer_join_date  Customer_index  Customer_seniority primary_customer  \\\n",
              "0         2015-01-12             0.0                 6.0              1.0   \n",
              "1         2012-08-10             0.0                35.0              1.0   \n",
              "2         2012-08-10             0.0                35.0              1.0   \n",
              "3         2012-08-10             0.0                35.0              1.0   \n",
              "4         2012-08-10             0.0                35.0              1.0   \n",
              "5         2012-08-10             0.0                35.0              1.0   \n",
              "6         2012-08-10             0.0                35.0              1.0   \n",
              "\n",
              "   ... Mortgage Pensions Loans Taxes Credit_card Securities  Home_account  \\\n",
              "0  ...        0        0     0     0           0          0             0   \n",
              "1  ...        0        0     0     0           0          0             0   \n",
              "2  ...        0        0     0     0           0          0             0   \n",
              "3  ...        0        0     0     0           0          0             0   \n",
              "4  ...        0        0     0     0           0          0             0   \n",
              "5  ...        0        0     0     0           0          0             0   \n",
              "6  ...        0        0     0     0           0          0             0   \n",
              "\n",
              "   Payroll  Pensions_2  Direct_debit  \n",
              "0      0.0           0             0  \n",
              "1      0.0           0             0  \n",
              "2      0.0           0             0  \n",
              "3      0.0           0             0  \n",
              "4      0.0           0             0  \n",
              "5      0.0           0             0  \n",
              "6      0.0           0             0  \n",
              "\n",
              "[7 rows x 46 columns]"
            ],
            "text/html": [
              "\n",
              "  <div id=\"df-f9c361c2-2de2-49a9-b850-203bc82dd100\">\n",
              "    <div class=\"colab-df-container\">\n",
              "      <div>\n",
              "<style scoped>\n",
              "    .dataframe tbody tr th:only-of-type {\n",
              "        vertical-align: middle;\n",
              "    }\n",
              "\n",
              "    .dataframe tbody tr th {\n",
              "        vertical-align: top;\n",
              "    }\n",
              "\n",
              "    .dataframe thead th {\n",
              "        text-align: right;\n",
              "    }\n",
              "</style>\n",
              "<table border=\"1\" class=\"dataframe\">\n",
              "  <thead>\n",
              "    <tr style=\"text-align: right;\">\n",
              "      <th></th>\n",
              "      <th>Date</th>\n",
              "      <th>Customer_code</th>\n",
              "      <th>Employee_index</th>\n",
              "      <th>Country</th>\n",
              "      <th>Gender</th>\n",
              "      <th>Age</th>\n",
              "      <th>Customer_join_date</th>\n",
              "      <th>Customer_index</th>\n",
              "      <th>Customer_seniority</th>\n",
              "      <th>primary_customer</th>\n",
              "      <th>...</th>\n",
              "      <th>Mortgage</th>\n",
              "      <th>Pensions</th>\n",
              "      <th>Loans</th>\n",
              "      <th>Taxes</th>\n",
              "      <th>Credit_card</th>\n",
              "      <th>Securities</th>\n",
              "      <th>Home_account</th>\n",
              "      <th>Payroll</th>\n",
              "      <th>Pensions_2</th>\n",
              "      <th>Direct_debit</th>\n",
              "    </tr>\n",
              "  </thead>\n",
              "  <tbody>\n",
              "    <tr>\n",
              "      <th>0</th>\n",
              "      <td>2015-01-28</td>\n",
              "      <td>1375586</td>\n",
              "      <td>Not Employee</td>\n",
              "      <td>ES</td>\n",
              "      <td>Male</td>\n",
              "      <td>35.0</td>\n",
              "      <td>2015-01-12</td>\n",
              "      <td>0.0</td>\n",
              "      <td>6.0</td>\n",
              "      <td>1.0</td>\n",
              "      <td>...</td>\n",
              "      <td>0</td>\n",
              "      <td>0</td>\n",
              "      <td>0</td>\n",
              "      <td>0</td>\n",
              "      <td>0</td>\n",
              "      <td>0</td>\n",
              "      <td>0</td>\n",
              "      <td>0.0</td>\n",
              "      <td>0</td>\n",
              "      <td>0</td>\n",
              "    </tr>\n",
              "    <tr>\n",
              "      <th>1</th>\n",
              "      <td>2015-01-28</td>\n",
              "      <td>1050611</td>\n",
              "      <td>Not Employee</td>\n",
              "      <td>ES</td>\n",
              "      <td>Female</td>\n",
              "      <td>23.0</td>\n",
              "      <td>2012-08-10</td>\n",
              "      <td>0.0</td>\n",
              "      <td>35.0</td>\n",
              "      <td>1.0</td>\n",
              "      <td>...</td>\n",
              "      <td>0</td>\n",
              "      <td>0</td>\n",
              "      <td>0</td>\n",
              "      <td>0</td>\n",
              "      <td>0</td>\n",
              "      <td>0</td>\n",
              "      <td>0</td>\n",
              "      <td>0.0</td>\n",
              "      <td>0</td>\n",
              "      <td>0</td>\n",
              "    </tr>\n",
              "    <tr>\n",
              "      <th>2</th>\n",
              "      <td>2015-01-28</td>\n",
              "      <td>1050612</td>\n",
              "      <td>Not Employee</td>\n",
              "      <td>ES</td>\n",
              "      <td>Female</td>\n",
              "      <td>23.0</td>\n",
              "      <td>2012-08-10</td>\n",
              "      <td>0.0</td>\n",
              "      <td>35.0</td>\n",
              "      <td>1.0</td>\n",
              "      <td>...</td>\n",
              "      <td>0</td>\n",
              "      <td>0</td>\n",
              "      <td>0</td>\n",
              "      <td>0</td>\n",
              "      <td>0</td>\n",
              "      <td>0</td>\n",
              "      <td>0</td>\n",
              "      <td>0.0</td>\n",
              "      <td>0</td>\n",
              "      <td>0</td>\n",
              "    </tr>\n",
              "    <tr>\n",
              "      <th>3</th>\n",
              "      <td>2015-01-28</td>\n",
              "      <td>1050613</td>\n",
              "      <td>Not Employee</td>\n",
              "      <td>ES</td>\n",
              "      <td>Male</td>\n",
              "      <td>22.0</td>\n",
              "      <td>2012-08-10</td>\n",
              "      <td>0.0</td>\n",
              "      <td>35.0</td>\n",
              "      <td>1.0</td>\n",
              "      <td>...</td>\n",
              "      <td>0</td>\n",
              "      <td>0</td>\n",
              "      <td>0</td>\n",
              "      <td>0</td>\n",
              "      <td>0</td>\n",
              "      <td>0</td>\n",
              "      <td>0</td>\n",
              "      <td>0.0</td>\n",
              "      <td>0</td>\n",
              "      <td>0</td>\n",
              "    </tr>\n",
              "    <tr>\n",
              "      <th>4</th>\n",
              "      <td>2015-01-28</td>\n",
              "      <td>1050614</td>\n",
              "      <td>Not Employee</td>\n",
              "      <td>ES</td>\n",
              "      <td>Female</td>\n",
              "      <td>23.0</td>\n",
              "      <td>2012-08-10</td>\n",
              "      <td>0.0</td>\n",
              "      <td>35.0</td>\n",
              "      <td>1.0</td>\n",
              "      <td>...</td>\n",
              "      <td>0</td>\n",
              "      <td>0</td>\n",
              "      <td>0</td>\n",
              "      <td>0</td>\n",
              "      <td>0</td>\n",
              "      <td>0</td>\n",
              "      <td>0</td>\n",
              "      <td>0.0</td>\n",
              "      <td>0</td>\n",
              "      <td>0</td>\n",
              "    </tr>\n",
              "    <tr>\n",
              "      <th>5</th>\n",
              "      <td>2015-01-28</td>\n",
              "      <td>1050615</td>\n",
              "      <td>Not Employee</td>\n",
              "      <td>ES</td>\n",
              "      <td>Male</td>\n",
              "      <td>23.0</td>\n",
              "      <td>2012-08-10</td>\n",
              "      <td>0.0</td>\n",
              "      <td>35.0</td>\n",
              "      <td>1.0</td>\n",
              "      <td>...</td>\n",
              "      <td>0</td>\n",
              "      <td>0</td>\n",
              "      <td>0</td>\n",
              "      <td>0</td>\n",
              "      <td>0</td>\n",
              "      <td>0</td>\n",
              "      <td>0</td>\n",
              "      <td>0.0</td>\n",
              "      <td>0</td>\n",
              "      <td>0</td>\n",
              "    </tr>\n",
              "    <tr>\n",
              "      <th>6</th>\n",
              "      <td>2015-01-28</td>\n",
              "      <td>1050616</td>\n",
              "      <td>Not Employee</td>\n",
              "      <td>ES</td>\n",
              "      <td>Male</td>\n",
              "      <td>23.0</td>\n",
              "      <td>2012-08-10</td>\n",
              "      <td>0.0</td>\n",
              "      <td>35.0</td>\n",
              "      <td>1.0</td>\n",
              "      <td>...</td>\n",
              "      <td>0</td>\n",
              "      <td>0</td>\n",
              "      <td>0</td>\n",
              "      <td>0</td>\n",
              "      <td>0</td>\n",
              "      <td>0</td>\n",
              "      <td>0</td>\n",
              "      <td>0.0</td>\n",
              "      <td>0</td>\n",
              "      <td>0</td>\n",
              "    </tr>\n",
              "  </tbody>\n",
              "</table>\n",
              "<p>7 rows × 46 columns</p>\n",
              "</div>\n",
              "      <button class=\"colab-df-convert\" onclick=\"convertToInteractive('df-f9c361c2-2de2-49a9-b850-203bc82dd100')\"\n",
              "              title=\"Convert this dataframe to an interactive table.\"\n",
              "              style=\"display:none;\">\n",
              "        \n",
              "  <svg xmlns=\"http://www.w3.org/2000/svg\" height=\"24px\"viewBox=\"0 0 24 24\"\n",
              "       width=\"24px\">\n",
              "    <path d=\"M0 0h24v24H0V0z\" fill=\"none\"/>\n",
              "    <path d=\"M18.56 5.44l.94 2.06.94-2.06 2.06-.94-2.06-.94-.94-2.06-.94 2.06-2.06.94zm-11 1L8.5 8.5l.94-2.06 2.06-.94-2.06-.94L8.5 2.5l-.94 2.06-2.06.94zm10 10l.94 2.06.94-2.06 2.06-.94-2.06-.94-.94-2.06-.94 2.06-2.06.94z\"/><path d=\"M17.41 7.96l-1.37-1.37c-.4-.4-.92-.59-1.43-.59-.52 0-1.04.2-1.43.59L10.3 9.45l-7.72 7.72c-.78.78-.78 2.05 0 2.83L4 21.41c.39.39.9.59 1.41.59.51 0 1.02-.2 1.41-.59l7.78-7.78 2.81-2.81c.8-.78.8-2.07 0-2.86zM5.41 20L4 18.59l7.72-7.72 1.47 1.35L5.41 20z\"/>\n",
              "  </svg>\n",
              "      </button>\n",
              "      \n",
              "  <style>\n",
              "    .colab-df-container {\n",
              "      display:flex;\n",
              "      flex-wrap:wrap;\n",
              "      gap: 12px;\n",
              "    }\n",
              "\n",
              "    .colab-df-convert {\n",
              "      background-color: #E8F0FE;\n",
              "      border: none;\n",
              "      border-radius: 50%;\n",
              "      cursor: pointer;\n",
              "      display: none;\n",
              "      fill: #1967D2;\n",
              "      height: 32px;\n",
              "      padding: 0 0 0 0;\n",
              "      width: 32px;\n",
              "    }\n",
              "\n",
              "    .colab-df-convert:hover {\n",
              "      background-color: #E2EBFA;\n",
              "      box-shadow: 0px 1px 2px rgba(60, 64, 67, 0.3), 0px 1px 3px 1px rgba(60, 64, 67, 0.15);\n",
              "      fill: #174EA6;\n",
              "    }\n",
              "\n",
              "    [theme=dark] .colab-df-convert {\n",
              "      background-color: #3B4455;\n",
              "      fill: #D2E3FC;\n",
              "    }\n",
              "\n",
              "    [theme=dark] .colab-df-convert:hover {\n",
              "      background-color: #434B5C;\n",
              "      box-shadow: 0px 1px 3px 1px rgba(0, 0, 0, 0.15);\n",
              "      filter: drop-shadow(0px 1px 2px rgba(0, 0, 0, 0.3));\n",
              "      fill: #FFFFFF;\n",
              "    }\n",
              "  </style>\n",
              "\n",
              "      <script>\n",
              "        const buttonEl =\n",
              "          document.querySelector('#df-f9c361c2-2de2-49a9-b850-203bc82dd100 button.colab-df-convert');\n",
              "        buttonEl.style.display =\n",
              "          google.colab.kernel.accessAllowed ? 'block' : 'none';\n",
              "\n",
              "        async function convertToInteractive(key) {\n",
              "          const element = document.querySelector('#df-f9c361c2-2de2-49a9-b850-203bc82dd100');\n",
              "          const dataTable =\n",
              "            await google.colab.kernel.invokeFunction('convertToInteractive',\n",
              "                                                     [key], {});\n",
              "          if (!dataTable) return;\n",
              "\n",
              "          const docLinkHtml = 'Like what you see? Visit the ' +\n",
              "            '<a target=\"_blank\" href=https://colab.research.google.com/notebooks/data_table.ipynb>data table notebook</a>'\n",
              "            + ' to learn more about interactive tables.';\n",
              "          element.innerHTML = '';\n",
              "          dataTable['output_type'] = 'display_data';\n",
              "          await google.colab.output.renderOutput(dataTable, element);\n",
              "          const docLink = document.createElement('div');\n",
              "          docLink.innerHTML = docLinkHtml;\n",
              "          element.appendChild(docLink);\n",
              "        }\n",
              "      </script>\n",
              "    </div>\n",
              "  </div>\n",
              "  "
            ]
          },
          "metadata": {},
          "execution_count": 108
        }
      ]
    },
    {
      "cell_type": "code",
      "source": [
        "#Save a copy of this data set with name train.csv to the drive:\n",
        "from google.colab import drive\n",
        "drive.mount('/content/drive')\n",
        "path = '/content/drive/My Drive/dftrain.csv'\n",
        "with open(path, 'w', encoding = 'utf-8-sig') as f:\n",
        "  dftrain.to_csv(f)"
      ],
      "metadata": {
        "colab": {
          "base_uri": "https://localhost:8080/"
        },
        "id": "yxXNX_3PF51R",
        "outputId": "89d940b4-c623-414e-b89f-638f94606057"
      },
      "execution_count": null,
      "outputs": [
        {
          "output_type": "stream",
          "name": "stdout",
          "text": [
            "Drive already mounted at /content/drive; to attempt to forcibly remount, call drive.mount(\"/content/drive\", force_remount=True).\n"
          ]
        }
      ]
    },
    {
      "cell_type": "markdown",
      "source": [
        "# Load the cleaned data set:dftrain.csv from the drive"
      ],
      "metadata": {
        "id": "lUQWG-HxtR5Q"
      }
    },
    {
      "cell_type": "code",
      "source": [
        "import os\n",
        "file_path = '/content/drive/MyDrive/Cross_Selling/dftrain.csv'\n",
        "\n",
        "def get_size(file_path, unit='bytes'):\n",
        "    file_size = os.path.getsize(file_path)\n",
        "    exponents_map = {'bytes': 0, 'kb': 1, 'mb': 2, 'gb': 3}\n",
        "    if unit not in exponents_map:\n",
        "        raise ValueError(\"Must select from \\\n",
        "        ['bytes', 'kb', 'mb', 'gb']\")\n",
        "    else:\n",
        "        size = file_size / 1024 ** exponents_map[unit]\n",
        "        return round(size, 3)\n",
        "\n",
        "\n",
        "print ('Size of the Train data set is',(get_size(file_path,'gb')),'GB')"
      ],
      "metadata": {
        "id": "arzcVyZ8v0x8",
        "colab": {
          "base_uri": "https://localhost:8080/"
        },
        "outputId": "2128623c-ded1-4b92-f6aa-71492bc53bb1"
      },
      "execution_count": null,
      "outputs": [
        {
          "output_type": "stream",
          "name": "stdout",
          "text": [
            "Size of the Train data set is 2.681 GB\n"
          ]
        }
      ]
    },
    {
      "cell_type": "code",
      "source": [
        "#Import Libraries:\n",
        "\n",
        "import pandas as pd\n",
        "from pandas.api.types import is_numeric_dtype\n",
        "import warnings\n",
        "warnings.filterwarnings('ignore')\n",
        "import seaborn as sns\n",
        "import matplotlib.pyplot as plt\n",
        "from datetime import datetime \n",
        "import numpy as np \n",
        "import time"
      ],
      "metadata": {
        "id": "zPG8kKRotg8S"
      },
      "execution_count": 1,
      "outputs": []
    },
    {
      "cell_type": "code",
      "source": [
        "path=\"/content/drive/MyDrive/Cross_Selling/dftrain.csv\""
      ],
      "metadata": {
        "id": "yH-uaQeWtg42"
      },
      "execution_count": 2,
      "outputs": []
    },
    {
      "cell_type": "code",
      "source": [
        "#Load the Train data set in chunks as the file is large:\n",
        "\n",
        "newdftrain = pd.DataFrame()\n",
        "for chunk in pd.read_csv(path, chunksize = 100000, low_memory=False):\n",
        "   newdftrain=pd.concat([newdftrain,chunk])"
      ],
      "metadata": {
        "id": "tYFK2SJMtg11"
      },
      "execution_count": 3,
      "outputs": []
    },
    {
      "cell_type": "code",
      "source": [
        "newdftrain.head(7)"
      ],
      "metadata": {
        "id": "BDGRm-LO7v3-",
        "colab": {
          "base_uri": "https://localhost:8080/",
          "height": 406
        },
        "outputId": "f8ba6202-3213-45bd-b7d1-a98e29dc0c00"
      },
      "execution_count": null,
      "outputs": [
        {
          "output_type": "execute_result",
          "data": {
            "text/plain": [
              "   Unnamed: 0        Date  Customer_code Employee_index Country  Gender   Age  \\\n",
              "0           0  2015-01-28        1375586   Not Employee      ES    Male  35.0   \n",
              "1           1  2015-01-28        1050611   Not Employee      ES  Female  23.0   \n",
              "2           2  2015-01-28        1050612   Not Employee      ES  Female  23.0   \n",
              "3           3  2015-01-28        1050613   Not Employee      ES    Male  22.0   \n",
              "4           4  2015-01-28        1050614   Not Employee      ES  Female  23.0   \n",
              "5           5  2015-01-28        1050615   Not Employee      ES    Male  23.0   \n",
              "6           6  2015-01-28        1050616   Not Employee      ES    Male  23.0   \n",
              "\n",
              "  Customer_join_date  Customer_index  Customer_seniority  ...  Mortgage  \\\n",
              "0         2015-01-12             0.0                 6.0  ...         0   \n",
              "1         2012-08-10             0.0                35.0  ...         0   \n",
              "2         2012-08-10             0.0                35.0  ...         0   \n",
              "3         2012-08-10             0.0                35.0  ...         0   \n",
              "4         2012-08-10             0.0                35.0  ...         0   \n",
              "5         2012-08-10             0.0                35.0  ...         0   \n",
              "6         2012-08-10             0.0                35.0  ...         0   \n",
              "\n",
              "  Pensions Loans Taxes Credit_card Securities Home_account  Payroll  \\\n",
              "0        0     0     0           0          0            0      0.0   \n",
              "1        0     0     0           0          0            0      0.0   \n",
              "2        0     0     0           0          0            0      0.0   \n",
              "3        0     0     0           0          0            0      0.0   \n",
              "4        0     0     0           0          0            0      0.0   \n",
              "5        0     0     0           0          0            0      0.0   \n",
              "6        0     0     0           0          0            0      0.0   \n",
              "\n",
              "   Pensions_2  Direct_debit  \n",
              "0           0             0  \n",
              "1           0             0  \n",
              "2           0             0  \n",
              "3           0             0  \n",
              "4           0             0  \n",
              "5           0             0  \n",
              "6           0             0  \n",
              "\n",
              "[7 rows x 47 columns]"
            ],
            "text/html": [
              "\n",
              "  <div id=\"df-2f2dca5f-6da9-4e30-ae5d-89f1fd1d6622\">\n",
              "    <div class=\"colab-df-container\">\n",
              "      <div>\n",
              "<style scoped>\n",
              "    .dataframe tbody tr th:only-of-type {\n",
              "        vertical-align: middle;\n",
              "    }\n",
              "\n",
              "    .dataframe tbody tr th {\n",
              "        vertical-align: top;\n",
              "    }\n",
              "\n",
              "    .dataframe thead th {\n",
              "        text-align: right;\n",
              "    }\n",
              "</style>\n",
              "<table border=\"1\" class=\"dataframe\">\n",
              "  <thead>\n",
              "    <tr style=\"text-align: right;\">\n",
              "      <th></th>\n",
              "      <th>Unnamed: 0</th>\n",
              "      <th>Date</th>\n",
              "      <th>Customer_code</th>\n",
              "      <th>Employee_index</th>\n",
              "      <th>Country</th>\n",
              "      <th>Gender</th>\n",
              "      <th>Age</th>\n",
              "      <th>Customer_join_date</th>\n",
              "      <th>Customer_index</th>\n",
              "      <th>Customer_seniority</th>\n",
              "      <th>...</th>\n",
              "      <th>Mortgage</th>\n",
              "      <th>Pensions</th>\n",
              "      <th>Loans</th>\n",
              "      <th>Taxes</th>\n",
              "      <th>Credit_card</th>\n",
              "      <th>Securities</th>\n",
              "      <th>Home_account</th>\n",
              "      <th>Payroll</th>\n",
              "      <th>Pensions_2</th>\n",
              "      <th>Direct_debit</th>\n",
              "    </tr>\n",
              "  </thead>\n",
              "  <tbody>\n",
              "    <tr>\n",
              "      <th>0</th>\n",
              "      <td>0</td>\n",
              "      <td>2015-01-28</td>\n",
              "      <td>1375586</td>\n",
              "      <td>Not Employee</td>\n",
              "      <td>ES</td>\n",
              "      <td>Male</td>\n",
              "      <td>35.0</td>\n",
              "      <td>2015-01-12</td>\n",
              "      <td>0.0</td>\n",
              "      <td>6.0</td>\n",
              "      <td>...</td>\n",
              "      <td>0</td>\n",
              "      <td>0</td>\n",
              "      <td>0</td>\n",
              "      <td>0</td>\n",
              "      <td>0</td>\n",
              "      <td>0</td>\n",
              "      <td>0</td>\n",
              "      <td>0.0</td>\n",
              "      <td>0</td>\n",
              "      <td>0</td>\n",
              "    </tr>\n",
              "    <tr>\n",
              "      <th>1</th>\n",
              "      <td>1</td>\n",
              "      <td>2015-01-28</td>\n",
              "      <td>1050611</td>\n",
              "      <td>Not Employee</td>\n",
              "      <td>ES</td>\n",
              "      <td>Female</td>\n",
              "      <td>23.0</td>\n",
              "      <td>2012-08-10</td>\n",
              "      <td>0.0</td>\n",
              "      <td>35.0</td>\n",
              "      <td>...</td>\n",
              "      <td>0</td>\n",
              "      <td>0</td>\n",
              "      <td>0</td>\n",
              "      <td>0</td>\n",
              "      <td>0</td>\n",
              "      <td>0</td>\n",
              "      <td>0</td>\n",
              "      <td>0.0</td>\n",
              "      <td>0</td>\n",
              "      <td>0</td>\n",
              "    </tr>\n",
              "    <tr>\n",
              "      <th>2</th>\n",
              "      <td>2</td>\n",
              "      <td>2015-01-28</td>\n",
              "      <td>1050612</td>\n",
              "      <td>Not Employee</td>\n",
              "      <td>ES</td>\n",
              "      <td>Female</td>\n",
              "      <td>23.0</td>\n",
              "      <td>2012-08-10</td>\n",
              "      <td>0.0</td>\n",
              "      <td>35.0</td>\n",
              "      <td>...</td>\n",
              "      <td>0</td>\n",
              "      <td>0</td>\n",
              "      <td>0</td>\n",
              "      <td>0</td>\n",
              "      <td>0</td>\n",
              "      <td>0</td>\n",
              "      <td>0</td>\n",
              "      <td>0.0</td>\n",
              "      <td>0</td>\n",
              "      <td>0</td>\n",
              "    </tr>\n",
              "    <tr>\n",
              "      <th>3</th>\n",
              "      <td>3</td>\n",
              "      <td>2015-01-28</td>\n",
              "      <td>1050613</td>\n",
              "      <td>Not Employee</td>\n",
              "      <td>ES</td>\n",
              "      <td>Male</td>\n",
              "      <td>22.0</td>\n",
              "      <td>2012-08-10</td>\n",
              "      <td>0.0</td>\n",
              "      <td>35.0</td>\n",
              "      <td>...</td>\n",
              "      <td>0</td>\n",
              "      <td>0</td>\n",
              "      <td>0</td>\n",
              "      <td>0</td>\n",
              "      <td>0</td>\n",
              "      <td>0</td>\n",
              "      <td>0</td>\n",
              "      <td>0.0</td>\n",
              "      <td>0</td>\n",
              "      <td>0</td>\n",
              "    </tr>\n",
              "    <tr>\n",
              "      <th>4</th>\n",
              "      <td>4</td>\n",
              "      <td>2015-01-28</td>\n",
              "      <td>1050614</td>\n",
              "      <td>Not Employee</td>\n",
              "      <td>ES</td>\n",
              "      <td>Female</td>\n",
              "      <td>23.0</td>\n",
              "      <td>2012-08-10</td>\n",
              "      <td>0.0</td>\n",
              "      <td>35.0</td>\n",
              "      <td>...</td>\n",
              "      <td>0</td>\n",
              "      <td>0</td>\n",
              "      <td>0</td>\n",
              "      <td>0</td>\n",
              "      <td>0</td>\n",
              "      <td>0</td>\n",
              "      <td>0</td>\n",
              "      <td>0.0</td>\n",
              "      <td>0</td>\n",
              "      <td>0</td>\n",
              "    </tr>\n",
              "    <tr>\n",
              "      <th>5</th>\n",
              "      <td>5</td>\n",
              "      <td>2015-01-28</td>\n",
              "      <td>1050615</td>\n",
              "      <td>Not Employee</td>\n",
              "      <td>ES</td>\n",
              "      <td>Male</td>\n",
              "      <td>23.0</td>\n",
              "      <td>2012-08-10</td>\n",
              "      <td>0.0</td>\n",
              "      <td>35.0</td>\n",
              "      <td>...</td>\n",
              "      <td>0</td>\n",
              "      <td>0</td>\n",
              "      <td>0</td>\n",
              "      <td>0</td>\n",
              "      <td>0</td>\n",
              "      <td>0</td>\n",
              "      <td>0</td>\n",
              "      <td>0.0</td>\n",
              "      <td>0</td>\n",
              "      <td>0</td>\n",
              "    </tr>\n",
              "    <tr>\n",
              "      <th>6</th>\n",
              "      <td>6</td>\n",
              "      <td>2015-01-28</td>\n",
              "      <td>1050616</td>\n",
              "      <td>Not Employee</td>\n",
              "      <td>ES</td>\n",
              "      <td>Male</td>\n",
              "      <td>23.0</td>\n",
              "      <td>2012-08-10</td>\n",
              "      <td>0.0</td>\n",
              "      <td>35.0</td>\n",
              "      <td>...</td>\n",
              "      <td>0</td>\n",
              "      <td>0</td>\n",
              "      <td>0</td>\n",
              "      <td>0</td>\n",
              "      <td>0</td>\n",
              "      <td>0</td>\n",
              "      <td>0</td>\n",
              "      <td>0.0</td>\n",
              "      <td>0</td>\n",
              "      <td>0</td>\n",
              "    </tr>\n",
              "  </tbody>\n",
              "</table>\n",
              "<p>7 rows × 47 columns</p>\n",
              "</div>\n",
              "      <button class=\"colab-df-convert\" onclick=\"convertToInteractive('df-2f2dca5f-6da9-4e30-ae5d-89f1fd1d6622')\"\n",
              "              title=\"Convert this dataframe to an interactive table.\"\n",
              "              style=\"display:none;\">\n",
              "        \n",
              "  <svg xmlns=\"http://www.w3.org/2000/svg\" height=\"24px\"viewBox=\"0 0 24 24\"\n",
              "       width=\"24px\">\n",
              "    <path d=\"M0 0h24v24H0V0z\" fill=\"none\"/>\n",
              "    <path d=\"M18.56 5.44l.94 2.06.94-2.06 2.06-.94-2.06-.94-.94-2.06-.94 2.06-2.06.94zm-11 1L8.5 8.5l.94-2.06 2.06-.94-2.06-.94L8.5 2.5l-.94 2.06-2.06.94zm10 10l.94 2.06.94-2.06 2.06-.94-2.06-.94-.94-2.06-.94 2.06-2.06.94z\"/><path d=\"M17.41 7.96l-1.37-1.37c-.4-.4-.92-.59-1.43-.59-.52 0-1.04.2-1.43.59L10.3 9.45l-7.72 7.72c-.78.78-.78 2.05 0 2.83L4 21.41c.39.39.9.59 1.41.59.51 0 1.02-.2 1.41-.59l7.78-7.78 2.81-2.81c.8-.78.8-2.07 0-2.86zM5.41 20L4 18.59l7.72-7.72 1.47 1.35L5.41 20z\"/>\n",
              "  </svg>\n",
              "      </button>\n",
              "      \n",
              "  <style>\n",
              "    .colab-df-container {\n",
              "      display:flex;\n",
              "      flex-wrap:wrap;\n",
              "      gap: 12px;\n",
              "    }\n",
              "\n",
              "    .colab-df-convert {\n",
              "      background-color: #E8F0FE;\n",
              "      border: none;\n",
              "      border-radius: 50%;\n",
              "      cursor: pointer;\n",
              "      display: none;\n",
              "      fill: #1967D2;\n",
              "      height: 32px;\n",
              "      padding: 0 0 0 0;\n",
              "      width: 32px;\n",
              "    }\n",
              "\n",
              "    .colab-df-convert:hover {\n",
              "      background-color: #E2EBFA;\n",
              "      box-shadow: 0px 1px 2px rgba(60, 64, 67, 0.3), 0px 1px 3px 1px rgba(60, 64, 67, 0.15);\n",
              "      fill: #174EA6;\n",
              "    }\n",
              "\n",
              "    [theme=dark] .colab-df-convert {\n",
              "      background-color: #3B4455;\n",
              "      fill: #D2E3FC;\n",
              "    }\n",
              "\n",
              "    [theme=dark] .colab-df-convert:hover {\n",
              "      background-color: #434B5C;\n",
              "      box-shadow: 0px 1px 3px 1px rgba(0, 0, 0, 0.15);\n",
              "      filter: drop-shadow(0px 1px 2px rgba(0, 0, 0, 0.3));\n",
              "      fill: #FFFFFF;\n",
              "    }\n",
              "  </style>\n",
              "\n",
              "      <script>\n",
              "        const buttonEl =\n",
              "          document.querySelector('#df-2f2dca5f-6da9-4e30-ae5d-89f1fd1d6622 button.colab-df-convert');\n",
              "        buttonEl.style.display =\n",
              "          google.colab.kernel.accessAllowed ? 'block' : 'none';\n",
              "\n",
              "        async function convertToInteractive(key) {\n",
              "          const element = document.querySelector('#df-2f2dca5f-6da9-4e30-ae5d-89f1fd1d6622');\n",
              "          const dataTable =\n",
              "            await google.colab.kernel.invokeFunction('convertToInteractive',\n",
              "                                                     [key], {});\n",
              "          if (!dataTable) return;\n",
              "\n",
              "          const docLinkHtml = 'Like what you see? Visit the ' +\n",
              "            '<a target=\"_blank\" href=https://colab.research.google.com/notebooks/data_table.ipynb>data table notebook</a>'\n",
              "            + ' to learn more about interactive tables.';\n",
              "          element.innerHTML = '';\n",
              "          dataTable['output_type'] = 'display_data';\n",
              "          await google.colab.output.renderOutput(dataTable, element);\n",
              "          const docLink = document.createElement('div');\n",
              "          docLink.innerHTML = docLinkHtml;\n",
              "          element.appendChild(docLink);\n",
              "        }\n",
              "      </script>\n",
              "    </div>\n",
              "  </div>\n",
              "  "
            ]
          },
          "metadata": {},
          "execution_count": 14
        },
        {
          "output_type": "stream",
          "name": "stdout",
          "text": [
            "Warning: Total number of columns (47) exceeds max_columns (20) limiting to first (20) columns.\n"
          ]
        }
      ]
    },
    {
      "cell_type": "code",
      "source": [
        "newdftrain.info()"
      ],
      "metadata": {
        "id": "C7JtA2BYO-9t"
      },
      "execution_count": null,
      "outputs": []
    },
    {
      "cell_type": "markdown",
      "source": [
        "# Detecting Outliers and treating Outliers:"
      ],
      "metadata": {
        "id": "zr-0V-NpGKck"
      }
    },
    {
      "cell_type": "code",
      "source": [
        "# Univariate Visualization to see skewness:\n",
        "\n",
        "uv=newdftrain[['Age','Customer_index','Gross_income','Primary_Address','Guarantees','Customer_address','province_name','Payroll','Activity_index','Customer_code' ]].hist()\n",
        "plt.savefig('Univariate Visualizations.jpg')\n",
        "plt.figure(figsize=(6,4))\n",
        "plt.tight_layout()"
      ],
      "metadata": {
        "colab": {
          "base_uri": "https://localhost:8080/",
          "height": 502
        },
        "id": "p7hcaRo-TAxd",
        "outputId": "955830be-a1d5-4c22-dea6-8b2c3a0e4459"
      },
      "execution_count": null,
      "outputs": [
        {
          "output_type": "display_data",
          "data": {
            "text/plain": [
              "<Figure size 640x480 with 12 Axes>"
            ],
            "image/png": "[encoded data removed]"
          },
          "metadata": {}
        },
        {
          "output_type": "display_data",
          "data": {
            "text/plain": [
              "<Figure size 600x400 with 0 Axes>"
            ]
          },
          "metadata": {}
        }
      ]
    },
    {
      "cell_type": "code",
      "source": [
        "#Boxplots:"
      ],
      "metadata": {
        "id": "DuzgdO4mTAuK"
      },
      "execution_count": null,
      "outputs": []
    },
    {
      "cell_type": "code",
      "source": [
        "#Age:\n",
        "sns.boxplot(newdftrain['Age'])\n",
        "plt.show()"
      ],
      "metadata": {
        "colab": {
          "base_uri": "https://localhost:8080/",
          "height": 430
        },
        "id": "yRJLmJIxTAq4",
        "outputId": "50e75c28-a561-4b7a-f987-219768383a7a"
      },
      "execution_count": null,
      "outputs": [
        {
          "output_type": "display_data",
          "data": {
            "text/plain": [
              "<Figure size 640x480 with 1 Axes>"
            ],
            "image/png": "[encoded data removed]"
          },
          "metadata": {}
        }
      ]
    },
    {
      "cell_type": "code",
      "source": [
        "#Gross_income:\n",
        "sns.boxplot(newdftrain['Gross_income'])\n",
        "plt.show()"
      ],
      "metadata": {
        "colab": {
          "base_uri": "https://localhost:8080/",
          "height": 445
        },
        "id": "t8ZjOMNA23G_",
        "outputId": "6e7147b0-7e86-4155-bcc0-85498aa0b4c7"
      },
      "execution_count": null,
      "outputs": [
        {
          "output_type": "display_data",
          "data": {
            "text/plain": [
              "<Figure size 640x480 with 1 Axes>"
            ],
            "image/png": "[encoded data removed]"
          },
          "metadata": {}
        }
      ]
    },
    {
      "cell_type": "code",
      "source": [
        "#province_name:\n",
        "sns.boxplot(newdftrain['province_name'])\n",
        "plt.show()"
      ],
      "metadata": {
        "colab": {
          "base_uri": "https://localhost:8080/",
          "height": 430
        },
        "id": "OA3dBRMnE4Kg",
        "outputId": "31ea2b90-e365-4cf9-f320-e6b16b0f372b"
      },
      "execution_count": null,
      "outputs": [
        {
          "output_type": "display_data",
          "data": {
            "text/plain": [
              "<Figure size 640x480 with 1 Axes>"
            ],
            "image/png": "[encoded data removed]"
          },
          "metadata": {}
        }
      ]
    },
    {
      "cell_type": "code",
      "source": [
        "#Activity_index:\n",
        "sns.boxplot(newdftrain['Activity_index'])\n",
        "plt.show()"
      ],
      "metadata": {
        "colab": {
          "base_uri": "https://localhost:8080/",
          "height": 430
        },
        "id": "fLSQL5yRE95x",
        "outputId": "33a286c1-1d04-4f65-8ebd-aee13bff4c46"
      },
      "execution_count": null,
      "outputs": [
        {
          "output_type": "display_data",
          "data": {
            "text/plain": [
              "<Figure size 640x480 with 1 Axes>"
            ],
            "image/png": "[encoded data removed]"
          },
          "metadata": {}
        }
      ]
    },
    {
      "cell_type": "code",
      "source": [
        "#Customer_code:\n",
        "sns.boxplot(newdftrain['Customer_code'])\n",
        "plt.show()"
      ],
      "metadata": {
        "colab": {
          "base_uri": "https://localhost:8080/",
          "height": 445
        },
        "id": "jMngiEd6FNTm",
        "outputId": "ec4ec3ba-ca2f-4a01-e7d9-8221001a4398"
      },
      "execution_count": null,
      "outputs": [
        {
          "output_type": "display_data",
          "data": {
            "text/plain": [
              "<Figure size 640x480 with 1 Axes>"
            ],
            "image/png": "[encoded data removed]"
          },
          "metadata": {}
        }
      ]
    },
    {
      "cell_type": "code",
      "source": [
        "#Customer_seniority:\n",
        "sns.boxplot(newdftrain['Customer_seniority'])\n",
        "plt.show()"
      ],
      "metadata": {
        "colab": {
          "base_uri": "https://localhost:8080/",
          "height": 445
        },
        "id": "wns2tJze1jUh",
        "outputId": "2ea91a6c-2a42-4971-87cd-201b46097796"
      },
      "execution_count": null,
      "outputs": [
        {
          "output_type": "display_data",
          "data": {
            "text/plain": [
              "<Figure size 640x480 with 1 Axes>"
            ],
            "image/png": "[encoded data removed]"
          },
          "metadata": {}
        }
      ]
    },
    {
      "cell_type": "code",
      "source": [
        "#Customer_index:\n",
        "sns.boxplot(newdftrain['Customer_index'])\n",
        "plt.show()"
      ],
      "metadata": {
        "colab": {
          "base_uri": "https://localhost:8080/",
          "height": 430
        },
        "id": "O3DipEbLUfh3",
        "outputId": "1d60feb3-bb9d-4131-b98a-39b71bdd0cca"
      },
      "execution_count": null,
      "outputs": [
        {
          "output_type": "display_data",
          "data": {
            "text/plain": [
              "<Figure size 640x480 with 1 Axes>"
            ],
            "image/png": "[encoded data removed]"
          },
          "metadata": {}
        }
      ]
    },
    {
      "cell_type": "code",
      "source": [
        "#Primary_Address:\n",
        "sns.boxplot(newdftrain['Primary_Address'])\n",
        "plt.show()"
      ],
      "metadata": {
        "colab": {
          "base_uri": "https://localhost:8080/",
          "height": 430
        },
        "id": "NlbyHIRSUh-B",
        "outputId": "a569c5d2-a7e7-44ed-cd7d-5ba4c0e41c45"
      },
      "execution_count": null,
      "outputs": [
        {
          "output_type": "display_data",
          "data": {
            "text/plain": [
              "<Figure size 640x480 with 1 Axes>"
            ],
            "image/png": "[encoded data removed]"
          },
          "metadata": {}
        }
      ]
    },
    {
      "cell_type": "code",
      "source": [
        "#Guarantees:\n",
        "sns.boxplot(newdftrain['Guarantees'])\n",
        "plt.show()"
      ],
      "metadata": {
        "colab": {
          "base_uri": "https://localhost:8080/",
          "height": 430
        },
        "id": "LHZNmHP9Uh5O",
        "outputId": "372270d7-b275-40cf-cddc-cdaadcc868ac"
      },
      "execution_count": null,
      "outputs": [
        {
          "output_type": "display_data",
          "data": {
            "text/plain": [
              "<Figure size 640x480 with 1 Axes>"
            ],
            "image/png": "[encoded data removed]"
          },
          "metadata": {}
        }
      ]
    },
    {
      "cell_type": "code",
      "source": [
        "#Customer_address:\n",
        "sns.boxplot(newdftrain['Customer_address'])\n",
        "plt.show()"
      ],
      "metadata": {
        "colab": {
          "base_uri": "https://localhost:8080/",
          "height": 430
        },
        "id": "eJv8kW8oU6GU",
        "outputId": "5408bccd-81c2-4b86-d625-7a7dd1fe5f8c"
      },
      "execution_count": null,
      "outputs": [
        {
          "output_type": "display_data",
          "data": {
            "text/plain": [
              "<Figure size 640x480 with 1 Axes>"
            ],
            "image/png": "[encoded data removed]"
          },
          "metadata": {}
        }
      ]
    },
    {
      "cell_type": "code",
      "source": [
        "#Payroll:\n",
        "sns.boxplot(newdftrain['Payroll'])\n",
        "plt.show()"
      ],
      "metadata": {
        "colab": {
          "base_uri": "https://localhost:8080/",
          "height": 430
        },
        "id": "I4j7-ZntVFl0",
        "outputId": "5970c28b-f210-4908-f899-59e07d1c3425"
      },
      "execution_count": null,
      "outputs": [
        {
          "output_type": "display_data",
          "data": {
            "text/plain": [
              "<Figure size 640x480 with 1 Axes>"
            ],
            "image/png": "[encoded data removed]"
          },
          "metadata": {}
        }
      ]
    },
    {
      "cell_type": "code",
      "source": [
        "#Features with outliers:"
      ],
      "metadata": {
        "id": "-jp7EycBVFeW"
      },
      "execution_count": null,
      "outputs": []
    },
    {
      "cell_type": "code",
      "source": [
        "#Distplot for Age feature:\n",
        "\n",
        "plt.figure(figsize=(16,5))\n",
        "plt.subplot(1,2,1)\n",
        "sns.distplot(newdftrain['Age'])"
      ],
      "metadata": {
        "colab": {
          "base_uri": "https://localhost:8080/",
          "height": 482
        },
        "id": "N7dhsVHGFpAr",
        "outputId": "2f1067ec-fd61-4142-b588-8ff0de3f4dd5"
      },
      "execution_count": null,
      "outputs": [
        {
          "output_type": "execute_result",
          "data": {
            "text/plain": [
              "<Axes: xlabel='Age', ylabel='Density'>"
            ]
          },
          "metadata": {},
          "execution_count": 17
        },
        {
          "output_type": "display_data",
          "data": {
            "text/plain": [
              "<Figure size 1600x500 with 1 Axes>"
            ],
            "image/png": "[encoded data removed]"
          },
          "metadata": {}
        }
      ]
    },
    {
      "cell_type": "code",
      "source": [
        "#Finding the IQR:\n",
        "\n",
        "q1 = newdftrain['Age'].quantile(0.25)\n",
        "q3 = newdftrain['Age'].quantile(0.75)\n",
        "iqr=q3-q1\n",
        "iqr"
      ],
      "metadata": {
        "colab": {
          "base_uri": "https://localhost:8080/",
          "height": 235
        },
        "id": "uICgMvbt3Yvk",
        "outputId": "8e68b4ec-7c5e-4355-ed25-e69b50155a5e"
      },
      "execution_count": 1,
      "outputs": [
        {
          "output_type": "error",
          "ename": "NameError",
          "evalue": "ignored",
          "traceback": [
            "\u001b[0;31m---------------------------------------------------------------------------\u001b[0m",
            "\u001b[0;31mNameError\u001b[0m                                 Traceback (most recent call last)",
            "\u001b[0;32m<ipython-input-1-fbeac0d91e78>\u001b[0m in \u001b[0;36m<cell line: 3>\u001b[0;34m()\u001b[0m\n\u001b[1;32m      1\u001b[0m \u001b[0;31m#Finding the IQR:\u001b[0m\u001b[0;34m\u001b[0m\u001b[0;34m\u001b[0m\u001b[0m\n\u001b[1;32m      2\u001b[0m \u001b[0;34m\u001b[0m\u001b[0m\n\u001b[0;32m----> 3\u001b[0;31m \u001b[0mq1\u001b[0m \u001b[0;34m=\u001b[0m \u001b[0mnewdftrain\u001b[0m\u001b[0;34m[\u001b[0m\u001b[0;34m'Age'\u001b[0m\u001b[0;34m]\u001b[0m\u001b[0;34m.\u001b[0m\u001b[0mquantile\u001b[0m\u001b[0;34m(\u001b[0m\u001b[0;36m0.25\u001b[0m\u001b[0;34m)\u001b[0m\u001b[0;34m\u001b[0m\u001b[0;34m\u001b[0m\u001b[0m\n\u001b[0m\u001b[1;32m      4\u001b[0m \u001b[0mq3\u001b[0m \u001b[0;34m=\u001b[0m \u001b[0mnewdftrain\u001b[0m\u001b[0;34m[\u001b[0m\u001b[0;34m'Age'\u001b[0m\u001b[0;34m]\u001b[0m\u001b[0;34m.\u001b[0m\u001b[0mquantile\u001b[0m\u001b[0;34m(\u001b[0m\u001b[0;36m0.75\u001b[0m\u001b[0;34m)\u001b[0m\u001b[0;34m\u001b[0m\u001b[0;34m\u001b[0m\u001b[0m\n\u001b[1;32m      5\u001b[0m \u001b[0miqr\u001b[0m\u001b[0;34m=\u001b[0m\u001b[0mq3\u001b[0m\u001b[0;34m-\u001b[0m\u001b[0mq1\u001b[0m\u001b[0;34m\u001b[0m\u001b[0;34m\u001b[0m\u001b[0m\n",
            "\u001b[0;31mNameError\u001b[0m: name 'newdftrain' is not defined"
          ]
        }
      ]
    },
    {
      "cell_type": "code",
      "source": [
        "#Finding the upper and lower limits:\n",
        "\n",
        "upper_limit = q1 + 1.5 * iqr\n",
        "lower_limit = q3 - 1.5 * iqr"
      ],
      "metadata": {
        "id": "6PFqjzV47Sbh"
      },
      "execution_count": 9,
      "outputs": []
    },
    {
      "cell_type": "code",
      "source": [
        "#Finding outliers:\n",
        "\n",
        "newdftrain[newdftrain['Age'] > upper_limit]\n",
        "newdftrain[newdftrain['Age'] < lower_limit]"
      ],
      "metadata": {
        "id": "296oMZV_7hlo"
      },
      "execution_count": null,
      "outputs": []
    },
    {
      "cell_type": "code",
      "source": [
        "#Trimming the outliers:\n",
        "\n",
        "newdf=newdftrain[newdftrain['Age'] < upper_limit]\n",
        "newdf.shape"
      ],
      "metadata": {
        "id": "_15xKqRX3_C6",
        "colab": {
          "base_uri": "https://localhost:8080/"
        },
        "outputId": "712bf684-df45-48e5-d015-ed70a3dd6e6a"
      },
      "execution_count": null,
      "outputs": [
        {
          "output_type": "execute_result",
          "data": {
            "text/plain": [
              "(12121611, 47)"
            ]
          },
          "metadata": {},
          "execution_count": 7
        }
      ]
    },
    {
      "cell_type": "code",
      "source": [
        "#Compare Plots after Trimming outliers:\n",
        "\n",
        "plt.figure(figsize=(16,8))\n",
        "plt.subplot(2,2,1)\n",
        "sns.distplot(newdftrain['Age'])\n",
        "plt.subplot(2,2,2)\n",
        "sns.boxplot(newdftrain['Age'])\n",
        "plt.subplot(2,2,3)\n",
        "sns.distplot(newdf['Age'])\n",
        "plt.subplot(2,2,4)\n",
        "sns.boxplot(newdf['Age'])\n",
        "plt.show()\n"
      ],
      "metadata": {
        "colab": {
          "base_uri": "https://localhost:8080/",
          "height": 696
        },
        "id": "TPq0qzSk0PKi",
        "outputId": "7b5f75a4-e4fc-4b38-a336-3acd110b2060"
      },
      "execution_count": null,
      "outputs": [
        {
          "output_type": "display_data",
          "data": {
            "text/plain": [
              "<Figure size 1600x800 with 4 Axes>"
            ],
            "image/png": "[encoded data removed]"
          },
          "metadata": {}
        }
      ]
    },
    {
      "cell_type": "code",
      "source": [
        "#Capping:\n",
        "#print upper and lower limits:\n",
        "print('lower limit: ', lower_limit)\n",
        "print('upper limit: ', upper_limit)\n",
        "print('IQR:' , iqr)"
      ],
      "metadata": {
        "colab": {
          "base_uri": "https://localhost:8080/"
        },
        "id": "De8IqpF1Qyp_",
        "outputId": "064d5a5b-d83c-460b-8839-a27bb3e31032"
      },
      "execution_count": null,
      "outputs": [
        {
          "output_type": "stream",
          "name": "stdout",
          "text": [
            "lower limit:  11.0\n",
            "upper limit:  63.0\n",
            "IQR: 26.0\n"
          ]
        }
      ]
    },
    {
      "cell_type": "code",
      "source": [
        "#upper_limit = 63.0\n",
        "#lower_limit = 11.0\n",
        "newdfcap=newdf.copy()\n",
        "newdfcap['Age'] = np.where(newdfcap['Age'] > upper_limit,upper_limit, newdfcap['Age'])\n",
        "newdfcap['Age']=np.where(newdfcap['Age'] < lower_limit,lower_limit,newdfcap['Age'])\n"
      ],
      "metadata": {
        "id": "MpDZX7dHQy-N"
      },
      "execution_count": null,
      "outputs": []
    },
    {
      "cell_type": "code",
      "source": [
        "newdfcap['Age'].max()"
      ],
      "metadata": {
        "colab": {
          "base_uri": "https://localhost:8080/"
        },
        "id": "U0jKLi-YWV77",
        "outputId": "d50b70c4-6b5a-4343-ad9a-3642ae2cd5a0"
      },
      "execution_count": null,
      "outputs": [
        {
          "output_type": "execute_result",
          "data": {
            "text/plain": [
              "63.0"
            ]
          },
          "metadata": {},
          "execution_count": 11
        }
      ]
    },
    {
      "cell_type": "code",
      "source": [
        "newdfcap['Age'].min()"
      ],
      "metadata": {
        "colab": {
          "base_uri": "https://localhost:8080/"
        },
        "id": "BkxxcKzyWXOo",
        "outputId": "c3e437f5-42a6-446d-cf85-3dd232b6e706"
      },
      "execution_count": null,
      "outputs": [
        {
          "output_type": "execute_result",
          "data": {
            "text/plain": [
              "11.0"
            ]
          },
          "metadata": {},
          "execution_count": 12
        }
      ]
    },
    {
      "cell_type": "code",
      "source": [
        "plt.figure(figsize=(16,5))\n",
        "plt.subplot(2,2,1)\n",
        "sns.distplot(newdftrain['Age'])\n",
        "plt.subplot(2,2,2)\n",
        "sns.boxplot(newdftrain['Age'])\n",
        "plt.subplot(2,2,3)\n",
        "sns.distplot(newdfcap['Age'])\n",
        "plt.subplot(2,2,4)\n",
        "sns.boxplot(newdfcap['Age'])\n"
      ],
      "metadata": {
        "id": "i_VZ1yk8XYR7"
      },
      "execution_count": null,
      "outputs": []
    },
    {
      "cell_type": "code",
      "source": [
        "#Distplot for Gross_income feature:\n",
        "\n",
        "plt.figure(figsize=(16,5))\n",
        "plt.subplot(1,2,1)\n",
        "sns.distplot(newdftrain['Gross_income'])"
      ],
      "metadata": {
        "colab": {
          "base_uri": "https://localhost:8080/",
          "height": 497
        },
        "id": "pIW3N8SolIBU",
        "outputId": "821dfab9-f63b-4bef-d3ba-8030fc99caae"
      },
      "execution_count": null,
      "outputs": [
        {
          "output_type": "execute_result",
          "data": {
            "text/plain": [
              "<Axes: xlabel='Gross_income', ylabel='Density'>"
            ]
          },
          "metadata": {},
          "execution_count": 18
        },
        {
          "output_type": "display_data",
          "data": {
            "text/plain": [
              "<Figure size 1600x500 with 1 Axes>"
            ],
            "image/png": "[encoded data removed]"
          },
          "metadata": {}
        }
      ]
    },
    {
      "cell_type": "code",
      "source": [
        "#Find IQR:\n",
        "q1 = newdftrain['Gross_income'].quantile(0.25)\n",
        "q3 = newdftrain['Gross_income'].quantile(0.75)\n",
        "iqr=q3-q1\n",
        "iqr"
      ],
      "metadata": {
        "colab": {
          "base_uri": "https://localhost:8080/"
        },
        "id": "51H2NYFH43bd",
        "outputId": "b197c025-20bb-409f-8cb2-c7d4ac5259db"
      },
      "execution_count": 4,
      "outputs": [
        {
          "output_type": "execute_result",
          "data": {
            "text/plain": [
              "61014.93000000002"
            ]
          },
          "metadata": {},
          "execution_count": 4
        }
      ]
    },
    {
      "cell_type": "code",
      "source": [
        "#Find upper and lower limits:\n",
        "\n",
        "upper_limit = q1 + 1.5 * iqr\n",
        "lower_limit = q3 - 1.5 * iqr"
      ],
      "metadata": {
        "id": "eZ-bvx7U43YU"
      },
      "execution_count": 5,
      "outputs": []
    },
    {
      "cell_type": "code",
      "source": [
        "#Finding the outliers:\n",
        "newdftrain[newdftrain['Gross_income'] > upper_limit]\n",
        "newdftrain[newdftrain['Gross_income'] < lower_limit]"
      ],
      "metadata": {
        "id": "SXuq8dTW43UF",
        "colab": {
          "base_uri": "https://localhost:8080/",
          "height": 679
        },
        "outputId": "229455fe-6f9d-43c0-8e9b-170262196098"
      },
      "execution_count": 6,
      "outputs": [
        {
          "output_type": "execute_result",
          "data": {
            "text/plain": [
              "          Unnamed: 0        Date  Customer_code Employee_index Country  \\\n",
              "1                  1  2015-01-28        1050611   Not Employee      ES   \n",
              "5                  5  2015-01-28        1050615   Not Employee      ES   \n",
              "44                44  2015-01-28        1050686   Not Employee      ES   \n",
              "59                59  2015-01-28        1050633   Not Employee      ES   \n",
              "64                64  2015-01-28        1050641   Not Employee      ES   \n",
              "...              ...         ...            ...            ...     ...   \n",
              "13647242    13647242  2016-05-28        1166827   Not Employee      ES   \n",
              "13647244    13647244  2016-05-28        1166825   Not Employee      ES   \n",
              "13647269    13647269  2016-05-28        1166741   Not Employee      ES   \n",
              "13647304    13647304  2016-05-28        1166765   Not Employee      ES   \n",
              "13647305    13647305  2016-05-28        1166764   Not Employee      ES   \n",
              "\n",
              "          Gender   Age Customer_join_date  Customer_index  Customer_seniority  \\\n",
              "1         Female  23.0         2012-08-10             0.0                35.0   \n",
              "5           Male  23.0         2012-08-10             0.0                35.0   \n",
              "44        Female  39.0         2012-08-10             0.0                35.0   \n",
              "59        Female  23.0         2012-08-10             0.0                35.0   \n",
              "64        Female  42.0         2012-08-10             0.0                35.0   \n",
              "...          ...   ...                ...             ...                 ...   \n",
              "13647242    Male  23.0         2013-08-14             0.0                33.0   \n",
              "13647244  Female  23.0         2013-08-14             0.0                33.0   \n",
              "13647269    Male  22.0         2013-08-14             0.0                33.0   \n",
              "13647304  Female  22.0         2013-08-14             0.0                33.0   \n",
              "13647305  Female  23.0         2013-08-14             0.0                33.0   \n",
              "\n",
              "          ...  Mortgage Pensions Loans Taxes Credit_card Securities  \\\n",
              "1         ...         0        0     0     0           0          0   \n",
              "5         ...         0        0     0     0           0          0   \n",
              "44        ...         0        0     0     0           0          0   \n",
              "59        ...         0        0     0     0           0          0   \n",
              "64        ...         0        0     0     0           0          0   \n",
              "...       ...       ...      ...   ...   ...         ...        ...   \n",
              "13647242  ...         0        0     0     0           0          0   \n",
              "13647244  ...         0        0     0     0           0          0   \n",
              "13647269  ...         0        0     0     0           0          0   \n",
              "13647304  ...         0        0     0     0           0          0   \n",
              "13647305  ...         0        0     0     0           0          0   \n",
              "\n",
              "         Home_account  Payroll  Pensions_2  Direct_debit  \n",
              "1                   0      0.0           0             0  \n",
              "5                   0      0.0           0             0  \n",
              "44                  0      0.0           0             1  \n",
              "59                  0      0.0           0             0  \n",
              "64                  0      0.0           0             0  \n",
              "...               ...      ...         ...           ...  \n",
              "13647242            0      0.0           0             0  \n",
              "13647244            0      0.0           0             0  \n",
              "13647269            0      0.0           0             0  \n",
              "13647304            0      0.0           0             0  \n",
              "13647305            0      0.0           0             0  \n",
              "\n",
              "[873519 rows x 47 columns]"
            ],
            "text/html": [
              "\n",
              "  <div id=\"df-7dd6465e-a01a-424d-81a4-db6a45666c8e\">\n",
              "    <div class=\"colab-df-container\">\n",
              "      <div>\n",
              "<style scoped>\n",
              "    .dataframe tbody tr th:only-of-type {\n",
              "        vertical-align: middle;\n",
              "    }\n",
              "\n",
              "    .dataframe tbody tr th {\n",
              "        vertical-align: top;\n",
              "    }\n",
              "\n",
              "    .dataframe thead th {\n",
              "        text-align: right;\n",
              "    }\n",
              "</style>\n",
              "<table border=\"1\" class=\"dataframe\">\n",
              "  <thead>\n",
              "    <tr style=\"text-align: right;\">\n",
              "      <th></th>\n",
              "      <th>Unnamed: 0</th>\n",
              "      <th>Date</th>\n",
              "      <th>Customer_code</th>\n",
              "      <th>Employee_index</th>\n",
              "      <th>Country</th>\n",
              "      <th>Gender</th>\n",
              "      <th>Age</th>\n",
              "      <th>Customer_join_date</th>\n",
              "      <th>Customer_index</th>\n",
              "      <th>Customer_seniority</th>\n",
              "      <th>...</th>\n",
              "      <th>Mortgage</th>\n",
              "      <th>Pensions</th>\n",
              "      <th>Loans</th>\n",
              "      <th>Taxes</th>\n",
              "      <th>Credit_card</th>\n",
              "      <th>Securities</th>\n",
              "      <th>Home_account</th>\n",
              "      <th>Payroll</th>\n",
              "      <th>Pensions_2</th>\n",
              "      <th>Direct_debit</th>\n",
              "    </tr>\n",
              "  </thead>\n",
              "  <tbody>\n",
              "    <tr>\n",
              "      <th>1</th>\n",
              "      <td>1</td>\n",
              "      <td>2015-01-28</td>\n",
              "      <td>1050611</td>\n",
              "      <td>Not Employee</td>\n",
              "      <td>ES</td>\n",
              "      <td>Female</td>\n",
              "      <td>23.0</td>\n",
              "      <td>2012-08-10</td>\n",
              "      <td>0.0</td>\n",
              "      <td>35.0</td>\n",
              "      <td>...</td>\n",
              "      <td>0</td>\n",
              "      <td>0</td>\n",
              "      <td>0</td>\n",
              "      <td>0</td>\n",
              "      <td>0</td>\n",
              "      <td>0</td>\n",
              "      <td>0</td>\n",
              "      <td>0.0</td>\n",
              "      <td>0</td>\n",
              "      <td>0</td>\n",
              "    </tr>\n",
              "    <tr>\n",
              "      <th>5</th>\n",
              "      <td>5</td>\n",
              "      <td>2015-01-28</td>\n",
              "      <td>1050615</td>\n",
              "      <td>Not Employee</td>\n",
              "      <td>ES</td>\n",
              "      <td>Male</td>\n",
              "      <td>23.0</td>\n",
              "      <td>2012-08-10</td>\n",
              "      <td>0.0</td>\n",
              "      <td>35.0</td>\n",
              "      <td>...</td>\n",
              "      <td>0</td>\n",
              "      <td>0</td>\n",
              "      <td>0</td>\n",
              "      <td>0</td>\n",
              "      <td>0</td>\n",
              "      <td>0</td>\n",
              "      <td>0</td>\n",
              "      <td>0.0</td>\n",
              "      <td>0</td>\n",
              "      <td>0</td>\n",
              "    </tr>\n",
              "    <tr>\n",
              "      <th>44</th>\n",
              "      <td>44</td>\n",
              "      <td>2015-01-28</td>\n",
              "      <td>1050686</td>\n",
              "      <td>Not Employee</td>\n",
              "      <td>ES</td>\n",
              "      <td>Female</td>\n",
              "      <td>39.0</td>\n",
              "      <td>2012-08-10</td>\n",
              "      <td>0.0</td>\n",
              "      <td>35.0</td>\n",
              "      <td>...</td>\n",
              "      <td>0</td>\n",
              "      <td>0</td>\n",
              "      <td>0</td>\n",
              "      <td>0</td>\n",
              "      <td>0</td>\n",
              "      <td>0</td>\n",
              "      <td>0</td>\n",
              "      <td>0.0</td>\n",
              "      <td>0</td>\n",
              "      <td>1</td>\n",
              "    </tr>\n",
              "    <tr>\n",
              "      <th>59</th>\n",
              "      <td>59</td>\n",
              "      <td>2015-01-28</td>\n",
              "      <td>1050633</td>\n",
              "      <td>Not Employee</td>\n",
              "      <td>ES</td>\n",
              "      <td>Female</td>\n",
              "      <td>23.0</td>\n",
              "      <td>2012-08-10</td>\n",
              "      <td>0.0</td>\n",
              "      <td>35.0</td>\n",
              "      <td>...</td>\n",
              "      <td>0</td>\n",
              "      <td>0</td>\n",
              "      <td>0</td>\n",
              "      <td>0</td>\n",
              "      <td>0</td>\n",
              "      <td>0</td>\n",
              "      <td>0</td>\n",
              "      <td>0.0</td>\n",
              "      <td>0</td>\n",
              "      <td>0</td>\n",
              "    </tr>\n",
              "    <tr>\n",
              "      <th>64</th>\n",
              "      <td>64</td>\n",
              "      <td>2015-01-28</td>\n",
              "      <td>1050641</td>\n",
              "      <td>Not Employee</td>\n",
              "      <td>ES</td>\n",
              "      <td>Female</td>\n",
              "      <td>42.0</td>\n",
              "      <td>2012-08-10</td>\n",
              "      <td>0.0</td>\n",
              "      <td>35.0</td>\n",
              "      <td>...</td>\n",
              "      <td>0</td>\n",
              "      <td>0</td>\n",
              "      <td>0</td>\n",
              "      <td>0</td>\n",
              "      <td>0</td>\n",
              "      <td>0</td>\n",
              "      <td>0</td>\n",
              "      <td>0.0</td>\n",
              "      <td>0</td>\n",
              "      <td>0</td>\n",
              "    </tr>\n",
              "    <tr>\n",
              "      <th>...</th>\n",
              "      <td>...</td>\n",
              "      <td>...</td>\n",
              "      <td>...</td>\n",
              "      <td>...</td>\n",
              "      <td>...</td>\n",
              "      <td>...</td>\n",
              "      <td>...</td>\n",
              "      <td>...</td>\n",
              "      <td>...</td>\n",
              "      <td>...</td>\n",
              "      <td>...</td>\n",
              "      <td>...</td>\n",
              "      <td>...</td>\n",
              "      <td>...</td>\n",
              "      <td>...</td>\n",
              "      <td>...</td>\n",
              "      <td>...</td>\n",
              "      <td>...</td>\n",
              "      <td>...</td>\n",
              "      <td>...</td>\n",
              "      <td>...</td>\n",
              "    </tr>\n",
              "    <tr>\n",
              "      <th>13647242</th>\n",
              "      <td>13647242</td>\n",
              "      <td>2016-05-28</td>\n",
              "      <td>1166827</td>\n",
              "      <td>Not Employee</td>\n",
              "      <td>ES</td>\n",
              "      <td>Male</td>\n",
              "      <td>23.0</td>\n",
              "      <td>2013-08-14</td>\n",
              "      <td>0.0</td>\n",
              "      <td>33.0</td>\n",
              "      <td>...</td>\n",
              "      <td>0</td>\n",
              "      <td>0</td>\n",
              "      <td>0</td>\n",
              "      <td>0</td>\n",
              "      <td>0</td>\n",
              "      <td>0</td>\n",
              "      <td>0</td>\n",
              "      <td>0.0</td>\n",
              "      <td>0</td>\n",
              "      <td>0</td>\n",
              "    </tr>\n",
              "    <tr>\n",
              "      <th>13647244</th>\n",
              "      <td>13647244</td>\n",
              "      <td>2016-05-28</td>\n",
              "      <td>1166825</td>\n",
              "      <td>Not Employee</td>\n",
              "      <td>ES</td>\n",
              "      <td>Female</td>\n",
              "      <td>23.0</td>\n",
              "      <td>2013-08-14</td>\n",
              "      <td>0.0</td>\n",
              "      <td>33.0</td>\n",
              "      <td>...</td>\n",
              "      <td>0</td>\n",
              "      <td>0</td>\n",
              "      <td>0</td>\n",
              "      <td>0</td>\n",
              "      <td>0</td>\n",
              "      <td>0</td>\n",
              "      <td>0</td>\n",
              "      <td>0.0</td>\n",
              "      <td>0</td>\n",
              "      <td>0</td>\n",
              "    </tr>\n",
              "    <tr>\n",
              "      <th>13647269</th>\n",
              "      <td>13647269</td>\n",
              "      <td>2016-05-28</td>\n",
              "      <td>1166741</td>\n",
              "      <td>Not Employee</td>\n",
              "      <td>ES</td>\n",
              "      <td>Male</td>\n",
              "      <td>22.0</td>\n",
              "      <td>2013-08-14</td>\n",
              "      <td>0.0</td>\n",
              "      <td>33.0</td>\n",
              "      <td>...</td>\n",
              "      <td>0</td>\n",
              "      <td>0</td>\n",
              "      <td>0</td>\n",
              "      <td>0</td>\n",
              "      <td>0</td>\n",
              "      <td>0</td>\n",
              "      <td>0</td>\n",
              "      <td>0.0</td>\n",
              "      <td>0</td>\n",
              "      <td>0</td>\n",
              "    </tr>\n",
              "    <tr>\n",
              "      <th>13647304</th>\n",
              "      <td>13647304</td>\n",
              "      <td>2016-05-28</td>\n",
              "      <td>1166765</td>\n",
              "      <td>Not Employee</td>\n",
              "      <td>ES</td>\n",
              "      <td>Female</td>\n",
              "      <td>22.0</td>\n",
              "      <td>2013-08-14</td>\n",
              "      <td>0.0</td>\n",
              "      <td>33.0</td>\n",
              "      <td>...</td>\n",
              "      <td>0</td>\n",
              "      <td>0</td>\n",
              "      <td>0</td>\n",
              "      <td>0</td>\n",
              "      <td>0</td>\n",
              "      <td>0</td>\n",
              "      <td>0</td>\n",
              "      <td>0.0</td>\n",
              "      <td>0</td>\n",
              "      <td>0</td>\n",
              "    </tr>\n",
              "    <tr>\n",
              "      <th>13647305</th>\n",
              "      <td>13647305</td>\n",
              "      <td>2016-05-28</td>\n",
              "      <td>1166764</td>\n",
              "      <td>Not Employee</td>\n",
              "      <td>ES</td>\n",
              "      <td>Female</td>\n",
              "      <td>23.0</td>\n",
              "      <td>2013-08-14</td>\n",
              "      <td>0.0</td>\n",
              "      <td>33.0</td>\n",
              "      <td>...</td>\n",
              "      <td>0</td>\n",
              "      <td>0</td>\n",
              "      <td>0</td>\n",
              "      <td>0</td>\n",
              "      <td>0</td>\n",
              "      <td>0</td>\n",
              "      <td>0</td>\n",
              "      <td>0.0</td>\n",
              "      <td>0</td>\n",
              "      <td>0</td>\n",
              "    </tr>\n",
              "  </tbody>\n",
              "</table>\n",
              "<p>873519 rows × 47 columns</p>\n",
              "</div>\n",
              "      <button class=\"colab-df-convert\" onclick=\"convertToInteractive('df-7dd6465e-a01a-424d-81a4-db6a45666c8e')\"\n",
              "              title=\"Convert this dataframe to an interactive table.\"\n",
              "              style=\"display:none;\">\n",
              "        \n",
              "  <svg xmlns=\"http://www.w3.org/2000/svg\" height=\"24px\"viewBox=\"0 0 24 24\"\n",
              "       width=\"24px\">\n",
              "    <path d=\"M0 0h24v24H0V0z\" fill=\"none\"/>\n",
              "    <path d=\"M18.56 5.44l.94 2.06.94-2.06 2.06-.94-2.06-.94-.94-2.06-.94 2.06-2.06.94zm-11 1L8.5 8.5l.94-2.06 2.06-.94-2.06-.94L8.5 2.5l-.94 2.06-2.06.94zm10 10l.94 2.06.94-2.06 2.06-.94-2.06-.94-.94-2.06-.94 2.06-2.06.94z\"/><path d=\"M17.41 7.96l-1.37-1.37c-.4-.4-.92-.59-1.43-.59-.52 0-1.04.2-1.43.59L10.3 9.45l-7.72 7.72c-.78.78-.78 2.05 0 2.83L4 21.41c.39.39.9.59 1.41.59.51 0 1.02-.2 1.41-.59l7.78-7.78 2.81-2.81c.8-.78.8-2.07 0-2.86zM5.41 20L4 18.59l7.72-7.72 1.47 1.35L5.41 20z\"/>\n",
              "  </svg>\n",
              "      </button>\n",
              "      \n",
              "  <style>\n",
              "    .colab-df-container {\n",
              "      display:flex;\n",
              "      flex-wrap:wrap;\n",
              "      gap: 12px;\n",
              "    }\n",
              "\n",
              "    .colab-df-convert {\n",
              "      background-color: #E8F0FE;\n",
              "      border: none;\n",
              "      border-radius: 50%;\n",
              "      cursor: pointer;\n",
              "      display: none;\n",
              "      fill: #1967D2;\n",
              "      height: 32px;\n",
              "      padding: 0 0 0 0;\n",
              "      width: 32px;\n",
              "    }\n",
              "\n",
              "    .colab-df-convert:hover {\n",
              "      background-color: #E2EBFA;\n",
              "      box-shadow: 0px 1px 2px rgba(60, 64, 67, 0.3), 0px 1px 3px 1px rgba(60, 64, 67, 0.15);\n",
              "      fill: #174EA6;\n",
              "    }\n",
              "\n",
              "    [theme=dark] .colab-df-convert {\n",
              "      background-color: #3B4455;\n",
              "      fill: #D2E3FC;\n",
              "    }\n",
              "\n",
              "    [theme=dark] .colab-df-convert:hover {\n",
              "      background-color: #434B5C;\n",
              "      box-shadow: 0px 1px 3px 1px rgba(0, 0, 0, 0.15);\n",
              "      filter: drop-shadow(0px 1px 2px rgba(0, 0, 0, 0.3));\n",
              "      fill: #FFFFFF;\n",
              "    }\n",
              "  </style>\n",
              "\n",
              "      <script>\n",
              "        const buttonEl =\n",
              "          document.querySelector('#df-7dd6465e-a01a-424d-81a4-db6a45666c8e button.colab-df-convert');\n",
              "        buttonEl.style.display =\n",
              "          google.colab.kernel.accessAllowed ? 'block' : 'none';\n",
              "\n",
              "        async function convertToInteractive(key) {\n",
              "          const element = document.querySelector('#df-7dd6465e-a01a-424d-81a4-db6a45666c8e');\n",
              "          const dataTable =\n",
              "            await google.colab.kernel.invokeFunction('convertToInteractive',\n",
              "                                                     [key], {});\n",
              "          if (!dataTable) return;\n",
              "\n",
              "          const docLinkHtml = 'Like what you see? Visit the ' +\n",
              "            '<a target=\"_blank\" href=https://colab.research.google.com/notebooks/data_table.ipynb>data table notebook</a>'\n",
              "            + ' to learn more about interactive tables.';\n",
              "          element.innerHTML = '';\n",
              "          dataTable['output_type'] = 'display_data';\n",
              "          await google.colab.output.renderOutput(dataTable, element);\n",
              "          const docLink = document.createElement('div');\n",
              "          docLink.innerHTML = docLinkHtml;\n",
              "          element.appendChild(docLink);\n",
              "        }\n",
              "      </script>\n",
              "    </div>\n",
              "  </div>\n",
              "  "
            ]
          },
          "metadata": {},
          "execution_count": 6
        }
      ]
    },
    {
      "cell_type": "code",
      "source": [
        "#Trimming the outliers:\n",
        "newdf=newdftrain[newdftrain['Gross_income'] < upper_limit]\n",
        "newdf.shape"
      ],
      "metadata": {
        "id": "qe0MNdr743Qm",
        "colab": {
          "base_uri": "https://localhost:8080/"
        },
        "outputId": "c8720e22-b9e7-46ca-87ba-0d9893bb0236"
      },
      "execution_count": 7,
      "outputs": [
        {
          "output_type": "execute_result",
          "data": {
            "text/plain": [
              "(11295181, 47)"
            ]
          },
          "metadata": {},
          "execution_count": 7
        }
      ]
    },
    {
      "cell_type": "code",
      "source": [
        "#Compare Plots after trimming outliers:\n",
        "\n",
        "plt.figure(figsize=(16,8))\n",
        "plt.subplot(2,2,1)\n",
        "sns.distplot(newdftrain['Gross_income'])\n",
        "plt.subplot(2,2,2)\n",
        "sns.boxplot(newdftrain['Gross_income'])\n",
        "plt.subplot(2,2,3)\n",
        "sns.distplot(newdf['Gross_income'])\n",
        "plt.subplot(2,2,4)\n",
        "sns.boxplot(newdf['Gross_income'])\n",
        "plt.show()\n"
      ],
      "metadata": {
        "colab": {
          "base_uri": "https://localhost:8080/",
          "height": 711
        },
        "id": "QLCErg8G43NQ",
        "outputId": "bc35f5de-eea4-4c3d-ad92-3dbfcebe1b59"
      },
      "execution_count": null,
      "outputs": [
        {
          "output_type": "display_data",
          "data": {
            "text/plain": [
              "<Figure size 1600x800 with 4 Axes>"
            ],
            "image/png": "[encoded data removed]"
          },
          "metadata": {}
        }
      ]
    },
    {
      "cell_type": "code",
      "source": [
        "#Capping:\n",
        "#print upper and lower limits:\n",
        "print('lower limit: ', lower_limit)\n",
        "print('upper limit: ', upper_limit)\n",
        "print('IQR:' , iqr)"
      ],
      "metadata": {
        "colab": {
          "base_uri": "https://localhost:8080/"
        },
        "id": "Go_vdiOV43ZO",
        "outputId": "69aaf991-73cc-4a56-d275-3b46fa731343"
      },
      "execution_count": null,
      "outputs": [
        {
          "output_type": "stream",
          "name": "stdout",
          "text": [
            "lower limit:  45929.68499999998\n",
            "upper limit:  167959.54500000004\n",
            "IQR: 61014.93000000002\n"
          ]
        }
      ]
    },
    {
      "cell_type": "code",
      "source": [
        "newdfcap=newdf.copy()\n",
        "newdfcap['Gross_income'] = np.where(newdfcap['Gross_income'] > upper_limit,upper_limit, newdfcap['Gross_income'])\n",
        "newdfcap['Gross_income']=np.where(newdfcap['Gross_income'] < lower_limit,lower_limit,newdfcap['Gross_income'])"
      ],
      "metadata": {
        "id": "zxEl4zkp43GS"
      },
      "execution_count": null,
      "outputs": []
    },
    {
      "cell_type": "code",
      "source": [],
      "metadata": {
        "id": "PHgx15JN5GZo"
      },
      "execution_count": null,
      "outputs": []
    },
    {
      "cell_type": "code",
      "source": [
        "# Distplot for Customer_seniority:\n",
        "\n",
        "\n",
        "plt.figure(figsize=(16,5))\n",
        "plt.subplot(1,2,1)\n",
        "sns.distplot(newdftrain['Customer_seniority'])\n"
      ],
      "metadata": {
        "colab": {
          "base_uri": "https://localhost:8080/",
          "height": 497
        },
        "id": "1Vs6mwVi43JC",
        "outputId": "eec1fb5c-24e4-4f65-df78-acb4e5c1b362"
      },
      "execution_count": null,
      "outputs": [
        {
          "output_type": "execute_result",
          "data": {
            "text/plain": [
              "<Axes: xlabel='Customer_seniority', ylabel='Density'>"
            ]
          },
          "metadata": {},
          "execution_count": 18
        },
        {
          "output_type": "display_data",
          "data": {
            "text/plain": [
              "<Figure size 1600x500 with 1 Axes>"
            ],
            "image/png": "[encoded data removed]"
          },
          "metadata": {}
        }
      ]
    },
    {
      "cell_type": "code",
      "execution_count": null,
      "metadata": {
        "id": "S9GoPaLX2wEG",
        "colab": {
          "base_uri": "https://localhost:8080/"
        },
        "outputId": "fb89a26f-ea99-4c4b-b773-adbc5af87ba4"
      },
      "outputs": [
        {
          "output_type": "execute_result",
          "data": {
            "text/plain": [
              "112.0"
            ]
          },
          "metadata": {},
          "execution_count": 12
        }
      ],
      "source": [
        "#Find the IQR:\n",
        "q1 = newdftrain['Customer_seniority'].quantile(0.25)\n",
        "q3 = newdftrain['Customer_seniority'].quantile(0.75)\n",
        "iqr=q3-q1\n",
        "iqr"
      ]
    },
    {
      "cell_type": "code",
      "source": [
        "# Find upper and lower limits:\n",
        "upper_limit = q1 + 1.5 * iqr\n",
        "lower_limit = q3 - 1.5 * iqr"
      ],
      "metadata": {
        "id": "8aTkT9TmBfz4"
      },
      "execution_count": null,
      "outputs": []
    },
    {
      "cell_type": "code",
      "source": [
        "#Find outliers:\n",
        "newdftrain[newdftrain['Customer_seniority'] > upper_limit]\n",
        "newdftrain[newdftrain['Customer_seniority'] < lower_limit]"
      ],
      "metadata": {
        "colab": {
          "base_uri": "https://localhost:8080/",
          "height": 1000
        },
        "id": "wwhSst3QBfxC",
        "outputId": "7aaea756-aebe-41c1-dc34-2da6c78c8f4b"
      },
      "execution_count": null,
      "outputs": [
        {
          "output_type": "execute_result",
          "data": {
            "text/plain": [
              "          Unnamed: 0        Date  Customer_code Employee_index Country  \\\n",
              "452687        452687  2015-01-28         138388   Not Employee      ES   \n",
              "461981        461981  2015-01-28         162278   Not Employee      ES   \n",
              "788786        788786  2015-02-28         162278   Not Employee      ES   \n",
              "800687        800687  2015-02-28         138388   Not Employee      ES   \n",
              "1412242      1412242  2015-03-28         162278   Not Employee      ES   \n",
              "1422227      1422227  2015-03-28         138388   Not Employee      ES   \n",
              "2045024      2045024  2015-04-28         162278   Not Employee      ES   \n",
              "2056813      2056813  2015-04-28         138388   Not Employee      ES   \n",
              "2969610      2969610  2015-05-28         138388   Not Employee      ES   \n",
              "2980914      2980914  2015-05-28         162278   Not Employee      ES   \n",
              "3601557      3601557  2015-06-28         138388   Not Employee      ES   \n",
              "3613493      3613493  2015-06-28         162278   Not Employee      ES   \n",
              "4008831      4008831  2015-07-28         162278   Not Employee      ES   \n",
              "4020536      4020536  2015-07-28         138388   Not Employee      ES   \n",
              "5257294      5257294  2015-08-28         138388   Not Employee      ES   \n",
              "5295097      5295097  2015-08-28         162278   Not Employee      ES   \n",
              "5647050      5647050  2015-09-28         138388   Not Employee      ES   \n",
              "5683025      5683025  2015-09-28         162278   Not Employee      ES   \n",
              "6968353      6968353  2015-10-28         138388   Not Employee      ES   \n",
              "6982647      6982647  2015-10-28         162278   Not Employee      ES   \n",
              "7616647      7616647  2015-11-28         138388   Not Employee      ES   \n",
              "7658437      7658437  2015-11-28         162278   Not Employee      ES   \n",
              "8644608      8644608  2015-12-28         162278   Not Employee      ES   \n",
              "8678128      8678128  2015-12-28         138388   Not Employee      ES   \n",
              "9045555      9045555  2016-01-28         162278   Not Employee      ES   \n",
              "9114602      9114602  2016-01-28         138388   Not Employee      ES   \n",
              "10396442    10396442  2016-02-28         162278   Not Employee      ES   \n",
              "10405076    10405076  2016-02-28         138388   Not Employee      ES   \n",
              "10771018    10771018  2016-02-28         750561   Not Employee      ES   \n",
              "11097857    11097857  2016-03-28         162278   Not Employee      ES   \n",
              "11109978    11109978  2016-03-28         138388   Not Employee      ES   \n",
              "11361026    11361026  2016-03-28         750561   Not Employee      ES   \n",
              "11978594    11978594  2016-04-28         750561   Not Employee      ES   \n",
              "12041260    12041260  2016-04-28         138388   Not Employee      ES   \n",
              "12111000    12111000  2016-04-28         162278   Not Employee      ES   \n",
              "12911749    12911749  2016-05-28         750561   Not Employee      ES   \n",
              "12952748    12952748  2016-05-28         162278   Not Employee      ES   \n",
              "12964573    12964573  2016-05-28         138388   Not Employee      ES   \n",
              "\n",
              "          Gender   Age Customer_join_date  Customer_index  Customer_seniority  \\\n",
              "452687    Female  51.0         1999-07-16             0.0           -999999.0   \n",
              "461981    Female  66.0         2005-06-08             0.0           -999999.0   \n",
              "788786    Female  66.0         2005-06-08             0.0           -999999.0   \n",
              "800687    Female  51.0         1999-07-16             0.0           -999999.0   \n",
              "1412242   Female  66.0         2005-06-08             0.0           -999999.0   \n",
              "1422227   Female  51.0         1999-07-16             0.0           -999999.0   \n",
              "2045024   Female  66.0         2005-06-08             0.0           -999999.0   \n",
              "2056813   Female  51.0         1999-07-16             0.0           -999999.0   \n",
              "2969610   Female  51.0         1999-07-16             0.0           -999999.0   \n",
              "2980914   Female  66.0         2005-06-08             0.0           -999999.0   \n",
              "3601557   Female  51.0         1999-07-16             0.0           -999999.0   \n",
              "3613493   Female  66.0         2005-06-08             0.0           -999999.0   \n",
              "4008831   Female  66.0         2005-06-08             0.0           -999999.0   \n",
              "4020536   Female  51.0         1999-07-16             0.0           -999999.0   \n",
              "5257294   Female  51.0         1999-07-16             0.0           -999999.0   \n",
              "5295097   Female  67.0         2005-06-08             0.0           -999999.0   \n",
              "5647050   Female  51.0         1999-07-16             0.0           -999999.0   \n",
              "5683025   Female  67.0         2005-06-08             0.0           -999999.0   \n",
              "6968353   Female  51.0         1999-07-16             0.0           -999999.0   \n",
              "6982647   Female  67.0         2005-06-08             0.0           -999999.0   \n",
              "7616647   Female  51.0         1999-07-16             0.0           -999999.0   \n",
              "7658437   Female  67.0         2005-06-08             0.0           -999999.0   \n",
              "8644608   Female  67.0         2005-06-08             0.0           -999999.0   \n",
              "8678128   Female  51.0         1999-07-16             0.0           -999999.0   \n",
              "9045555   Female  67.0         2005-06-08             0.0           -999999.0   \n",
              "9114602   Female  51.0         1999-07-16             0.0           -999999.0   \n",
              "10396442  Female  67.0         2005-06-08             0.0           -999999.0   \n",
              "10405076  Female  51.0         1999-07-16             0.0           -999999.0   \n",
              "10771018  Female  36.0         2016-01-27             0.0           -999999.0   \n",
              "11097857  Female  67.0         2005-06-08             0.0           -999999.0   \n",
              "11109978  Female  52.0         1999-07-16             0.0           -999999.0   \n",
              "11361026  Female  37.0         2016-01-27             0.0           -999999.0   \n",
              "11978594  Female  37.0         2016-01-27             0.0           -999999.0   \n",
              "12041260  Female  52.0         1999-07-16             0.0           -999999.0   \n",
              "12111000  Female  67.0         2005-06-08             0.0           -999999.0   \n",
              "12911749  Female  37.0         2016-01-27             0.0           -999999.0   \n",
              "12952748  Female  67.0         2005-06-08             0.0           -999999.0   \n",
              "12964573  Female  52.0         1999-07-16             0.0           -999999.0   \n",
              "\n",
              "          ...  Mortgage Pensions Loans Taxes Credit_card Securities  \\\n",
              "452687    ...         1        1     0     1           1          1   \n",
              "461981    ...         0        0     0     0           0          0   \n",
              "788786    ...         0        0     0     0           0          0   \n",
              "800687    ...         1        1     0     1           1          1   \n",
              "1412242   ...         0        0     0     0           0          0   \n",
              "1422227   ...         1        1     0     1           1          1   \n",
              "2045024   ...         0        0     0     0           0          0   \n",
              "2056813   ...         1        1     0     1           1          1   \n",
              "2969610   ...         1        1     0     1           1          1   \n",
              "2980914   ...         0        0     0     0           0          0   \n",
              "3601557   ...         1        1     0     1           1          1   \n",
              "3613493   ...         0        0     0     0           0          0   \n",
              "4008831   ...         0        0     0     0           0          0   \n",
              "4020536   ...         1        1     0     1           1          1   \n",
              "5257294   ...         1        1     0     1           1          1   \n",
              "5295097   ...         0        0     0     0           0          0   \n",
              "5647050   ...         1        1     0     1           1          1   \n",
              "5683025   ...         0        0     0     0           0          0   \n",
              "6968353   ...         1        1     0     1           1          1   \n",
              "6982647   ...         0        0     0     0           0          0   \n",
              "7616647   ...         1        1     0     1           1          1   \n",
              "7658437   ...         0        0     0     0           0          0   \n",
              "8644608   ...         0        0     0     0           0          0   \n",
              "8678128   ...         1        1     0     1           1          1   \n",
              "9045555   ...         0        0     0     0           0          0   \n",
              "9114602   ...         1        1     0     1           1          1   \n",
              "10396442  ...         0        0     0     0           0          0   \n",
              "10405076  ...         1        1     0     1           1          1   \n",
              "10771018  ...         0        1     0     0           0          0   \n",
              "11097857  ...         0        0     0     0           0          0   \n",
              "11109978  ...         1        1     0     1           1          1   \n",
              "11361026  ...         0        1     0     0           0          0   \n",
              "11978594  ...         0        1     0     0           0          0   \n",
              "12041260  ...         1        1     0     1           1          1   \n",
              "12111000  ...         0        0     0     0           0          0   \n",
              "12911749  ...         0        1     0     0           0          0   \n",
              "12952748  ...         0        0     0     0           0          0   \n",
              "12964573  ...         1        1     0     1           0          1   \n",
              "\n",
              "         Home_account  Payroll  Pensions_2  Direct_debit  \n",
              "452687              0      1.0           1             1  \n",
              "461981              0      0.0           0             0  \n",
              "788786              0      0.0           0             0  \n",
              "800687              0      1.0           1             1  \n",
              "1412242             0      0.0           0             0  \n",
              "1422227             0      1.0           1             1  \n",
              "2045024             0      0.0           0             0  \n",
              "2056813             0      1.0           1             1  \n",
              "2969610             0      1.0           1             1  \n",
              "2980914             0      0.0           0             0  \n",
              "3601557             0      1.0           1             1  \n",
              "3613493             0      0.0           0             0  \n",
              "4008831             0      0.0           0             0  \n",
              "4020536             0      1.0           1             1  \n",
              "5257294             0      1.0           1             1  \n",
              "5295097             0      0.0           0             0  \n",
              "5647050             0      1.0           1             1  \n",
              "5683025             0      0.0           0             0  \n",
              "6968353             0      1.0           1             1  \n",
              "6982647             0      0.0           0             0  \n",
              "7616647             0      1.0           1             1  \n",
              "7658437             0      0.0           0             0  \n",
              "8644608             0      0.0           0             0  \n",
              "8678128             0      1.0           1             1  \n",
              "9045555             0      0.0           0             0  \n",
              "9114602             0      1.0           1             1  \n",
              "10396442            0      0.0           0             0  \n",
              "10405076            0      1.0           1             1  \n",
              "10771018            0      1.0           1             0  \n",
              "11097857            0      0.0           0             0  \n",
              "11109978            0      1.0           1             1  \n",
              "11361026            0      1.0           1             1  \n",
              "11978594            0      1.0           1             1  \n",
              "12041260            0      1.0           1             1  \n",
              "12111000            0      0.0           0             0  \n",
              "12911749            0      1.0           1             1  \n",
              "12952748            0      0.0           0             0  \n",
              "12964573            0      1.0           1             1  \n",
              "\n",
              "[38 rows x 47 columns]"
            ],
            "text/html": [
              "\n",
              "  <div id=\"df-fc66d7c3-0939-49a5-bd65-480e151dfcd6\">\n",
              "    <div class=\"colab-df-container\">\n",
              "      <div>\n",
              "<style scoped>\n",
              "    .dataframe tbody tr th:only-of-type {\n",
              "        vertical-align: middle;\n",
              "    }\n",
              "\n",
              "    .dataframe tbody tr th {\n",
              "        vertical-align: top;\n",
              "    }\n",
              "\n",
              "    .dataframe thead th {\n",
              "        text-align: right;\n",
              "    }\n",
              "</style>\n",
              "<table border=\"1\" class=\"dataframe\">\n",
              "  <thead>\n",
              "    <tr style=\"text-align: right;\">\n",
              "      <th></th>\n",
              "      <th>Unnamed: 0</th>\n",
              "      <th>Date</th>\n",
              "      <th>Customer_code</th>\n",
              "      <th>Employee_index</th>\n",
              "      <th>Country</th>\n",
              "      <th>Gender</th>\n",
              "      <th>Age</th>\n",
              "      <th>Customer_join_date</th>\n",
              "      <th>Customer_index</th>\n",
              "      <th>Customer_seniority</th>\n",
              "      <th>...</th>\n",
              "      <th>Mortgage</th>\n",
              "      <th>Pensions</th>\n",
              "      <th>Loans</th>\n",
              "      <th>Taxes</th>\n",
              "      <th>Credit_card</th>\n",
              "      <th>Securities</th>\n",
              "      <th>Home_account</th>\n",
              "      <th>Payroll</th>\n",
              "      <th>Pensions_2</th>\n",
              "      <th>Direct_debit</th>\n",
              "    </tr>\n",
              "  </thead>\n",
              "  <tbody>\n",
              "    <tr>\n",
              "      <th>452687</th>\n",
              "      <td>452687</td>\n",
              "      <td>2015-01-28</td>\n",
              "      <td>138388</td>\n",
              "      <td>Not Employee</td>\n",
              "      <td>ES</td>\n",
              "      <td>Female</td>\n",
              "      <td>51.0</td>\n",
              "      <td>1999-07-16</td>\n",
              "      <td>0.0</td>\n",
              "      <td>-999999.0</td>\n",
              "      <td>...</td>\n",
              "      <td>1</td>\n",
              "      <td>1</td>\n",
              "      <td>0</td>\n",
              "      <td>1</td>\n",
              "      <td>1</td>\n",
              "      <td>1</td>\n",
              "      <td>0</td>\n",
              "      <td>1.0</td>\n",
              "      <td>1</td>\n",
              "      <td>1</td>\n",
              "    </tr>\n",
              "    <tr>\n",
              "      <th>461981</th>\n",
              "      <td>461981</td>\n",
              "      <td>2015-01-28</td>\n",
              "      <td>162278</td>\n",
              "      <td>Not Employee</td>\n",
              "      <td>ES</td>\n",
              "      <td>Female</td>\n",
              "      <td>66.0</td>\n",
              "      <td>2005-06-08</td>\n",
              "      <td>0.0</td>\n",
              "      <td>-999999.0</td>\n",
              "      <td>...</td>\n",
              "      <td>0</td>\n",
              "      <td>0</td>\n",
              "      <td>0</td>\n",
              "      <td>0</td>\n",
              "      <td>0</td>\n",
              "      <td>0</td>\n",
              "      <td>0</td>\n",
              "      <td>0.0</td>\n",
              "      <td>0</td>\n",
              "      <td>0</td>\n",
              "    </tr>\n",
              "    <tr>\n",
              "      <th>788786</th>\n",
              "      <td>788786</td>\n",
              "      <td>2015-02-28</td>\n",
              "      <td>162278</td>\n",
              "      <td>Not Employee</td>\n",
              "      <td>ES</td>\n",
              "      <td>Female</td>\n",
              "      <td>66.0</td>\n",
              "      <td>2005-06-08</td>\n",
              "      <td>0.0</td>\n",
              "      <td>-999999.0</td>\n",
              "      <td>...</td>\n",
              "      <td>0</td>\n",
              "      <td>0</td>\n",
              "      <td>0</td>\n",
              "      <td>0</td>\n",
              "      <td>0</td>\n",
              "      <td>0</td>\n",
              "      <td>0</td>\n",
              "      <td>0.0</td>\n",
              "      <td>0</td>\n",
              "      <td>0</td>\n",
              "    </tr>\n",
              "    <tr>\n",
              "      <th>800687</th>\n",
              "      <td>800687</td>\n",
              "      <td>2015-02-28</td>\n",
              "      <td>138388</td>\n",
              "      <td>Not Employee</td>\n",
              "      <td>ES</td>\n",
              "      <td>Female</td>\n",
              "      <td>51.0</td>\n",
              "      <td>1999-07-16</td>\n",
              "      <td>0.0</td>\n",
              "      <td>-999999.0</td>\n",
              "      <td>...</td>\n",
              "      <td>1</td>\n",
              "      <td>1</td>\n",
              "      <td>0</td>\n",
              "      <td>1</td>\n",
              "      <td>1</td>\n",
              "      <td>1</td>\n",
              "      <td>0</td>\n",
              "      <td>1.0</td>\n",
              "      <td>1</td>\n",
              "      <td>1</td>\n",
              "    </tr>\n",
              "    <tr>\n",
              "      <th>1412242</th>\n",
              "      <td>1412242</td>\n",
              "      <td>2015-03-28</td>\n",
              "      <td>162278</td>\n",
              "      <td>Not Employee</td>\n",
              "      <td>ES</td>\n",
              "      <td>Female</td>\n",
              "      <td>66.0</td>\n",
              "      <td>2005-06-08</td>\n",
              "      <td>0.0</td>\n",
              "      <td>-999999.0</td>\n",
              "      <td>...</td>\n",
              "      <td>0</td>\n",
              "      <td>0</td>\n",
              "      <td>0</td>\n",
              "      <td>0</td>\n",
              "      <td>0</td>\n",
              "      <td>0</td>\n",
              "      <td>0</td>\n",
              "      <td>0.0</td>\n",
              "      <td>0</td>\n",
              "      <td>0</td>\n",
              "    </tr>\n",
              "    <tr>\n",
              "      <th>1422227</th>\n",
              "      <td>1422227</td>\n",
              "      <td>2015-03-28</td>\n",
              "      <td>138388</td>\n",
              "      <td>Not Employee</td>\n",
              "      <td>ES</td>\n",
              "      <td>Female</td>\n",
              "      <td>51.0</td>\n",
              "      <td>1999-07-16</td>\n",
              "      <td>0.0</td>\n",
              "      <td>-999999.0</td>\n",
              "      <td>...</td>\n",
              "      <td>1</td>\n",
              "      <td>1</td>\n",
              "      <td>0</td>\n",
              "      <td>1</td>\n",
              "      <td>1</td>\n",
              "      <td>1</td>\n",
              "      <td>0</td>\n",
              "      <td>1.0</td>\n",
              "      <td>1</td>\n",
              "      <td>1</td>\n",
              "    </tr>\n",
              "    <tr>\n",
              "      <th>2045024</th>\n",
              "      <td>2045024</td>\n",
              "      <td>2015-04-28</td>\n",
              "      <td>162278</td>\n",
              "      <td>Not Employee</td>\n",
              "      <td>ES</td>\n",
              "      <td>Female</td>\n",
              "      <td>66.0</td>\n",
              "      <td>2005-06-08</td>\n",
              "      <td>0.0</td>\n",
              "      <td>-999999.0</td>\n",
              "      <td>...</td>\n",
              "      <td>0</td>\n",
              "      <td>0</td>\n",
              "      <td>0</td>\n",
              "      <td>0</td>\n",
              "      <td>0</td>\n",
              "      <td>0</td>\n",
              "      <td>0</td>\n",
              "      <td>0.0</td>\n",
              "      <td>0</td>\n",
              "      <td>0</td>\n",
              "    </tr>\n",
              "    <tr>\n",
              "      <th>2056813</th>\n",
              "      <td>2056813</td>\n",
              "      <td>2015-04-28</td>\n",
              "      <td>138388</td>\n",
              "      <td>Not Employee</td>\n",
              "      <td>ES</td>\n",
              "      <td>Female</td>\n",
              "      <td>51.0</td>\n",
              "      <td>1999-07-16</td>\n",
              "      <td>0.0</td>\n",
              "      <td>-999999.0</td>\n",
              "      <td>...</td>\n",
              "      <td>1</td>\n",
              "      <td>1</td>\n",
              "      <td>0</td>\n",
              "      <td>1</td>\n",
              "      <td>1</td>\n",
              "      <td>1</td>\n",
              "      <td>0</td>\n",
              "      <td>1.0</td>\n",
              "      <td>1</td>\n",
              "      <td>1</td>\n",
              "    </tr>\n",
              "    <tr>\n",
              "      <th>2969610</th>\n",
              "      <td>2969610</td>\n",
              "      <td>2015-05-28</td>\n",
              "      <td>138388</td>\n",
              "      <td>Not Employee</td>\n",
              "      <td>ES</td>\n",
              "      <td>Female</td>\n",
              "      <td>51.0</td>\n",
              "      <td>1999-07-16</td>\n",
              "      <td>0.0</td>\n",
              "      <td>-999999.0</td>\n",
              "      <td>...</td>\n",
              "      <td>1</td>\n",
              "      <td>1</td>\n",
              "      <td>0</td>\n",
              "      <td>1</td>\n",
              "      <td>1</td>\n",
              "      <td>1</td>\n",
              "      <td>0</td>\n",
              "      <td>1.0</td>\n",
              "      <td>1</td>\n",
              "      <td>1</td>\n",
              "    </tr>\n",
              "    <tr>\n",
              "      <th>2980914</th>\n",
              "      <td>2980914</td>\n",
              "      <td>2015-05-28</td>\n",
              "      <td>162278</td>\n",
              "      <td>Not Employee</td>\n",
              "      <td>ES</td>\n",
              "      <td>Female</td>\n",
              "      <td>66.0</td>\n",
              "      <td>2005-06-08</td>\n",
              "      <td>0.0</td>\n",
              "      <td>-999999.0</td>\n",
              "      <td>...</td>\n",
              "      <td>0</td>\n",
              "      <td>0</td>\n",
              "      <td>0</td>\n",
              "      <td>0</td>\n",
              "      <td>0</td>\n",
              "      <td>0</td>\n",
              "      <td>0</td>\n",
              "      <td>0.0</td>\n",
              "      <td>0</td>\n",
              "      <td>0</td>\n",
              "    </tr>\n",
              "    <tr>\n",
              "      <th>3601557</th>\n",
              "      <td>3601557</td>\n",
              "      <td>2015-06-28</td>\n",
              "      <td>138388</td>\n",
              "      <td>Not Employee</td>\n",
              "      <td>ES</td>\n",
              "      <td>Female</td>\n",
              "      <td>51.0</td>\n",
              "      <td>1999-07-16</td>\n",
              "      <td>0.0</td>\n",
              "      <td>-999999.0</td>\n",
              "      <td>...</td>\n",
              "      <td>1</td>\n",
              "      <td>1</td>\n",
              "      <td>0</td>\n",
              "      <td>1</td>\n",
              "      <td>1</td>\n",
              "      <td>1</td>\n",
              "      <td>0</td>\n",
              "      <td>1.0</td>\n",
              "      <td>1</td>\n",
              "      <td>1</td>\n",
              "    </tr>\n",
              "    <tr>\n",
              "      <th>3613493</th>\n",
              "      <td>3613493</td>\n",
              "      <td>2015-06-28</td>\n",
              "      <td>162278</td>\n",
              "      <td>Not Employee</td>\n",
              "      <td>ES</td>\n",
              "      <td>Female</td>\n",
              "      <td>66.0</td>\n",
              "      <td>2005-06-08</td>\n",
              "      <td>0.0</td>\n",
              "      <td>-999999.0</td>\n",
              "      <td>...</td>\n",
              "      <td>0</td>\n",
              "      <td>0</td>\n",
              "      <td>0</td>\n",
              "      <td>0</td>\n",
              "      <td>0</td>\n",
              "      <td>0</td>\n",
              "      <td>0</td>\n",
              "      <td>0.0</td>\n",
              "      <td>0</td>\n",
              "      <td>0</td>\n",
              "    </tr>\n",
              "    <tr>\n",
              "      <th>4008831</th>\n",
              "      <td>4008831</td>\n",
              "      <td>2015-07-28</td>\n",
              "      <td>162278</td>\n",
              "      <td>Not Employee</td>\n",
              "      <td>ES</td>\n",
              "      <td>Female</td>\n",
              "      <td>66.0</td>\n",
              "      <td>2005-06-08</td>\n",
              "      <td>0.0</td>\n",
              "      <td>-999999.0</td>\n",
              "      <td>...</td>\n",
              "      <td>0</td>\n",
              "      <td>0</td>\n",
              "      <td>0</td>\n",
              "      <td>0</td>\n",
              "      <td>0</td>\n",
              "      <td>0</td>\n",
              "      <td>0</td>\n",
              "      <td>0.0</td>\n",
              "      <td>0</td>\n",
              "      <td>0</td>\n",
              "    </tr>\n",
              "    <tr>\n",
              "      <th>4020536</th>\n",
              "      <td>4020536</td>\n",
              "      <td>2015-07-28</td>\n",
              "      <td>138388</td>\n",
              "      <td>Not Employee</td>\n",
              "      <td>ES</td>\n",
              "      <td>Female</td>\n",
              "      <td>51.0</td>\n",
              "      <td>1999-07-16</td>\n",
              "      <td>0.0</td>\n",
              "      <td>-999999.0</td>\n",
              "      <td>...</td>\n",
              "      <td>1</td>\n",
              "      <td>1</td>\n",
              "      <td>0</td>\n",
              "      <td>1</td>\n",
              "      <td>1</td>\n",
              "      <td>1</td>\n",
              "      <td>0</td>\n",
              "      <td>1.0</td>\n",
              "      <td>1</td>\n",
              "      <td>1</td>\n",
              "    </tr>\n",
              "    <tr>\n",
              "      <th>5257294</th>\n",
              "      <td>5257294</td>\n",
              "      <td>2015-08-28</td>\n",
              "      <td>138388</td>\n",
              "      <td>Not Employee</td>\n",
              "      <td>ES</td>\n",
              "      <td>Female</td>\n",
              "      <td>51.0</td>\n",
              "      <td>1999-07-16</td>\n",
              "      <td>0.0</td>\n",
              "      <td>-999999.0</td>\n",
              "      <td>...</td>\n",
              "      <td>1</td>\n",
              "      <td>1</td>\n",
              "      <td>0</td>\n",
              "      <td>1</td>\n",
              "      <td>1</td>\n",
              "      <td>1</td>\n",
              "      <td>0</td>\n",
              "      <td>1.0</td>\n",
              "      <td>1</td>\n",
              "      <td>1</td>\n",
              "    </tr>\n",
              "    <tr>\n",
              "      <th>5295097</th>\n",
              "      <td>5295097</td>\n",
              "      <td>2015-08-28</td>\n",
              "      <td>162278</td>\n",
              "      <td>Not Employee</td>\n",
              "      <td>ES</td>\n",
              "      <td>Female</td>\n",
              "      <td>67.0</td>\n",
              "      <td>2005-06-08</td>\n",
              "      <td>0.0</td>\n",
              "      <td>-999999.0</td>\n",
              "      <td>...</td>\n",
              "      <td>0</td>\n",
              "      <td>0</td>\n",
              "      <td>0</td>\n",
              "      <td>0</td>\n",
              "      <td>0</td>\n",
              "      <td>0</td>\n",
              "      <td>0</td>\n",
              "      <td>0.0</td>\n",
              "      <td>0</td>\n",
              "      <td>0</td>\n",
              "    </tr>\n",
              "    <tr>\n",
              "      <th>5647050</th>\n",
              "      <td>5647050</td>\n",
              "      <td>2015-09-28</td>\n",
              "      <td>138388</td>\n",
              "      <td>Not Employee</td>\n",
              "      <td>ES</td>\n",
              "      <td>Female</td>\n",
              "      <td>51.0</td>\n",
              "      <td>1999-07-16</td>\n",
              "      <td>0.0</td>\n",
              "      <td>-999999.0</td>\n",
              "      <td>...</td>\n",
              "      <td>1</td>\n",
              "      <td>1</td>\n",
              "      <td>0</td>\n",
              "      <td>1</td>\n",
              "      <td>1</td>\n",
              "      <td>1</td>\n",
              "      <td>0</td>\n",
              "      <td>1.0</td>\n",
              "      <td>1</td>\n",
              "      <td>1</td>\n",
              "    </tr>\n",
              "    <tr>\n",
              "      <th>5683025</th>\n",
              "      <td>5683025</td>\n",
              "      <td>2015-09-28</td>\n",
              "      <td>162278</td>\n",
              "      <td>Not Employee</td>\n",
              "      <td>ES</td>\n",
              "      <td>Female</td>\n",
              "      <td>67.0</td>\n",
              "      <td>2005-06-08</td>\n",
              "      <td>0.0</td>\n",
              "      <td>-999999.0</td>\n",
              "      <td>...</td>\n",
              "      <td>0</td>\n",
              "      <td>0</td>\n",
              "      <td>0</td>\n",
              "      <td>0</td>\n",
              "      <td>0</td>\n",
              "      <td>0</td>\n",
              "      <td>0</td>\n",
              "      <td>0.0</td>\n",
              "      <td>0</td>\n",
              "      <td>0</td>\n",
              "    </tr>\n",
              "    <tr>\n",
              "      <th>6968353</th>\n",
              "      <td>6968353</td>\n",
              "      <td>2015-10-28</td>\n",
              "      <td>138388</td>\n",
              "      <td>Not Employee</td>\n",
              "      <td>ES</td>\n",
              "      <td>Female</td>\n",
              "      <td>51.0</td>\n",
              "      <td>1999-07-16</td>\n",
              "      <td>0.0</td>\n",
              "      <td>-999999.0</td>\n",
              "      <td>...</td>\n",
              "      <td>1</td>\n",
              "      <td>1</td>\n",
              "      <td>0</td>\n",
              "      <td>1</td>\n",
              "      <td>1</td>\n",
              "      <td>1</td>\n",
              "      <td>0</td>\n",
              "      <td>1.0</td>\n",
              "      <td>1</td>\n",
              "      <td>1</td>\n",
              "    </tr>\n",
              "    <tr>\n",
              "      <th>6982647</th>\n",
              "      <td>6982647</td>\n",
              "      <td>2015-10-28</td>\n",
              "      <td>162278</td>\n",
              "      <td>Not Employee</td>\n",
              "      <td>ES</td>\n",
              "      <td>Female</td>\n",
              "      <td>67.0</td>\n",
              "      <td>2005-06-08</td>\n",
              "      <td>0.0</td>\n",
              "      <td>-999999.0</td>\n",
              "      <td>...</td>\n",
              "      <td>0</td>\n",
              "      <td>0</td>\n",
              "      <td>0</td>\n",
              "      <td>0</td>\n",
              "      <td>0</td>\n",
              "      <td>0</td>\n",
              "      <td>0</td>\n",
              "      <td>0.0</td>\n",
              "      <td>0</td>\n",
              "      <td>0</td>\n",
              "    </tr>\n",
              "    <tr>\n",
              "      <th>7616647</th>\n",
              "      <td>7616647</td>\n",
              "      <td>2015-11-28</td>\n",
              "      <td>138388</td>\n",
              "      <td>Not Employee</td>\n",
              "      <td>ES</td>\n",
              "      <td>Female</td>\n",
              "      <td>51.0</td>\n",
              "      <td>1999-07-16</td>\n",
              "      <td>0.0</td>\n",
              "      <td>-999999.0</td>\n",
              "      <td>...</td>\n",
              "      <td>1</td>\n",
              "      <td>1</td>\n",
              "      <td>0</td>\n",
              "      <td>1</td>\n",
              "      <td>1</td>\n",
              "      <td>1</td>\n",
              "      <td>0</td>\n",
              "      <td>1.0</td>\n",
              "      <td>1</td>\n",
              "      <td>1</td>\n",
              "    </tr>\n",
              "    <tr>\n",
              "      <th>7658437</th>\n",
              "      <td>7658437</td>\n",
              "      <td>2015-11-28</td>\n",
              "      <td>162278</td>\n",
              "      <td>Not Employee</td>\n",
              "      <td>ES</td>\n",
              "      <td>Female</td>\n",
              "      <td>67.0</td>\n",
              "      <td>2005-06-08</td>\n",
              "      <td>0.0</td>\n",
              "      <td>-999999.0</td>\n",
              "      <td>...</td>\n",
              "      <td>0</td>\n",
              "      <td>0</td>\n",
              "      <td>0</td>\n",
              "      <td>0</td>\n",
              "      <td>0</td>\n",
              "      <td>0</td>\n",
              "      <td>0</td>\n",
              "      <td>0.0</td>\n",
              "      <td>0</td>\n",
              "      <td>0</td>\n",
              "    </tr>\n",
              "    <tr>\n",
              "      <th>8644608</th>\n",
              "      <td>8644608</td>\n",
              "      <td>2015-12-28</td>\n",
              "      <td>162278</td>\n",
              "      <td>Not Employee</td>\n",
              "      <td>ES</td>\n",
              "      <td>Female</td>\n",
              "      <td>67.0</td>\n",
              "      <td>2005-06-08</td>\n",
              "      <td>0.0</td>\n",
              "      <td>-999999.0</td>\n",
              "      <td>...</td>\n",
              "      <td>0</td>\n",
              "      <td>0</td>\n",
              "      <td>0</td>\n",
              "      <td>0</td>\n",
              "      <td>0</td>\n",
              "      <td>0</td>\n",
              "      <td>0</td>\n",
              "      <td>0.0</td>\n",
              "      <td>0</td>\n",
              "      <td>0</td>\n",
              "    </tr>\n",
              "    <tr>\n",
              "      <th>8678128</th>\n",
              "      <td>8678128</td>\n",
              "      <td>2015-12-28</td>\n",
              "      <td>138388</td>\n",
              "      <td>Not Employee</td>\n",
              "      <td>ES</td>\n",
              "      <td>Female</td>\n",
              "      <td>51.0</td>\n",
              "      <td>1999-07-16</td>\n",
              "      <td>0.0</td>\n",
              "      <td>-999999.0</td>\n",
              "      <td>...</td>\n",
              "      <td>1</td>\n",
              "      <td>1</td>\n",
              "      <td>0</td>\n",
              "      <td>1</td>\n",
              "      <td>1</td>\n",
              "      <td>1</td>\n",
              "      <td>0</td>\n",
              "      <td>1.0</td>\n",
              "      <td>1</td>\n",
              "      <td>1</td>\n",
              "    </tr>\n",
              "    <tr>\n",
              "      <th>9045555</th>\n",
              "      <td>9045555</td>\n",
              "      <td>2016-01-28</td>\n",
              "      <td>162278</td>\n",
              "      <td>Not Employee</td>\n",
              "      <td>ES</td>\n",
              "      <td>Female</td>\n",
              "      <td>67.0</td>\n",
              "      <td>2005-06-08</td>\n",
              "      <td>0.0</td>\n",
              "      <td>-999999.0</td>\n",
              "      <td>...</td>\n",
              "      <td>0</td>\n",
              "      <td>0</td>\n",
              "      <td>0</td>\n",
              "      <td>0</td>\n",
              "      <td>0</td>\n",
              "      <td>0</td>\n",
              "      <td>0</td>\n",
              "      <td>0.0</td>\n",
              "      <td>0</td>\n",
              "      <td>0</td>\n",
              "    </tr>\n",
              "    <tr>\n",
              "      <th>9114602</th>\n",
              "      <td>9114602</td>\n",
              "      <td>2016-01-28</td>\n",
              "      <td>138388</td>\n",
              "      <td>Not Employee</td>\n",
              "      <td>ES</td>\n",
              "      <td>Female</td>\n",
              "      <td>51.0</td>\n",
              "      <td>1999-07-16</td>\n",
              "      <td>0.0</td>\n",
              "      <td>-999999.0</td>\n",
              "      <td>...</td>\n",
              "      <td>1</td>\n",
              "      <td>1</td>\n",
              "      <td>0</td>\n",
              "      <td>1</td>\n",
              "      <td>1</td>\n",
              "      <td>1</td>\n",
              "      <td>0</td>\n",
              "      <td>1.0</td>\n",
              "      <td>1</td>\n",
              "      <td>1</td>\n",
              "    </tr>\n",
              "    <tr>\n",
              "      <th>10396442</th>\n",
              "      <td>10396442</td>\n",
              "      <td>2016-02-28</td>\n",
              "      <td>162278</td>\n",
              "      <td>Not Employee</td>\n",
              "      <td>ES</td>\n",
              "      <td>Female</td>\n",
              "      <td>67.0</td>\n",
              "      <td>2005-06-08</td>\n",
              "      <td>0.0</td>\n",
              "      <td>-999999.0</td>\n",
              "      <td>...</td>\n",
              "      <td>0</td>\n",
              "      <td>0</td>\n",
              "      <td>0</td>\n",
              "      <td>0</td>\n",
              "      <td>0</td>\n",
              "      <td>0</td>\n",
              "      <td>0</td>\n",
              "      <td>0.0</td>\n",
              "      <td>0</td>\n",
              "      <td>0</td>\n",
              "    </tr>\n",
              "    <tr>\n",
              "      <th>10405076</th>\n",
              "      <td>10405076</td>\n",
              "      <td>2016-02-28</td>\n",
              "      <td>138388</td>\n",
              "      <td>Not Employee</td>\n",
              "      <td>ES</td>\n",
              "      <td>Female</td>\n",
              "      <td>51.0</td>\n",
              "      <td>1999-07-16</td>\n",
              "      <td>0.0</td>\n",
              "      <td>-999999.0</td>\n",
              "      <td>...</td>\n",
              "      <td>1</td>\n",
              "      <td>1</td>\n",
              "      <td>0</td>\n",
              "      <td>1</td>\n",
              "      <td>1</td>\n",
              "      <td>1</td>\n",
              "      <td>0</td>\n",
              "      <td>1.0</td>\n",
              "      <td>1</td>\n",
              "      <td>1</td>\n",
              "    </tr>\n",
              "    <tr>\n",
              "      <th>10771018</th>\n",
              "      <td>10771018</td>\n",
              "      <td>2016-02-28</td>\n",
              "      <td>750561</td>\n",
              "      <td>Not Employee</td>\n",
              "      <td>ES</td>\n",
              "      <td>Female</td>\n",
              "      <td>36.0</td>\n",
              "      <td>2016-01-27</td>\n",
              "      <td>0.0</td>\n",
              "      <td>-999999.0</td>\n",
              "      <td>...</td>\n",
              "      <td>0</td>\n",
              "      <td>1</td>\n",
              "      <td>0</td>\n",
              "      <td>0</td>\n",
              "      <td>0</td>\n",
              "      <td>0</td>\n",
              "      <td>0</td>\n",
              "      <td>1.0</td>\n",
              "      <td>1</td>\n",
              "      <td>0</td>\n",
              "    </tr>\n",
              "    <tr>\n",
              "      <th>11097857</th>\n",
              "      <td>11097857</td>\n",
              "      <td>2016-03-28</td>\n",
              "      <td>162278</td>\n",
              "      <td>Not Employee</td>\n",
              "      <td>ES</td>\n",
              "      <td>Female</td>\n",
              "      <td>67.0</td>\n",
              "      <td>2005-06-08</td>\n",
              "      <td>0.0</td>\n",
              "      <td>-999999.0</td>\n",
              "      <td>...</td>\n",
              "      <td>0</td>\n",
              "      <td>0</td>\n",
              "      <td>0</td>\n",
              "      <td>0</td>\n",
              "      <td>0</td>\n",
              "      <td>0</td>\n",
              "      <td>0</td>\n",
              "      <td>0.0</td>\n",
              "      <td>0</td>\n",
              "      <td>0</td>\n",
              "    </tr>\n",
              "    <tr>\n",
              "      <th>11109978</th>\n",
              "      <td>11109978</td>\n",
              "      <td>2016-03-28</td>\n",
              "      <td>138388</td>\n",
              "      <td>Not Employee</td>\n",
              "      <td>ES</td>\n",
              "      <td>Female</td>\n",
              "      <td>52.0</td>\n",
              "      <td>1999-07-16</td>\n",
              "      <td>0.0</td>\n",
              "      <td>-999999.0</td>\n",
              "      <td>...</td>\n",
              "      <td>1</td>\n",
              "      <td>1</td>\n",
              "      <td>0</td>\n",
              "      <td>1</td>\n",
              "      <td>1</td>\n",
              "      <td>1</td>\n",
              "      <td>0</td>\n",
              "      <td>1.0</td>\n",
              "      <td>1</td>\n",
              "      <td>1</td>\n",
              "    </tr>\n",
              "    <tr>\n",
              "      <th>11361026</th>\n",
              "      <td>11361026</td>\n",
              "      <td>2016-03-28</td>\n",
              "      <td>750561</td>\n",
              "      <td>Not Employee</td>\n",
              "      <td>ES</td>\n",
              "      <td>Female</td>\n",
              "      <td>37.0</td>\n",
              "      <td>2016-01-27</td>\n",
              "      <td>0.0</td>\n",
              "      <td>-999999.0</td>\n",
              "      <td>...</td>\n",
              "      <td>0</td>\n",
              "      <td>1</td>\n",
              "      <td>0</td>\n",
              "      <td>0</td>\n",
              "      <td>0</td>\n",
              "      <td>0</td>\n",
              "      <td>0</td>\n",
              "      <td>1.0</td>\n",
              "      <td>1</td>\n",
              "      <td>1</td>\n",
              "    </tr>\n",
              "    <tr>\n",
              "      <th>11978594</th>\n",
              "      <td>11978594</td>\n",
              "      <td>2016-04-28</td>\n",
              "      <td>750561</td>\n",
              "      <td>Not Employee</td>\n",
              "      <td>ES</td>\n",
              "      <td>Female</td>\n",
              "      <td>37.0</td>\n",
              "      <td>2016-01-27</td>\n",
              "      <td>0.0</td>\n",
              "      <td>-999999.0</td>\n",
              "      <td>...</td>\n",
              "      <td>0</td>\n",
              "      <td>1</td>\n",
              "      <td>0</td>\n",
              "      <td>0</td>\n",
              "      <td>0</td>\n",
              "      <td>0</td>\n",
              "      <td>0</td>\n",
              "      <td>1.0</td>\n",
              "      <td>1</td>\n",
              "      <td>1</td>\n",
              "    </tr>\n",
              "    <tr>\n",
              "      <th>12041260</th>\n",
              "      <td>12041260</td>\n",
              "      <td>2016-04-28</td>\n",
              "      <td>138388</td>\n",
              "      <td>Not Employee</td>\n",
              "      <td>ES</td>\n",
              "      <td>Female</td>\n",
              "      <td>52.0</td>\n",
              "      <td>1999-07-16</td>\n",
              "      <td>0.0</td>\n",
              "      <td>-999999.0</td>\n",
              "      <td>...</td>\n",
              "      <td>1</td>\n",
              "      <td>1</td>\n",
              "      <td>0</td>\n",
              "      <td>1</td>\n",
              "      <td>1</td>\n",
              "      <td>1</td>\n",
              "      <td>0</td>\n",
              "      <td>1.0</td>\n",
              "      <td>1</td>\n",
              "      <td>1</td>\n",
              "    </tr>\n",
              "    <tr>\n",
              "      <th>12111000</th>\n",
              "      <td>12111000</td>\n",
              "      <td>2016-04-28</td>\n",
              "      <td>162278</td>\n",
              "      <td>Not Employee</td>\n",
              "      <td>ES</td>\n",
              "      <td>Female</td>\n",
              "      <td>67.0</td>\n",
              "      <td>2005-06-08</td>\n",
              "      <td>0.0</td>\n",
              "      <td>-999999.0</td>\n",
              "      <td>...</td>\n",
              "      <td>0</td>\n",
              "      <td>0</td>\n",
              "      <td>0</td>\n",
              "      <td>0</td>\n",
              "      <td>0</td>\n",
              "      <td>0</td>\n",
              "      <td>0</td>\n",
              "      <td>0.0</td>\n",
              "      <td>0</td>\n",
              "      <td>0</td>\n",
              "    </tr>\n",
              "    <tr>\n",
              "      <th>12911749</th>\n",
              "      <td>12911749</td>\n",
              "      <td>2016-05-28</td>\n",
              "      <td>750561</td>\n",
              "      <td>Not Employee</td>\n",
              "      <td>ES</td>\n",
              "      <td>Female</td>\n",
              "      <td>37.0</td>\n",
              "      <td>2016-01-27</td>\n",
              "      <td>0.0</td>\n",
              "      <td>-999999.0</td>\n",
              "      <td>...</td>\n",
              "      <td>0</td>\n",
              "      <td>1</td>\n",
              "      <td>0</td>\n",
              "      <td>0</td>\n",
              "      <td>0</td>\n",
              "      <td>0</td>\n",
              "      <td>0</td>\n",
              "      <td>1.0</td>\n",
              "      <td>1</td>\n",
              "      <td>1</td>\n",
              "    </tr>\n",
              "    <tr>\n",
              "      <th>12952748</th>\n",
              "      <td>12952748</td>\n",
              "      <td>2016-05-28</td>\n",
              "      <td>162278</td>\n",
              "      <td>Not Employee</td>\n",
              "      <td>ES</td>\n",
              "      <td>Female</td>\n",
              "      <td>67.0</td>\n",
              "      <td>2005-06-08</td>\n",
              "      <td>0.0</td>\n",
              "      <td>-999999.0</td>\n",
              "      <td>...</td>\n",
              "      <td>0</td>\n",
              "      <td>0</td>\n",
              "      <td>0</td>\n",
              "      <td>0</td>\n",
              "      <td>0</td>\n",
              "      <td>0</td>\n",
              "      <td>0</td>\n",
              "      <td>0.0</td>\n",
              "      <td>0</td>\n",
              "      <td>0</td>\n",
              "    </tr>\n",
              "    <tr>\n",
              "      <th>12964573</th>\n",
              "      <td>12964573</td>\n",
              "      <td>2016-05-28</td>\n",
              "      <td>138388</td>\n",
              "      <td>Not Employee</td>\n",
              "      <td>ES</td>\n",
              "      <td>Female</td>\n",
              "      <td>52.0</td>\n",
              "      <td>1999-07-16</td>\n",
              "      <td>0.0</td>\n",
              "      <td>-999999.0</td>\n",
              "      <td>...</td>\n",
              "      <td>1</td>\n",
              "      <td>1</td>\n",
              "      <td>0</td>\n",
              "      <td>1</td>\n",
              "      <td>0</td>\n",
              "      <td>1</td>\n",
              "      <td>0</td>\n",
              "      <td>1.0</td>\n",
              "      <td>1</td>\n",
              "      <td>1</td>\n",
              "    </tr>\n",
              "  </tbody>\n",
              "</table>\n",
              "<p>38 rows × 47 columns</p>\n",
              "</div>\n",
              "      <button class=\"colab-df-convert\" onclick=\"convertToInteractive('df-fc66d7c3-0939-49a5-bd65-480e151dfcd6')\"\n",
              "              title=\"Convert this dataframe to an interactive table.\"\n",
              "              style=\"display:none;\">\n",
              "        \n",
              "  <svg xmlns=\"http://www.w3.org/2000/svg\" height=\"24px\"viewBox=\"0 0 24 24\"\n",
              "       width=\"24px\">\n",
              "    <path d=\"M0 0h24v24H0V0z\" fill=\"none\"/>\n",
              "    <path d=\"M18.56 5.44l.94 2.06.94-2.06 2.06-.94-2.06-.94-.94-2.06-.94 2.06-2.06.94zm-11 1L8.5 8.5l.94-2.06 2.06-.94-2.06-.94L8.5 2.5l-.94 2.06-2.06.94zm10 10l.94 2.06.94-2.06 2.06-.94-2.06-.94-.94-2.06-.94 2.06-2.06.94z\"/><path d=\"M17.41 7.96l-1.37-1.37c-.4-.4-.92-.59-1.43-.59-.52 0-1.04.2-1.43.59L10.3 9.45l-7.72 7.72c-.78.78-.78 2.05 0 2.83L4 21.41c.39.39.9.59 1.41.59.51 0 1.02-.2 1.41-.59l7.78-7.78 2.81-2.81c.8-.78.8-2.07 0-2.86zM5.41 20L4 18.59l7.72-7.72 1.47 1.35L5.41 20z\"/>\n",
              "  </svg>\n",
              "      </button>\n",
              "      \n",
              "  <style>\n",
              "    .colab-df-container {\n",
              "      display:flex;\n",
              "      flex-wrap:wrap;\n",
              "      gap: 12px;\n",
              "    }\n",
              "\n",
              "    .colab-df-convert {\n",
              "      background-color: #E8F0FE;\n",
              "      border: none;\n",
              "      border-radius: 50%;\n",
              "      cursor: pointer;\n",
              "      display: none;\n",
              "      fill: #1967D2;\n",
              "      height: 32px;\n",
              "      padding: 0 0 0 0;\n",
              "      width: 32px;\n",
              "    }\n",
              "\n",
              "    .colab-df-convert:hover {\n",
              "      background-color: #E2EBFA;\n",
              "      box-shadow: 0px 1px 2px rgba(60, 64, 67, 0.3), 0px 1px 3px 1px rgba(60, 64, 67, 0.15);\n",
              "      fill: #174EA6;\n",
              "    }\n",
              "\n",
              "    [theme=dark] .colab-df-convert {\n",
              "      background-color: #3B4455;\n",
              "      fill: #D2E3FC;\n",
              "    }\n",
              "\n",
              "    [theme=dark] .colab-df-convert:hover {\n",
              "      background-color: #434B5C;\n",
              "      box-shadow: 0px 1px 3px 1px rgba(0, 0, 0, 0.15);\n",
              "      filter: drop-shadow(0px 1px 2px rgba(0, 0, 0, 0.3));\n",
              "      fill: #FFFFFF;\n",
              "    }\n",
              "  </style>\n",
              "\n",
              "      <script>\n",
              "        const buttonEl =\n",
              "          document.querySelector('#df-fc66d7c3-0939-49a5-bd65-480e151dfcd6 button.colab-df-convert');\n",
              "        buttonEl.style.display =\n",
              "          google.colab.kernel.accessAllowed ? 'block' : 'none';\n",
              "\n",
              "        async function convertToInteractive(key) {\n",
              "          const element = document.querySelector('#df-fc66d7c3-0939-49a5-bd65-480e151dfcd6');\n",
              "          const dataTable =\n",
              "            await google.colab.kernel.invokeFunction('convertToInteractive',\n",
              "                                                     [key], {});\n",
              "          if (!dataTable) return;\n",
              "\n",
              "          const docLinkHtml = 'Like what you see? Visit the ' +\n",
              "            '<a target=\"_blank\" href=https://colab.research.google.com/notebooks/data_table.ipynb>data table notebook</a>'\n",
              "            + ' to learn more about interactive tables.';\n",
              "          element.innerHTML = '';\n",
              "          dataTable['output_type'] = 'display_data';\n",
              "          await google.colab.output.renderOutput(dataTable, element);\n",
              "          const docLink = document.createElement('div');\n",
              "          docLink.innerHTML = docLinkHtml;\n",
              "          element.appendChild(docLink);\n",
              "        }\n",
              "      </script>\n",
              "    </div>\n",
              "  </div>\n",
              "  "
            ]
          },
          "metadata": {},
          "execution_count": 14
        }
      ]
    },
    {
      "cell_type": "code",
      "source": [
        "#Trim outliers:\n",
        "newdf=newdftrain[newdftrain['Customer_seniority'] < upper_limit]\n",
        "newdf.shape"
      ],
      "metadata": {
        "colab": {
          "base_uri": "https://localhost:8080/"
        },
        "id": "bhNolr4bBft7",
        "outputId": "ffc02393-3154-46bb-c9cd-bf0f3fc141a7"
      },
      "execution_count": null,
      "outputs": [
        {
          "output_type": "execute_result",
          "data": {
            "text/plain": [
              "(12707373, 47)"
            ]
          },
          "metadata": {},
          "execution_count": 15
        }
      ]
    },
    {
      "cell_type": "code",
      "source": [
        "#Compare Plots after trimming outliers:\n",
        "\n",
        "plt.figure(figsize=(16,8))\n",
        "plt.subplot(2,2,1)\n",
        "sns.distplot(newdftrain['Customer_seniority'])\n",
        "plt.subplot(2,2,2)\n",
        "sns.boxplot(newdftrain['Customer_seniority'])\n",
        "plt.subplot(2,2,3)\n",
        "sns.distplot(newdf['Customer_seniority'])\n",
        "plt.subplot(2,2,4)\n",
        "sns.boxplot(newdf['Customer_seniority'])\n",
        "plt.show()\n"
      ],
      "metadata": {
        "colab": {
          "base_uri": "https://localhost:8080/",
          "height": 711
        },
        "id": "xkg6gK8lBfq0",
        "outputId": "6a173ca7-557c-4ea0-b9e5-de88c402c247"
      },
      "execution_count": null,
      "outputs": [
        {
          "output_type": "display_data",
          "data": {
            "text/plain": [
              "<Figure size 1600x800 with 4 Axes>"
            ],
            "image/png": "[encoded data removed]"
          },
          "metadata": {}
        }
      ]
    },
    {
      "cell_type": "code",
      "source": [
        "#Distplot for province_name:\n",
        "\n",
        "plt.figure(figsize=(16,5))\n",
        "plt.subplot(1,2,1)\n",
        "sns.distplot(newdftrain['province_name'])\n"
      ],
      "metadata": {
        "colab": {
          "base_uri": "https://localhost:8080/",
          "height": 482
        },
        "id": "VV9kV7adBflx",
        "outputId": "d33573b5-5f27-42d8-c87c-00a35c12e520"
      },
      "execution_count": null,
      "outputs": [
        {
          "output_type": "execute_result",
          "data": {
            "text/plain": [
              "<Axes: xlabel='province_name', ylabel='Density'>"
            ]
          },
          "metadata": {},
          "execution_count": 11
        },
        {
          "output_type": "display_data",
          "data": {
            "text/plain": [
              "<Figure size 1600x500 with 1 Axes>"
            ],
            "image/png": "[encoded data removed]"
          },
          "metadata": {}
        }
      ]
    },
    {
      "cell_type": "markdown",
      "source": [
        "# Summary"
      ],
      "metadata": {
        "id": "ZwK-FGbpz7po"
      }
    },
    {
      "cell_type": "code",
      "execution_count": null,
      "metadata": {
        "id": "45u6wAHg19Zw"
      },
      "outputs": [],
      "source": [
        "#Renamed feature names from Spanish to English for easy computation and analysis.\n",
        "#Checked for null values in the data\n",
        "#Imputed missing /null values of the features with the Mean value of the column.\n",
        "#Imputed categorical column null values with highest occurring class in the features [value_counts.().idmax())]\n",
        "#Dropped columns Customer_leave_date and Spouse_index as they contained more than (99%) of their observations as the null values.\n",
        "#Replaced the categories from Spanish to given English name categories in columns (Gender, Customer type, Customer relation\n",
        "#Changed data types of columns Age and Seniority\n",
        "#Detection of  outliers using univariate visualizations,distplots, box plots.\n",
        "#Detected and treated Outliers in the data using IQR method\n"
      ]
    },
    {
      "cell_type": "code",
      "execution_count": null,
      "metadata": {
        "id": "Ovt1Pxa819hH"
      },
      "outputs": [],
      "source": []
    }
  ],
  "metadata": {
    "colab": {
      "toc_visible": true,
      "provenance": [],
      "mount_file_id": "1Fv_QtNpaSH8FEYoMCqRdaH1ZmCmamhRi",
      "authorship_tag": "ABX9TyNY2Hf9Y8Ejsv2yFzu4CavW"
    },
    "gpuClass": "standard",
    "kernelspec": {
      "display_name": "Python 3",
      "name": "python3"
    },
    "language_info": {
      "name": "python"
    },
    "accelerator": "GPU"
  },
  "nbformat": 4,
  "nbformat_minor": 0
}